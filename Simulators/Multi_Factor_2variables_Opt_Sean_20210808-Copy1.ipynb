{
 "cells": [
  {
   "cell_type": "markdown",
   "id": "16a1c517",
   "metadata": {},
   "source": [
    "# Multi Factor Optimization\n",
    "1. Read factor ranking from files.\n",
    "2. Assign weight for each factor\n",
    "3. Rank again with assigned weights for each factors\n",
    "4. Get Return based on rank\n"
   ]
  },
  {
   "cell_type": "markdown",
   "id": "7bfd7b51",
   "metadata": {},
   "source": [
    "# Read factor ranking from files"
   ]
  },
  {
   "cell_type": "code",
   "execution_count": 460,
   "id": "2ec8cb22",
   "metadata": {},
   "outputs": [],
   "source": [
    "import pandas as pd\n",
    "import numpy as np\n",
    "import sqlalchemy\n",
    "from urllib.parse import urlencode\n",
    "import requests\n",
    "from requests import Response\n",
    "import datetime as dt\n",
    "from datetime import time, date, timedelta\n",
    "from dateutil.relativedelta import relativedelta\n",
    "import itertools\n",
    "from math import ceil\n",
    "import matplotlib.pyplot as plt\n",
    "import seaborn as sns\n",
    "import plotly.graph_objects as go\n",
    "import warnings\n",
    "warnings.filterwarnings('ignore')"
   ]
  },
  {
   "cell_type": "code",
   "execution_count": 546,
   "id": "093d7c94",
   "metadata": {},
   "outputs": [
    {
     "name": "stdout",
     "output_type": "stream",
     "text": [
      "Empty DataFrame\n",
      "Columns: [weight1, weight2, cumul_return, mdd, return_mdd]\n",
      "Index: []\n"
     ]
    }
   ],
   "source": [
    "rank1 = pd.read_csv('ranks/Valuation/total equity_rank.csv') \n",
    "rank2 = pd.read_csv('ranks/Growth/operating_profit_growth_rank.csv')\n",
    "monthly_ret = pd.read_csv('ranks/monthly_ret.csv')\n",
    "opt_result=pd.DataFrame(columns=['weight1','weight2','cumul_return','mdd','return_mdd'])\n",
    "print(opt_result)"
   ]
  },
  {
   "cell_type": "code",
   "execution_count": 547,
   "id": "7efeaae1",
   "metadata": {},
   "outputs": [],
   "source": [
    "def rank_opt(rank1, rank2, init, unit,opt_result):\n",
    "    rank1 = rank1\n",
    "    rank2 = rank2\n",
    "    iterations = int(1/unit)\n",
    "    \n",
    "    counter=0\n",
    "    \n",
    "    for x in range(1, iterations) :\n",
    "        weight1 = init + unit*counter\n",
    "        weight2 = 1-weight1\n",
    "        counter=counter + 1 \n",
    "        rank_sum = rank1*weight1 + rank2*weight2\n",
    "        rank_sum.yr_month=rank1.yr_month\n",
    "        rank_rank=rank_sum.rank(axis=1, ascending=True, pct=True)\n",
    "        rank_rank.yr_month=rank1.yr_month\n",
    "        signal=rank_rank[rank_rank<=0.1].dropna(axis=1, how='all')\n",
    "        signal[signal>0]=1\n",
    "        signal.yr_month=rank1.yr_month\n",
    "        #signal.to_csv('ranks/multi_factor_signal.csv')\n",
    "        signal=signal.shift(1)\n",
    "        mm_hold=signal.count(axis=1).max()\n",
    "        profit_arr=(signal*monthly_ret[signal.columns.tolist()]).dropna(axis=1, how='all')\n",
    "\n",
    "\n",
    "        profit_arr['daily_ret']=profit_arr.mean(axis=1)\n",
    "\n",
    "        profit_arr['profit']=(profit_arr['daily_ret']+1).cumprod()\n",
    "        daily_profit=profit_arr['daily_ret'].tolist()\n",
    "        cumulative=profit_arr['profit'].dropna().tolist()\n",
    "        #print(daily_profit)\n",
    "        profit_arr['yr_month']=rank1.yr_month\n",
    "\n",
    "        win_arr = [x for x in daily_profit if x > 0]\n",
    "        loss_arr=[x for x in daily_profit if x < 0]\n",
    "        win_rate = len(win_arr) / (len(loss_arr)+len(win_arr))\n",
    "        dd_arr=[]\n",
    "        for i in range(len(cumulative)):\n",
    "            if i>0:\n",
    "                dd_arr.append((max(cumulative[:i])- cumulative[i-1])/max(cumulative[:i]))\n",
    "        max_dd=max(dd_arr)\n",
    "        print('weight1:{} and weight2:{}'.format(weight1,weight2))\n",
    "        print('CUMULATIVE PROFIT: {}'.format(round(cumulative[-1],4)))\n",
    "        print('MDD: {}' .format(max_dd))\n",
    "        print(\"mm_holding:{}------winrate:{}-----profit/MDD:{}\".format(mm_hold, round(win_rate,4), round(cumulative[-1]/max_dd,4)))\n",
    "        new_low ={'weight1':weight1, 'weight2':weight2,'cumul_return':round(cumulative[-1],4),'mdd':max_dd,'return_mdd':round(cumulative[-1]/max_dd,4)}\n",
    "        opt_result = opt_result\n",
    "        opt_result= opt_result.append(new_low,ignore_index=True)\n",
    "        opt_result.to_csv(\"Ranks/opt_result.csv\")\n",
    "    return round(cumulative[-1],4)"
   ]
  },
  {
   "cell_type": "code",
   "execution_count": 548,
   "id": "435f0541",
   "metadata": {},
   "outputs": [
    {
     "name": "stdout",
     "output_type": "stream",
     "text": [
      "weight1:0.01 and weight2:0.99\n",
      "CUMULATIVE PROFIT: 7.2159\n",
      "MDD: 0.1814443970053572\n",
      "mm_holding:34------winrate:0.7051-----profit/MDD:39.7695\n",
      "weight1:0.02 and weight2:0.98\n",
      "CUMULATIVE PROFIT: 6.9798\n",
      "MDD: 0.1781861868172605\n",
      "mm_holding:34------winrate:0.6923-----profit/MDD:39.1715\n",
      "weight1:0.03 and weight2:0.97\n",
      "CUMULATIVE PROFIT: 6.9077\n",
      "MDD: 0.18282749417480604\n",
      "mm_holding:34------winrate:0.6795-----profit/MDD:37.7827\n",
      "weight1:0.04 and weight2:0.96\n",
      "CUMULATIVE PROFIT: 6.9239\n",
      "MDD: 0.18135060616446777\n",
      "mm_holding:34------winrate:0.6795-----profit/MDD:38.1799\n",
      "weight1:0.05 and weight2:0.95\n",
      "CUMULATIVE PROFIT: 7.3384\n",
      "MDD: 0.18135060616446783\n",
      "mm_holding:34------winrate:0.6795-----profit/MDD:40.4651\n",
      "weight1:0.060000000000000005 and weight2:0.94\n",
      "CUMULATIVE PROFIT: 6.9646\n",
      "MDD: 0.20051163243525214\n",
      "mm_holding:34------winrate:0.6923-----profit/MDD:34.7339\n",
      "weight1:0.06999999999999999 and weight2:0.93\n",
      "CUMULATIVE PROFIT: 7.0253\n",
      "MDD: 0.20051163243525214\n",
      "mm_holding:34------winrate:0.6923-----profit/MDD:35.037\n",
      "weight1:0.08 and weight2:0.92\n",
      "CUMULATIVE PROFIT: 6.842\n",
      "MDD: 0.20051163243525214\n",
      "mm_holding:34------winrate:0.6923-----profit/MDD:34.1225\n",
      "weight1:0.09 and weight2:0.91\n",
      "CUMULATIVE PROFIT: 6.9268\n",
      "MDD: 0.19735930861230333\n",
      "mm_holding:34------winrate:0.6923-----profit/MDD:35.0972\n",
      "weight1:0.09999999999999999 and weight2:0.9\n",
      "CUMULATIVE PROFIT: 6.7241\n",
      "MDD: 0.19735930861230344\n",
      "mm_holding:34------winrate:0.7051-----profit/MDD:34.0704\n",
      "weight1:0.11 and weight2:0.89\n",
      "CUMULATIVE PROFIT: 6.983\n",
      "MDD: 0.1973593086123034\n",
      "mm_holding:34------winrate:0.6795-----profit/MDD:35.382\n",
      "weight1:0.12 and weight2:0.88\n",
      "CUMULATIVE PROFIT: 7.2057\n",
      "MDD: 0.19392687231699243\n",
      "mm_holding:34------winrate:0.6923-----profit/MDD:37.1566\n",
      "weight1:0.13 and weight2:0.87\n",
      "CUMULATIVE PROFIT: 7.0875\n",
      "MDD: 0.1957539520252142\n",
      "mm_holding:34------winrate:0.6923-----profit/MDD:36.206\n",
      "weight1:0.14 and weight2:0.86\n",
      "CUMULATIVE PROFIT: 7.7095\n",
      "MDD: 0.19575395202521403\n",
      "mm_holding:34------winrate:0.7051-----profit/MDD:39.3835\n",
      "weight1:0.15000000000000002 and weight2:0.85\n",
      "CUMULATIVE PROFIT: 7.7631\n",
      "MDD: 0.19456408353252352\n",
      "mm_holding:34------winrate:0.7051-----profit/MDD:39.8998\n",
      "weight1:0.16 and weight2:0.84\n",
      "CUMULATIVE PROFIT: 7.6923\n",
      "MDD: 0.19673925127499323\n",
      "mm_holding:34------winrate:0.6923-----profit/MDD:39.0992\n",
      "weight1:0.17 and weight2:0.83\n",
      "CUMULATIVE PROFIT: 7.9923\n",
      "MDD: 0.20021494620399996\n",
      "mm_holding:34------winrate:0.7179-----profit/MDD:39.9185\n",
      "weight1:0.18000000000000002 and weight2:0.82\n",
      "CUMULATIVE PROFIT: 8.4603\n",
      "MDD: 0.19914328871703016\n",
      "mm_holding:34------winrate:0.7308-----profit/MDD:42.4835\n",
      "weight1:0.19 and weight2:0.81\n",
      "CUMULATIVE PROFIT: 8.3958\n",
      "MDD: 0.1928516224487292\n",
      "mm_holding:34------winrate:0.7308-----profit/MDD:43.5349\n",
      "weight1:0.2 and weight2:0.8\n",
      "CUMULATIVE PROFIT: 8.2763\n",
      "MDD: 0.19285162244872928\n",
      "mm_holding:34------winrate:0.7436-----profit/MDD:42.9153\n",
      "weight1:0.21000000000000002 and weight2:0.79\n",
      "CUMULATIVE PROFIT: 7.9009\n",
      "MDD: 0.20184811254147975\n",
      "mm_holding:34------winrate:0.7436-----profit/MDD:39.1426\n",
      "weight1:0.22 and weight2:0.78\n",
      "CUMULATIVE PROFIT: 7.6519\n",
      "MDD: 0.2018481125414797\n",
      "mm_holding:34------winrate:0.7308-----profit/MDD:37.909\n",
      "weight1:0.23 and weight2:0.77\n",
      "CUMULATIVE PROFIT: 7.6357\n",
      "MDD: 0.20184811254147972\n",
      "mm_holding:34------winrate:0.7179-----profit/MDD:37.8287\n",
      "weight1:0.24000000000000002 and weight2:0.76\n",
      "CUMULATIVE PROFIT: 7.8512\n",
      "MDD: 0.19868598641471918\n",
      "mm_holding:34------winrate:0.7051-----profit/MDD:39.5155\n",
      "weight1:0.25 and weight2:0.75\n",
      "CUMULATIVE PROFIT: 8.0652\n",
      "MDD: 0.20097766499665\n",
      "mm_holding:34------winrate:0.7179-----profit/MDD:40.1297\n",
      "weight1:0.26 and weight2:0.74\n",
      "CUMULATIVE PROFIT: 8.2523\n",
      "MDD: 0.1984055986396186\n",
      "mm_holding:34------winrate:0.7179-----profit/MDD:41.5932\n",
      "weight1:0.27 and weight2:0.73\n",
      "CUMULATIVE PROFIT: 8.2013\n",
      "MDD: 0.1984055986396185\n",
      "mm_holding:34------winrate:0.7051-----profit/MDD:41.3361\n",
      "weight1:0.28 and weight2:0.72\n",
      "CUMULATIVE PROFIT: 8.3896\n",
      "MDD: 0.19824613123678103\n",
      "mm_holding:34------winrate:0.7179-----profit/MDD:42.3191\n",
      "weight1:0.29000000000000004 and weight2:0.71\n",
      "CUMULATIVE PROFIT: 8.1368\n",
      "MDD: 0.1981717299785374\n",
      "mm_holding:34------winrate:0.7179-----profit/MDD:41.0595\n",
      "weight1:0.3 and weight2:0.7\n",
      "CUMULATIVE PROFIT: 8.1943\n",
      "MDD: 0.20262110760105273\n",
      "mm_holding:34------winrate:0.7179-----profit/MDD:40.4417\n",
      "weight1:0.31 and weight2:0.69\n",
      "CUMULATIVE PROFIT: 8.9048\n",
      "MDD: 0.19938353608490683\n",
      "mm_holding:34------winrate:0.7179-----profit/MDD:44.6615\n",
      "weight1:0.32 and weight2:0.6799999999999999\n",
      "CUMULATIVE PROFIT: 8.9641\n",
      "MDD: 0.19724690743181436\n",
      "mm_holding:34------winrate:0.7179-----profit/MDD:45.4463\n",
      "weight1:0.33 and weight2:0.6699999999999999\n",
      "CUMULATIVE PROFIT: 8.9747\n",
      "MDD: 0.1972469074318143\n",
      "mm_holding:34------winrate:0.7179-----profit/MDD:45.4999\n",
      "weight1:0.34 and weight2:0.6599999999999999\n",
      "CUMULATIVE PROFIT: 9.0436\n",
      "MDD: 0.20006166394906214\n",
      "mm_holding:34------winrate:0.7308-----profit/MDD:45.2039\n",
      "weight1:0.35000000000000003 and weight2:0.6499999999999999\n",
      "CUMULATIVE PROFIT: 9.0281\n",
      "MDD: 0.19540357740724473\n",
      "mm_holding:34------winrate:0.7308-----profit/MDD:46.2025\n",
      "weight1:0.36000000000000004 and weight2:0.6399999999999999\n",
      "CUMULATIVE PROFIT: 8.9906\n",
      "MDD: 0.1990878527711499\n",
      "mm_holding:34------winrate:0.7308-----profit/MDD:45.1591\n",
      "weight1:0.37 and weight2:0.63\n",
      "CUMULATIVE PROFIT: 9.1053\n",
      "MDD: 0.19908785277114993\n",
      "mm_holding:34------winrate:0.7308-----profit/MDD:45.7352\n",
      "weight1:0.38 and weight2:0.62\n",
      "CUMULATIVE PROFIT: 9.5511\n",
      "MDD: 0.19459653916490874\n",
      "mm_holding:34------winrate:0.7308-----profit/MDD:49.0816\n",
      "weight1:0.39 and weight2:0.61\n",
      "CUMULATIVE PROFIT: 10.1032\n",
      "MDD: 0.19588372284191174\n",
      "mm_holding:34------winrate:0.7308-----profit/MDD:51.5775\n",
      "weight1:0.4 and weight2:0.6\n",
      "CUMULATIVE PROFIT: 10.5799\n",
      "MDD: 0.19588372284191177\n",
      "mm_holding:34------winrate:0.7308-----profit/MDD:54.0111\n",
      "weight1:0.41000000000000003 and weight2:0.59\n",
      "CUMULATIVE PROFIT: 10.5568\n",
      "MDD: 0.20063194142340596\n",
      "mm_holding:34------winrate:0.7179-----profit/MDD:52.6176\n",
      "weight1:0.42000000000000004 and weight2:0.58\n",
      "CUMULATIVE PROFIT: 10.0701\n",
      "MDD: 0.2006319414234059\n",
      "mm_holding:34------winrate:0.7179-----profit/MDD:50.1919\n",
      "weight1:0.43 and weight2:0.5700000000000001\n",
      "CUMULATIVE PROFIT: 10.3654\n",
      "MDD: 0.20292366187652255\n",
      "mm_holding:34------winrate:0.7051-----profit/MDD:51.0804\n",
      "weight1:0.44 and weight2:0.56\n",
      "CUMULATIVE PROFIT: 10.1301\n",
      "MDD: 0.2029236618765225\n",
      "mm_holding:34------winrate:0.7051-----profit/MDD:49.9206\n",
      "weight1:0.45 and weight2:0.55\n",
      "CUMULATIVE PROFIT: 9.9231\n",
      "MDD: 0.20848744416518292\n",
      "mm_holding:34------winrate:0.7179-----profit/MDD:47.5957\n",
      "weight1:0.46 and weight2:0.54\n",
      "CUMULATIVE PROFIT: 10.4665\n",
      "MDD: 0.2084874441651829\n",
      "mm_holding:34------winrate:0.7179-----profit/MDD:50.202\n",
      "weight1:0.47000000000000003 and weight2:0.53\n",
      "CUMULATIVE PROFIT: 10.6218\n",
      "MDD: 0.20802978599267616\n",
      "mm_holding:34------winrate:0.7179-----profit/MDD:51.0592\n",
      "weight1:0.48000000000000004 and weight2:0.52\n",
      "CUMULATIVE PROFIT: 10.7314\n",
      "MDD: 0.1893775145888248\n",
      "mm_holding:34------winrate:0.7179-----profit/MDD:56.6664\n",
      "weight1:0.49 and weight2:0.51\n",
      "CUMULATIVE PROFIT: 11.4835\n",
      "MDD: 0.1893775145888247\n",
      "mm_holding:34------winrate:0.7179-----profit/MDD:60.6381\n",
      "weight1:0.5 and weight2:0.5\n",
      "CUMULATIVE PROFIT: 11.3755\n",
      "MDD: 0.18937751458882462\n",
      "mm_holding:34------winrate:0.7051-----profit/MDD:60.0679\n",
      "weight1:0.51 and weight2:0.49\n",
      "CUMULATIVE PROFIT: 11.2327\n",
      "MDD: 0.1891151733964999\n",
      "mm_holding:34------winrate:0.7051-----profit/MDD:59.396\n",
      "weight1:0.52 and weight2:0.48\n",
      "CUMULATIVE PROFIT: 11.5695\n",
      "MDD: 0.18937383410299122\n",
      "mm_holding:34------winrate:0.7051-----profit/MDD:61.0934\n",
      "weight1:0.53 and weight2:0.47\n",
      "CUMULATIVE PROFIT: 12.2879\n",
      "MDD: 0.18937383410299116\n",
      "mm_holding:34------winrate:0.6923-----profit/MDD:64.8872\n",
      "weight1:0.54 and weight2:0.45999999999999996\n",
      "CUMULATIVE PROFIT: 12.1107\n",
      "MDD: 0.18937383410299105\n",
      "mm_holding:34------winrate:0.7051-----profit/MDD:63.9515\n",
      "weight1:0.55 and weight2:0.44999999999999996\n",
      "CUMULATIVE PROFIT: 12.2319\n",
      "MDD: 0.1912201706021228\n",
      "mm_holding:34------winrate:0.7179-----profit/MDD:63.9677\n",
      "weight1:0.56 and weight2:0.43999999999999995\n",
      "CUMULATIVE PROFIT: 12.2131\n",
      "MDD: 0.1857182081333547\n",
      "mm_holding:34------winrate:0.6923-----profit/MDD:65.7616\n",
      "weight1:0.5700000000000001 and weight2:0.42999999999999994\n",
      "CUMULATIVE PROFIT: 12.2966\n",
      "MDD: 0.1857182081333547\n",
      "mm_holding:34------winrate:0.6923-----profit/MDD:66.2109\n",
      "weight1:0.5800000000000001 and weight2:0.41999999999999993\n",
      "CUMULATIVE PROFIT: 11.7\n",
      "MDD: 0.18571820813335482\n",
      "mm_holding:34------winrate:0.7179-----profit/MDD:62.9985\n",
      "weight1:0.59 and weight2:0.41000000000000003\n",
      "CUMULATIVE PROFIT: 11.3807\n",
      "MDD: 0.18626630076029538\n",
      "mm_holding:34------winrate:0.7051-----profit/MDD:61.0993\n",
      "weight1:0.6 and weight2:0.4\n",
      "CUMULATIVE PROFIT: 12.4752\n",
      "MDD: 0.18442454266382527\n",
      "mm_holding:34------winrate:0.7051-----profit/MDD:67.6441\n",
      "weight1:0.61 and weight2:0.39\n",
      "CUMULATIVE PROFIT: 12.7735\n",
      "MDD: 0.18442454266382508\n",
      "mm_holding:34------winrate:0.7051-----profit/MDD:69.2615\n",
      "weight1:0.62 and weight2:0.38\n",
      "CUMULATIVE PROFIT: 12.8977\n",
      "MDD: 0.18937057985254688\n",
      "mm_holding:34------winrate:0.7051-----profit/MDD:68.108\n",
      "weight1:0.63 and weight2:0.37\n",
      "CUMULATIVE PROFIT: 13.0203\n",
      "MDD: 0.1975912165309884\n",
      "mm_holding:34------winrate:0.7051-----profit/MDD:65.8952\n",
      "weight1:0.64 and weight2:0.36\n",
      "CUMULATIVE PROFIT: 13.2248\n",
      "MDD: 0.19759121653098852\n",
      "mm_holding:34------winrate:0.7051-----profit/MDD:66.9303\n",
      "weight1:0.65 and weight2:0.35\n",
      "CUMULATIVE PROFIT: 13.5724\n",
      "MDD: 0.19639248933543235\n",
      "mm_holding:34------winrate:0.7051-----profit/MDD:69.1086\n",
      "weight1:0.66 and weight2:0.33999999999999997\n",
      "CUMULATIVE PROFIT: 13.6401\n",
      "MDD: 0.19991182440324312\n",
      "mm_holding:34------winrate:0.7179-----profit/MDD:68.2307\n",
      "weight1:0.67 and weight2:0.32999999999999996\n",
      "CUMULATIVE PROFIT: 14.5575\n",
      "MDD: 0.18685279543624758\n",
      "mm_holding:34------winrate:0.7436-----profit/MDD:77.9091\n",
      "weight1:0.68 and weight2:0.31999999999999995\n",
      "CUMULATIVE PROFIT: 15.2215\n",
      "MDD: 0.1636177570646746\n",
      "mm_holding:34------winrate:0.7308-----profit/MDD:93.0311\n"
     ]
    },
    {
     "name": "stdout",
     "output_type": "stream",
     "text": [
      "weight1:0.6900000000000001 and weight2:0.30999999999999994\n",
      "CUMULATIVE PROFIT: 15.5093\n",
      "MDD: 0.17658006953180266\n",
      "mm_holding:34------winrate:0.7308-----profit/MDD:87.8315\n",
      "weight1:0.7000000000000001 and weight2:0.29999999999999993\n",
      "CUMULATIVE PROFIT: 15.0494\n",
      "MDD: 0.174559841451938\n",
      "mm_holding:34------winrate:0.7308-----profit/MDD:86.2135\n",
      "weight1:0.7100000000000001 and weight2:0.2899999999999999\n",
      "CUMULATIVE PROFIT: 14.2595\n",
      "MDD: 0.17455984145193806\n",
      "mm_holding:34------winrate:0.7051-----profit/MDD:81.6886\n",
      "weight1:0.72 and weight2:0.28\n",
      "CUMULATIVE PROFIT: 14.4068\n",
      "MDD: 0.17513654272068077\n",
      "mm_holding:34------winrate:0.7051-----profit/MDD:82.2606\n",
      "weight1:0.73 and weight2:0.27\n",
      "CUMULATIVE PROFIT: 14.9738\n",
      "MDD: 0.17513654272068077\n",
      "mm_holding:34------winrate:0.7051-----profit/MDD:85.498\n",
      "weight1:0.74 and weight2:0.26\n",
      "CUMULATIVE PROFIT: 14.9074\n",
      "MDD: 0.17513654272068083\n",
      "mm_holding:34------winrate:0.6923-----profit/MDD:85.1188\n",
      "weight1:0.75 and weight2:0.25\n",
      "CUMULATIVE PROFIT: 14.437\n",
      "MDD: 0.17513654272068074\n",
      "mm_holding:34------winrate:0.6795-----profit/MDD:82.4329\n",
      "weight1:0.76 and weight2:0.24\n",
      "CUMULATIVE PROFIT: 15.0394\n",
      "MDD: 0.1751365427206808\n",
      "mm_holding:34------winrate:0.7051-----profit/MDD:85.8726\n",
      "weight1:0.77 and weight2:0.22999999999999998\n",
      "CUMULATIVE PROFIT: 14.5877\n",
      "MDD: 0.16937237800512583\n",
      "mm_holding:34------winrate:0.6923-----profit/MDD:86.1279\n",
      "weight1:0.78 and weight2:0.21999999999999997\n",
      "CUMULATIVE PROFIT: 14.4264\n",
      "MDD: 0.17508139789972332\n",
      "mm_holding:34------winrate:0.7051-----profit/MDD:82.3981\n",
      "weight1:0.79 and weight2:0.20999999999999996\n",
      "CUMULATIVE PROFIT: 15.1531\n",
      "MDD: 0.16055894708202603\n",
      "mm_holding:34------winrate:0.7308-----profit/MDD:94.377\n",
      "weight1:0.8 and weight2:0.19999999999999996\n",
      "CUMULATIVE PROFIT: 15.7453\n",
      "MDD: 0.15881003319197967\n",
      "mm_holding:34------winrate:0.7308-----profit/MDD:99.1455\n",
      "weight1:0.81 and weight2:0.18999999999999995\n",
      "CUMULATIVE PROFIT: 15.0649\n",
      "MDD: 0.16498621723299303\n",
      "mm_holding:34------winrate:0.7051-----profit/MDD:91.31\n",
      "weight1:0.8200000000000001 and weight2:0.17999999999999994\n",
      "CUMULATIVE PROFIT: 14.3631\n",
      "MDD: 0.16793325178060123\n",
      "mm_holding:34------winrate:0.6795-----profit/MDD:85.5289\n",
      "weight1:0.8300000000000001 and weight2:0.16999999999999993\n",
      "CUMULATIVE PROFIT: 15.1671\n",
      "MDD: 0.15709211136410087\n",
      "mm_holding:34------winrate:0.6667-----profit/MDD:96.549\n",
      "weight1:0.8400000000000001 and weight2:0.15999999999999992\n",
      "CUMULATIVE PROFIT: 13.7381\n",
      "MDD: 0.1624538122574759\n",
      "mm_holding:34------winrate:0.641-----profit/MDD:84.566\n",
      "weight1:0.85 and weight2:0.15000000000000002\n",
      "CUMULATIVE PROFIT: 13.5112\n",
      "MDD: 0.16907188296667977\n",
      "mm_holding:34------winrate:0.641-----profit/MDD:79.9139\n",
      "weight1:0.86 and weight2:0.14\n",
      "CUMULATIVE PROFIT: 12.5399\n",
      "MDD: 0.1651397501418134\n",
      "mm_holding:34------winrate:0.641-----profit/MDD:75.9351\n",
      "weight1:0.87 and weight2:0.13\n",
      "CUMULATIVE PROFIT: 13.3163\n",
      "MDD: 0.17420884267446216\n",
      "mm_holding:34------winrate:0.641-----profit/MDD:76.439\n",
      "weight1:0.88 and weight2:0.12\n",
      "CUMULATIVE PROFIT: 13.4745\n",
      "MDD: 0.17708508895841632\n",
      "mm_holding:34------winrate:0.6538-----profit/MDD:76.0907\n",
      "weight1:0.89 and weight2:0.10999999999999999\n",
      "CUMULATIVE PROFIT: 12.5206\n",
      "MDD: 0.17708508895841638\n",
      "mm_holding:34------winrate:0.641-----profit/MDD:70.7041\n",
      "weight1:0.9 and weight2:0.09999999999999998\n",
      "CUMULATIVE PROFIT: 11.8771\n",
      "MDD: 0.17608688117494062\n",
      "mm_holding:34------winrate:0.6667-----profit/MDD:67.4499\n",
      "weight1:0.91 and weight2:0.08999999999999997\n",
      "CUMULATIVE PROFIT: 11.5373\n",
      "MDD: 0.1782949585564447\n",
      "mm_holding:34------winrate:0.6538-----profit/MDD:64.7088\n",
      "weight1:0.92 and weight2:0.07999999999999996\n",
      "CUMULATIVE PROFIT: 11.1565\n",
      "MDD: 0.17466452759746717\n",
      "mm_holding:34------winrate:0.6538-----profit/MDD:63.8738\n",
      "weight1:0.93 and weight2:0.06999999999999995\n",
      "CUMULATIVE PROFIT: 10.2845\n",
      "MDD: 0.17401723338629263\n",
      "mm_holding:34------winrate:0.6282-----profit/MDD:59.1007\n",
      "weight1:0.9400000000000001 and weight2:0.05999999999999994\n",
      "CUMULATIVE PROFIT: 10.5455\n",
      "MDD: 0.16862104303726075\n",
      "mm_holding:34------winrate:0.6282-----profit/MDD:62.5399\n",
      "weight1:0.9500000000000001 and weight2:0.04999999999999993\n",
      "CUMULATIVE PROFIT: 10.0527\n",
      "MDD: 0.16605228693159146\n",
      "mm_holding:34------winrate:0.6282-----profit/MDD:60.5395\n",
      "weight1:0.9600000000000001 and weight2:0.039999999999999925\n",
      "CUMULATIVE PROFIT: 10.1642\n",
      "MDD: 0.17540509228503132\n",
      "mm_holding:34------winrate:0.6282-----profit/MDD:57.947\n",
      "weight1:0.97 and weight2:0.030000000000000027\n",
      "CUMULATIVE PROFIT: 9.1283\n",
      "MDD: 0.1909882466671682\n",
      "mm_holding:34------winrate:0.6154-----profit/MDD:47.7951\n",
      "weight1:0.98 and weight2:0.020000000000000018\n",
      "CUMULATIVE PROFIT: 9.4083\n",
      "MDD: 0.18536529310301753\n",
      "mm_holding:34------winrate:0.6154-----profit/MDD:50.7552\n",
      "weight1:0.99 and weight2:0.010000000000000009\n",
      "CUMULATIVE PROFIT: 8.6574\n",
      "MDD: 0.23459565492153334\n",
      "mm_holding:34------winrate:0.6026-----profit/MDD:36.9035\n"
     ]
    },
    {
     "data": {
      "text/plain": [
       "8.6574"
      ]
     },
     "execution_count": 548,
     "metadata": {},
     "output_type": "execute_result"
    }
   ],
   "source": [
    "rank_opt(rank1, rank2, 0.01,0.01,opt_result)"
   ]
  },
  {
   "cell_type": "code",
   "execution_count": 549,
   "id": "b55ff971",
   "metadata": {
    "scrolled": false
   },
   "outputs": [],
   "source": [
    "opt_result = pd.read_csv('ranks/opt_result.csv') "
   ]
  },
  {
   "cell_type": "code",
   "execution_count": 550,
   "id": "9e0770f4",
   "metadata": {
    "scrolled": true
   },
   "outputs": [
    {
     "name": "stdout",
     "output_type": "stream",
     "text": [
      "    Unnamed: 0  weight1  weight2  cumul_return       mdd  return_mdd\n",
      "0            0     0.01     0.99        7.2159  0.181444     39.7695\n",
      "1            1     0.02     0.98        6.9798  0.178186     39.1715\n",
      "2            2     0.03     0.97        6.9077  0.182827     37.7827\n",
      "3            3     0.04     0.96        6.9239  0.181351     38.1799\n",
      "4            4     0.05     0.95        7.3384  0.181351     40.4651\n",
      "..         ...      ...      ...           ...       ...         ...\n",
      "94          94     0.95     0.05       10.0527  0.166052     60.5395\n",
      "95          95     0.96     0.04       10.1642  0.175405     57.9470\n",
      "96          96     0.97     0.03        9.1283  0.190988     47.7951\n",
      "97          97     0.98     0.02        9.4083  0.185365     50.7552\n",
      "98          98     0.99     0.01        8.6574  0.234596     36.9035\n",
      "\n",
      "[99 rows x 6 columns]\n"
     ]
    }
   ],
   "source": [
    "print(opt_result)"
   ]
  },
  {
   "cell_type": "code",
   "execution_count": 551,
   "id": "b7e5ec8a",
   "metadata": {
    "scrolled": true
   },
   "outputs": [
    {
     "data": {
      "application/vnd.plotly.v1+json": {
       "config": {
        "plotlyServerURL": "https://plot.ly"
       },
       "data": [
        {
         "mode": "lines",
         "name": "cumulative",
         "type": "scatter",
         "x": [
          0.01,
          0.02,
          0.03,
          0.04,
          0.05,
          0.06,
          0.0699999999999999,
          0.08,
          0.09,
          0.0999999999999999,
          0.11,
          0.12,
          0.13,
          0.14,
          0.15,
          0.16,
          0.17,
          0.18,
          0.19,
          0.2,
          0.21,
          0.22,
          0.23,
          0.24,
          0.25,
          0.26,
          0.27,
          0.28,
          0.29,
          0.3,
          0.31,
          0.32,
          0.33,
          0.34,
          0.35,
          0.36,
          0.37,
          0.38,
          0.39,
          0.4,
          0.41,
          0.42,
          0.43,
          0.44,
          0.45,
          0.46,
          0.47,
          0.48,
          0.49,
          0.5,
          0.51,
          0.52,
          0.53,
          0.54,
          0.55,
          0.56,
          0.5700000000000001,
          0.5800000000000001,
          0.59,
          0.6,
          0.61,
          0.62,
          0.63,
          0.64,
          0.65,
          0.66,
          0.67,
          0.68,
          0.6900000000000001,
          0.7000000000000001,
          0.7100000000000001,
          0.72,
          0.73,
          0.74,
          0.75,
          0.76,
          0.77,
          0.78,
          0.79,
          0.8,
          0.81,
          0.8200000000000001,
          0.8300000000000001,
          0.8400000000000001,
          0.85,
          0.86,
          0.87,
          0.88,
          0.89,
          0.9,
          0.91,
          0.92,
          0.93,
          0.94,
          0.95,
          0.96,
          0.97,
          0.98,
          0.99
         ],
         "y": [
          7.2159,
          6.9798,
          6.9077,
          6.9239,
          7.3384,
          6.9646,
          7.0253,
          6.842,
          6.9268,
          6.7241,
          6.983,
          7.2057,
          7.0875,
          7.7095,
          7.7631,
          7.6923,
          7.9923,
          8.4603,
          8.3958,
          8.2763,
          7.9009,
          7.6519,
          7.6357,
          7.8512,
          8.0652,
          8.2523,
          8.2013,
          8.3896,
          8.1368,
          8.1943,
          8.9048,
          8.9641,
          8.9747,
          9.0436,
          9.0281,
          8.9906,
          9.1053,
          9.5511,
          10.1032,
          10.5799,
          10.5568,
          10.0701,
          10.3654,
          10.1301,
          9.9231,
          10.4665,
          10.6218,
          10.7314,
          11.4835,
          11.3755,
          11.2327,
          11.5695,
          12.2879,
          12.1107,
          12.2319,
          12.2131,
          12.2966,
          11.7,
          11.3807,
          12.4752,
          12.7735,
          12.8977,
          13.0203,
          13.2248,
          13.5724,
          13.6401,
          14.5575,
          15.2215,
          15.5093,
          15.0494,
          14.2595,
          14.4068,
          14.9738,
          14.9074,
          14.437,
          15.0394,
          14.5877,
          14.4264,
          15.1531,
          15.7453,
          15.0649,
          14.3631,
          15.1671,
          13.7381,
          13.5112,
          12.5399,
          13.3163,
          13.4745,
          12.5206,
          11.8771,
          11.5373,
          11.1565,
          10.2845,
          10.5455,
          10.0527,
          10.1642,
          9.1283,
          9.4083,
          8.6574
         ]
        }
       ],
       "layout": {
        "template": {
         "data": {
          "bar": [
           {
            "error_x": {
             "color": "#2a3f5f"
            },
            "error_y": {
             "color": "#2a3f5f"
            },
            "marker": {
             "line": {
              "color": "#E5ECF6",
              "width": 0.5
             },
             "pattern": {
              "fillmode": "overlay",
              "size": 10,
              "solidity": 0.2
             }
            },
            "type": "bar"
           }
          ],
          "barpolar": [
           {
            "marker": {
             "line": {
              "color": "#E5ECF6",
              "width": 0.5
             },
             "pattern": {
              "fillmode": "overlay",
              "size": 10,
              "solidity": 0.2
             }
            },
            "type": "barpolar"
           }
          ],
          "carpet": [
           {
            "aaxis": {
             "endlinecolor": "#2a3f5f",
             "gridcolor": "white",
             "linecolor": "white",
             "minorgridcolor": "white",
             "startlinecolor": "#2a3f5f"
            },
            "baxis": {
             "endlinecolor": "#2a3f5f",
             "gridcolor": "white",
             "linecolor": "white",
             "minorgridcolor": "white",
             "startlinecolor": "#2a3f5f"
            },
            "type": "carpet"
           }
          ],
          "choropleth": [
           {
            "colorbar": {
             "outlinewidth": 0,
             "ticks": ""
            },
            "type": "choropleth"
           }
          ],
          "contour": [
           {
            "colorbar": {
             "outlinewidth": 0,
             "ticks": ""
            },
            "colorscale": [
             [
              0,
              "#0d0887"
             ],
             [
              0.1111111111111111,
              "#46039f"
             ],
             [
              0.2222222222222222,
              "#7201a8"
             ],
             [
              0.3333333333333333,
              "#9c179e"
             ],
             [
              0.4444444444444444,
              "#bd3786"
             ],
             [
              0.5555555555555556,
              "#d8576b"
             ],
             [
              0.6666666666666666,
              "#ed7953"
             ],
             [
              0.7777777777777778,
              "#fb9f3a"
             ],
             [
              0.8888888888888888,
              "#fdca26"
             ],
             [
              1,
              "#f0f921"
             ]
            ],
            "type": "contour"
           }
          ],
          "contourcarpet": [
           {
            "colorbar": {
             "outlinewidth": 0,
             "ticks": ""
            },
            "type": "contourcarpet"
           }
          ],
          "heatmap": [
           {
            "colorbar": {
             "outlinewidth": 0,
             "ticks": ""
            },
            "colorscale": [
             [
              0,
              "#0d0887"
             ],
             [
              0.1111111111111111,
              "#46039f"
             ],
             [
              0.2222222222222222,
              "#7201a8"
             ],
             [
              0.3333333333333333,
              "#9c179e"
             ],
             [
              0.4444444444444444,
              "#bd3786"
             ],
             [
              0.5555555555555556,
              "#d8576b"
             ],
             [
              0.6666666666666666,
              "#ed7953"
             ],
             [
              0.7777777777777778,
              "#fb9f3a"
             ],
             [
              0.8888888888888888,
              "#fdca26"
             ],
             [
              1,
              "#f0f921"
             ]
            ],
            "type": "heatmap"
           }
          ],
          "heatmapgl": [
           {
            "colorbar": {
             "outlinewidth": 0,
             "ticks": ""
            },
            "colorscale": [
             [
              0,
              "#0d0887"
             ],
             [
              0.1111111111111111,
              "#46039f"
             ],
             [
              0.2222222222222222,
              "#7201a8"
             ],
             [
              0.3333333333333333,
              "#9c179e"
             ],
             [
              0.4444444444444444,
              "#bd3786"
             ],
             [
              0.5555555555555556,
              "#d8576b"
             ],
             [
              0.6666666666666666,
              "#ed7953"
             ],
             [
              0.7777777777777778,
              "#fb9f3a"
             ],
             [
              0.8888888888888888,
              "#fdca26"
             ],
             [
              1,
              "#f0f921"
             ]
            ],
            "type": "heatmapgl"
           }
          ],
          "histogram": [
           {
            "marker": {
             "pattern": {
              "fillmode": "overlay",
              "size": 10,
              "solidity": 0.2
             }
            },
            "type": "histogram"
           }
          ],
          "histogram2d": [
           {
            "colorbar": {
             "outlinewidth": 0,
             "ticks": ""
            },
            "colorscale": [
             [
              0,
              "#0d0887"
             ],
             [
              0.1111111111111111,
              "#46039f"
             ],
             [
              0.2222222222222222,
              "#7201a8"
             ],
             [
              0.3333333333333333,
              "#9c179e"
             ],
             [
              0.4444444444444444,
              "#bd3786"
             ],
             [
              0.5555555555555556,
              "#d8576b"
             ],
             [
              0.6666666666666666,
              "#ed7953"
             ],
             [
              0.7777777777777778,
              "#fb9f3a"
             ],
             [
              0.8888888888888888,
              "#fdca26"
             ],
             [
              1,
              "#f0f921"
             ]
            ],
            "type": "histogram2d"
           }
          ],
          "histogram2dcontour": [
           {
            "colorbar": {
             "outlinewidth": 0,
             "ticks": ""
            },
            "colorscale": [
             [
              0,
              "#0d0887"
             ],
             [
              0.1111111111111111,
              "#46039f"
             ],
             [
              0.2222222222222222,
              "#7201a8"
             ],
             [
              0.3333333333333333,
              "#9c179e"
             ],
             [
              0.4444444444444444,
              "#bd3786"
             ],
             [
              0.5555555555555556,
              "#d8576b"
             ],
             [
              0.6666666666666666,
              "#ed7953"
             ],
             [
              0.7777777777777778,
              "#fb9f3a"
             ],
             [
              0.8888888888888888,
              "#fdca26"
             ],
             [
              1,
              "#f0f921"
             ]
            ],
            "type": "histogram2dcontour"
           }
          ],
          "mesh3d": [
           {
            "colorbar": {
             "outlinewidth": 0,
             "ticks": ""
            },
            "type": "mesh3d"
           }
          ],
          "parcoords": [
           {
            "line": {
             "colorbar": {
              "outlinewidth": 0,
              "ticks": ""
             }
            },
            "type": "parcoords"
           }
          ],
          "pie": [
           {
            "automargin": true,
            "type": "pie"
           }
          ],
          "scatter": [
           {
            "marker": {
             "colorbar": {
              "outlinewidth": 0,
              "ticks": ""
             }
            },
            "type": "scatter"
           }
          ],
          "scatter3d": [
           {
            "line": {
             "colorbar": {
              "outlinewidth": 0,
              "ticks": ""
             }
            },
            "marker": {
             "colorbar": {
              "outlinewidth": 0,
              "ticks": ""
             }
            },
            "type": "scatter3d"
           }
          ],
          "scattercarpet": [
           {
            "marker": {
             "colorbar": {
              "outlinewidth": 0,
              "ticks": ""
             }
            },
            "type": "scattercarpet"
           }
          ],
          "scattergeo": [
           {
            "marker": {
             "colorbar": {
              "outlinewidth": 0,
              "ticks": ""
             }
            },
            "type": "scattergeo"
           }
          ],
          "scattergl": [
           {
            "marker": {
             "colorbar": {
              "outlinewidth": 0,
              "ticks": ""
             }
            },
            "type": "scattergl"
           }
          ],
          "scattermapbox": [
           {
            "marker": {
             "colorbar": {
              "outlinewidth": 0,
              "ticks": ""
             }
            },
            "type": "scattermapbox"
           }
          ],
          "scatterpolar": [
           {
            "marker": {
             "colorbar": {
              "outlinewidth": 0,
              "ticks": ""
             }
            },
            "type": "scatterpolar"
           }
          ],
          "scatterpolargl": [
           {
            "marker": {
             "colorbar": {
              "outlinewidth": 0,
              "ticks": ""
             }
            },
            "type": "scatterpolargl"
           }
          ],
          "scatterternary": [
           {
            "marker": {
             "colorbar": {
              "outlinewidth": 0,
              "ticks": ""
             }
            },
            "type": "scatterternary"
           }
          ],
          "surface": [
           {
            "colorbar": {
             "outlinewidth": 0,
             "ticks": ""
            },
            "colorscale": [
             [
              0,
              "#0d0887"
             ],
             [
              0.1111111111111111,
              "#46039f"
             ],
             [
              0.2222222222222222,
              "#7201a8"
             ],
             [
              0.3333333333333333,
              "#9c179e"
             ],
             [
              0.4444444444444444,
              "#bd3786"
             ],
             [
              0.5555555555555556,
              "#d8576b"
             ],
             [
              0.6666666666666666,
              "#ed7953"
             ],
             [
              0.7777777777777778,
              "#fb9f3a"
             ],
             [
              0.8888888888888888,
              "#fdca26"
             ],
             [
              1,
              "#f0f921"
             ]
            ],
            "type": "surface"
           }
          ],
          "table": [
           {
            "cells": {
             "fill": {
              "color": "#EBF0F8"
             },
             "line": {
              "color": "white"
             }
            },
            "header": {
             "fill": {
              "color": "#C8D4E3"
             },
             "line": {
              "color": "white"
             }
            },
            "type": "table"
           }
          ]
         },
         "layout": {
          "annotationdefaults": {
           "arrowcolor": "#2a3f5f",
           "arrowhead": 0,
           "arrowwidth": 1
          },
          "autotypenumbers": "strict",
          "coloraxis": {
           "colorbar": {
            "outlinewidth": 0,
            "ticks": ""
           }
          },
          "colorscale": {
           "diverging": [
            [
             0,
             "#8e0152"
            ],
            [
             0.1,
             "#c51b7d"
            ],
            [
             0.2,
             "#de77ae"
            ],
            [
             0.3,
             "#f1b6da"
            ],
            [
             0.4,
             "#fde0ef"
            ],
            [
             0.5,
             "#f7f7f7"
            ],
            [
             0.6,
             "#e6f5d0"
            ],
            [
             0.7,
             "#b8e186"
            ],
            [
             0.8,
             "#7fbc41"
            ],
            [
             0.9,
             "#4d9221"
            ],
            [
             1,
             "#276419"
            ]
           ],
           "sequential": [
            [
             0,
             "#0d0887"
            ],
            [
             0.1111111111111111,
             "#46039f"
            ],
            [
             0.2222222222222222,
             "#7201a8"
            ],
            [
             0.3333333333333333,
             "#9c179e"
            ],
            [
             0.4444444444444444,
             "#bd3786"
            ],
            [
             0.5555555555555556,
             "#d8576b"
            ],
            [
             0.6666666666666666,
             "#ed7953"
            ],
            [
             0.7777777777777778,
             "#fb9f3a"
            ],
            [
             0.8888888888888888,
             "#fdca26"
            ],
            [
             1,
             "#f0f921"
            ]
           ],
           "sequentialminus": [
            [
             0,
             "#0d0887"
            ],
            [
             0.1111111111111111,
             "#46039f"
            ],
            [
             0.2222222222222222,
             "#7201a8"
            ],
            [
             0.3333333333333333,
             "#9c179e"
            ],
            [
             0.4444444444444444,
             "#bd3786"
            ],
            [
             0.5555555555555556,
             "#d8576b"
            ],
            [
             0.6666666666666666,
             "#ed7953"
            ],
            [
             0.7777777777777778,
             "#fb9f3a"
            ],
            [
             0.8888888888888888,
             "#fdca26"
            ],
            [
             1,
             "#f0f921"
            ]
           ]
          },
          "colorway": [
           "#636efa",
           "#EF553B",
           "#00cc96",
           "#ab63fa",
           "#FFA15A",
           "#19d3f3",
           "#FF6692",
           "#B6E880",
           "#FF97FF",
           "#FECB52"
          ],
          "font": {
           "color": "#2a3f5f"
          },
          "geo": {
           "bgcolor": "white",
           "lakecolor": "white",
           "landcolor": "#E5ECF6",
           "showlakes": true,
           "showland": true,
           "subunitcolor": "white"
          },
          "hoverlabel": {
           "align": "left"
          },
          "hovermode": "closest",
          "mapbox": {
           "style": "light"
          },
          "paper_bgcolor": "white",
          "plot_bgcolor": "#E5ECF6",
          "polar": {
           "angularaxis": {
            "gridcolor": "white",
            "linecolor": "white",
            "ticks": ""
           },
           "bgcolor": "#E5ECF6",
           "radialaxis": {
            "gridcolor": "white",
            "linecolor": "white",
            "ticks": ""
           }
          },
          "scene": {
           "xaxis": {
            "backgroundcolor": "#E5ECF6",
            "gridcolor": "white",
            "gridwidth": 2,
            "linecolor": "white",
            "showbackground": true,
            "ticks": "",
            "zerolinecolor": "white"
           },
           "yaxis": {
            "backgroundcolor": "#E5ECF6",
            "gridcolor": "white",
            "gridwidth": 2,
            "linecolor": "white",
            "showbackground": true,
            "ticks": "",
            "zerolinecolor": "white"
           },
           "zaxis": {
            "backgroundcolor": "#E5ECF6",
            "gridcolor": "white",
            "gridwidth": 2,
            "linecolor": "white",
            "showbackground": true,
            "ticks": "",
            "zerolinecolor": "white"
           }
          },
          "shapedefaults": {
           "line": {
            "color": "#2a3f5f"
           }
          },
          "ternary": {
           "aaxis": {
            "gridcolor": "white",
            "linecolor": "white",
            "ticks": ""
           },
           "baxis": {
            "gridcolor": "white",
            "linecolor": "white",
            "ticks": ""
           },
           "bgcolor": "#E5ECF6",
           "caxis": {
            "gridcolor": "white",
            "linecolor": "white",
            "ticks": ""
           }
          },
          "title": {
           "x": 0.05
          },
          "xaxis": {
           "automargin": true,
           "gridcolor": "white",
           "linecolor": "white",
           "ticks": "",
           "title": {
            "standoff": 15
           },
           "zerolinecolor": "white",
           "zerolinewidth": 2
          },
          "yaxis": {
           "automargin": true,
           "gridcolor": "white",
           "linecolor": "white",
           "ticks": "",
           "title": {
            "standoff": 15
           },
           "zerolinecolor": "white",
           "zerolinewidth": 2
          }
         }
        }
       }
      },
      "text/html": [
       "<div>                            <div id=\"9fc9dcd4-4fc6-48d8-a09d-46b160bf9d5f\" class=\"plotly-graph-div\" style=\"height:525px; width:100%;\"></div>            <script type=\"text/javascript\">                require([\"plotly\"], function(Plotly) {                    window.PLOTLYENV=window.PLOTLYENV || {};                                    if (document.getElementById(\"9fc9dcd4-4fc6-48d8-a09d-46b160bf9d5f\")) {                    Plotly.newPlot(                        \"9fc9dcd4-4fc6-48d8-a09d-46b160bf9d5f\",                        [{\"mode\":\"lines\",\"name\":\"cumulative\",\"type\":\"scatter\",\"x\":[0.01,0.02,0.03,0.04,0.05,0.06,0.0699999999999999,0.08,0.09,0.0999999999999999,0.11,0.12,0.13,0.14,0.15,0.16,0.17,0.18,0.19,0.2,0.21,0.22,0.23,0.24,0.25,0.26,0.27,0.28,0.29,0.3,0.31,0.32,0.33,0.34,0.35,0.36,0.37,0.38,0.39,0.4,0.41,0.42,0.43,0.44,0.45,0.46,0.47,0.48,0.49,0.5,0.51,0.52,0.53,0.54,0.55,0.56,0.5700000000000001,0.5800000000000001,0.59,0.6,0.61,0.62,0.63,0.64,0.65,0.66,0.67,0.68,0.6900000000000001,0.7000000000000001,0.7100000000000001,0.72,0.73,0.74,0.75,0.76,0.77,0.78,0.79,0.8,0.81,0.8200000000000001,0.8300000000000001,0.8400000000000001,0.85,0.86,0.87,0.88,0.89,0.9,0.91,0.92,0.93,0.94,0.95,0.96,0.97,0.98,0.99],\"y\":[7.2159,6.9798,6.9077,6.9239,7.3384,6.9646,7.0253,6.842,6.9268,6.7241,6.983,7.2057,7.0875,7.7095,7.7631,7.6923,7.9923,8.4603,8.3958,8.2763,7.9009,7.6519,7.6357,7.8512,8.0652,8.2523,8.2013,8.3896,8.1368,8.1943,8.9048,8.9641,8.9747,9.0436,9.0281,8.9906,9.1053,9.5511,10.1032,10.5799,10.5568,10.0701,10.3654,10.1301,9.9231,10.4665,10.6218,10.7314,11.4835,11.3755,11.2327,11.5695,12.2879,12.1107,12.2319,12.2131,12.2966,11.7,11.3807,12.4752,12.7735,12.8977,13.0203,13.2248,13.5724,13.6401,14.5575,15.2215,15.5093,15.0494,14.2595,14.4068,14.9738,14.9074,14.437,15.0394,14.5877,14.4264,15.1531,15.7453,15.0649,14.3631,15.1671,13.7381,13.5112,12.5399,13.3163,13.4745,12.5206,11.8771,11.5373,11.1565,10.2845,10.5455,10.0527,10.1642,9.1283,9.4083,8.6574]}],                        {\"template\":{\"data\":{\"bar\":[{\"error_x\":{\"color\":\"#2a3f5f\"},\"error_y\":{\"color\":\"#2a3f5f\"},\"marker\":{\"line\":{\"color\":\"#E5ECF6\",\"width\":0.5},\"pattern\":{\"fillmode\":\"overlay\",\"size\":10,\"solidity\":0.2}},\"type\":\"bar\"}],\"barpolar\":[{\"marker\":{\"line\":{\"color\":\"#E5ECF6\",\"width\":0.5},\"pattern\":{\"fillmode\":\"overlay\",\"size\":10,\"solidity\":0.2}},\"type\":\"barpolar\"}],\"carpet\":[{\"aaxis\":{\"endlinecolor\":\"#2a3f5f\",\"gridcolor\":\"white\",\"linecolor\":\"white\",\"minorgridcolor\":\"white\",\"startlinecolor\":\"#2a3f5f\"},\"baxis\":{\"endlinecolor\":\"#2a3f5f\",\"gridcolor\":\"white\",\"linecolor\":\"white\",\"minorgridcolor\":\"white\",\"startlinecolor\":\"#2a3f5f\"},\"type\":\"carpet\"}],\"choropleth\":[{\"colorbar\":{\"outlinewidth\":0,\"ticks\":\"\"},\"type\":\"choropleth\"}],\"contour\":[{\"colorbar\":{\"outlinewidth\":0,\"ticks\":\"\"},\"colorscale\":[[0.0,\"#0d0887\"],[0.1111111111111111,\"#46039f\"],[0.2222222222222222,\"#7201a8\"],[0.3333333333333333,\"#9c179e\"],[0.4444444444444444,\"#bd3786\"],[0.5555555555555556,\"#d8576b\"],[0.6666666666666666,\"#ed7953\"],[0.7777777777777778,\"#fb9f3a\"],[0.8888888888888888,\"#fdca26\"],[1.0,\"#f0f921\"]],\"type\":\"contour\"}],\"contourcarpet\":[{\"colorbar\":{\"outlinewidth\":0,\"ticks\":\"\"},\"type\":\"contourcarpet\"}],\"heatmap\":[{\"colorbar\":{\"outlinewidth\":0,\"ticks\":\"\"},\"colorscale\":[[0.0,\"#0d0887\"],[0.1111111111111111,\"#46039f\"],[0.2222222222222222,\"#7201a8\"],[0.3333333333333333,\"#9c179e\"],[0.4444444444444444,\"#bd3786\"],[0.5555555555555556,\"#d8576b\"],[0.6666666666666666,\"#ed7953\"],[0.7777777777777778,\"#fb9f3a\"],[0.8888888888888888,\"#fdca26\"],[1.0,\"#f0f921\"]],\"type\":\"heatmap\"}],\"heatmapgl\":[{\"colorbar\":{\"outlinewidth\":0,\"ticks\":\"\"},\"colorscale\":[[0.0,\"#0d0887\"],[0.1111111111111111,\"#46039f\"],[0.2222222222222222,\"#7201a8\"],[0.3333333333333333,\"#9c179e\"],[0.4444444444444444,\"#bd3786\"],[0.5555555555555556,\"#d8576b\"],[0.6666666666666666,\"#ed7953\"],[0.7777777777777778,\"#fb9f3a\"],[0.8888888888888888,\"#fdca26\"],[1.0,\"#f0f921\"]],\"type\":\"heatmapgl\"}],\"histogram\":[{\"marker\":{\"pattern\":{\"fillmode\":\"overlay\",\"size\":10,\"solidity\":0.2}},\"type\":\"histogram\"}],\"histogram2d\":[{\"colorbar\":{\"outlinewidth\":0,\"ticks\":\"\"},\"colorscale\":[[0.0,\"#0d0887\"],[0.1111111111111111,\"#46039f\"],[0.2222222222222222,\"#7201a8\"],[0.3333333333333333,\"#9c179e\"],[0.4444444444444444,\"#bd3786\"],[0.5555555555555556,\"#d8576b\"],[0.6666666666666666,\"#ed7953\"],[0.7777777777777778,\"#fb9f3a\"],[0.8888888888888888,\"#fdca26\"],[1.0,\"#f0f921\"]],\"type\":\"histogram2d\"}],\"histogram2dcontour\":[{\"colorbar\":{\"outlinewidth\":0,\"ticks\":\"\"},\"colorscale\":[[0.0,\"#0d0887\"],[0.1111111111111111,\"#46039f\"],[0.2222222222222222,\"#7201a8\"],[0.3333333333333333,\"#9c179e\"],[0.4444444444444444,\"#bd3786\"],[0.5555555555555556,\"#d8576b\"],[0.6666666666666666,\"#ed7953\"],[0.7777777777777778,\"#fb9f3a\"],[0.8888888888888888,\"#fdca26\"],[1.0,\"#f0f921\"]],\"type\":\"histogram2dcontour\"}],\"mesh3d\":[{\"colorbar\":{\"outlinewidth\":0,\"ticks\":\"\"},\"type\":\"mesh3d\"}],\"parcoords\":[{\"line\":{\"colorbar\":{\"outlinewidth\":0,\"ticks\":\"\"}},\"type\":\"parcoords\"}],\"pie\":[{\"automargin\":true,\"type\":\"pie\"}],\"scatter\":[{\"marker\":{\"colorbar\":{\"outlinewidth\":0,\"ticks\":\"\"}},\"type\":\"scatter\"}],\"scatter3d\":[{\"line\":{\"colorbar\":{\"outlinewidth\":0,\"ticks\":\"\"}},\"marker\":{\"colorbar\":{\"outlinewidth\":0,\"ticks\":\"\"}},\"type\":\"scatter3d\"}],\"scattercarpet\":[{\"marker\":{\"colorbar\":{\"outlinewidth\":0,\"ticks\":\"\"}},\"type\":\"scattercarpet\"}],\"scattergeo\":[{\"marker\":{\"colorbar\":{\"outlinewidth\":0,\"ticks\":\"\"}},\"type\":\"scattergeo\"}],\"scattergl\":[{\"marker\":{\"colorbar\":{\"outlinewidth\":0,\"ticks\":\"\"}},\"type\":\"scattergl\"}],\"scattermapbox\":[{\"marker\":{\"colorbar\":{\"outlinewidth\":0,\"ticks\":\"\"}},\"type\":\"scattermapbox\"}],\"scatterpolar\":[{\"marker\":{\"colorbar\":{\"outlinewidth\":0,\"ticks\":\"\"}},\"type\":\"scatterpolar\"}],\"scatterpolargl\":[{\"marker\":{\"colorbar\":{\"outlinewidth\":0,\"ticks\":\"\"}},\"type\":\"scatterpolargl\"}],\"scatterternary\":[{\"marker\":{\"colorbar\":{\"outlinewidth\":0,\"ticks\":\"\"}},\"type\":\"scatterternary\"}],\"surface\":[{\"colorbar\":{\"outlinewidth\":0,\"ticks\":\"\"},\"colorscale\":[[0.0,\"#0d0887\"],[0.1111111111111111,\"#46039f\"],[0.2222222222222222,\"#7201a8\"],[0.3333333333333333,\"#9c179e\"],[0.4444444444444444,\"#bd3786\"],[0.5555555555555556,\"#d8576b\"],[0.6666666666666666,\"#ed7953\"],[0.7777777777777778,\"#fb9f3a\"],[0.8888888888888888,\"#fdca26\"],[1.0,\"#f0f921\"]],\"type\":\"surface\"}],\"table\":[{\"cells\":{\"fill\":{\"color\":\"#EBF0F8\"},\"line\":{\"color\":\"white\"}},\"header\":{\"fill\":{\"color\":\"#C8D4E3\"},\"line\":{\"color\":\"white\"}},\"type\":\"table\"}]},\"layout\":{\"annotationdefaults\":{\"arrowcolor\":\"#2a3f5f\",\"arrowhead\":0,\"arrowwidth\":1},\"autotypenumbers\":\"strict\",\"coloraxis\":{\"colorbar\":{\"outlinewidth\":0,\"ticks\":\"\"}},\"colorscale\":{\"diverging\":[[0,\"#8e0152\"],[0.1,\"#c51b7d\"],[0.2,\"#de77ae\"],[0.3,\"#f1b6da\"],[0.4,\"#fde0ef\"],[0.5,\"#f7f7f7\"],[0.6,\"#e6f5d0\"],[0.7,\"#b8e186\"],[0.8,\"#7fbc41\"],[0.9,\"#4d9221\"],[1,\"#276419\"]],\"sequential\":[[0.0,\"#0d0887\"],[0.1111111111111111,\"#46039f\"],[0.2222222222222222,\"#7201a8\"],[0.3333333333333333,\"#9c179e\"],[0.4444444444444444,\"#bd3786\"],[0.5555555555555556,\"#d8576b\"],[0.6666666666666666,\"#ed7953\"],[0.7777777777777778,\"#fb9f3a\"],[0.8888888888888888,\"#fdca26\"],[1.0,\"#f0f921\"]],\"sequentialminus\":[[0.0,\"#0d0887\"],[0.1111111111111111,\"#46039f\"],[0.2222222222222222,\"#7201a8\"],[0.3333333333333333,\"#9c179e\"],[0.4444444444444444,\"#bd3786\"],[0.5555555555555556,\"#d8576b\"],[0.6666666666666666,\"#ed7953\"],[0.7777777777777778,\"#fb9f3a\"],[0.8888888888888888,\"#fdca26\"],[1.0,\"#f0f921\"]]},\"colorway\":[\"#636efa\",\"#EF553B\",\"#00cc96\",\"#ab63fa\",\"#FFA15A\",\"#19d3f3\",\"#FF6692\",\"#B6E880\",\"#FF97FF\",\"#FECB52\"],\"font\":{\"color\":\"#2a3f5f\"},\"geo\":{\"bgcolor\":\"white\",\"lakecolor\":\"white\",\"landcolor\":\"#E5ECF6\",\"showlakes\":true,\"showland\":true,\"subunitcolor\":\"white\"},\"hoverlabel\":{\"align\":\"left\"},\"hovermode\":\"closest\",\"mapbox\":{\"style\":\"light\"},\"paper_bgcolor\":\"white\",\"plot_bgcolor\":\"#E5ECF6\",\"polar\":{\"angularaxis\":{\"gridcolor\":\"white\",\"linecolor\":\"white\",\"ticks\":\"\"},\"bgcolor\":\"#E5ECF6\",\"radialaxis\":{\"gridcolor\":\"white\",\"linecolor\":\"white\",\"ticks\":\"\"}},\"scene\":{\"xaxis\":{\"backgroundcolor\":\"#E5ECF6\",\"gridcolor\":\"white\",\"gridwidth\":2,\"linecolor\":\"white\",\"showbackground\":true,\"ticks\":\"\",\"zerolinecolor\":\"white\"},\"yaxis\":{\"backgroundcolor\":\"#E5ECF6\",\"gridcolor\":\"white\",\"gridwidth\":2,\"linecolor\":\"white\",\"showbackground\":true,\"ticks\":\"\",\"zerolinecolor\":\"white\"},\"zaxis\":{\"backgroundcolor\":\"#E5ECF6\",\"gridcolor\":\"white\",\"gridwidth\":2,\"linecolor\":\"white\",\"showbackground\":true,\"ticks\":\"\",\"zerolinecolor\":\"white\"}},\"shapedefaults\":{\"line\":{\"color\":\"#2a3f5f\"}},\"ternary\":{\"aaxis\":{\"gridcolor\":\"white\",\"linecolor\":\"white\",\"ticks\":\"\"},\"baxis\":{\"gridcolor\":\"white\",\"linecolor\":\"white\",\"ticks\":\"\"},\"bgcolor\":\"#E5ECF6\",\"caxis\":{\"gridcolor\":\"white\",\"linecolor\":\"white\",\"ticks\":\"\"}},\"title\":{\"x\":0.05},\"xaxis\":{\"automargin\":true,\"gridcolor\":\"white\",\"linecolor\":\"white\",\"ticks\":\"\",\"title\":{\"standoff\":15},\"zerolinecolor\":\"white\",\"zerolinewidth\":2},\"yaxis\":{\"automargin\":true,\"gridcolor\":\"white\",\"linecolor\":\"white\",\"ticks\":\"\",\"title\":{\"standoff\":15},\"zerolinecolor\":\"white\",\"zerolinewidth\":2}}}},                        {\"responsive\": true}                    ).then(function(){\n",
       "                            \n",
       "var gd = document.getElementById('9fc9dcd4-4fc6-48d8-a09d-46b160bf9d5f');\n",
       "var x = new MutationObserver(function (mutations, observer) {{\n",
       "        var display = window.getComputedStyle(gd).display;\n",
       "        if (!display || display === 'none') {{\n",
       "            console.log([gd, 'removed!']);\n",
       "            Plotly.purge(gd);\n",
       "            observer.disconnect();\n",
       "        }}\n",
       "}});\n",
       "\n",
       "// Listen for the removal of the full notebook cells\n",
       "var notebookContainer = gd.closest('#notebook-container');\n",
       "if (notebookContainer) {{\n",
       "    x.observe(notebookContainer, {childList: true});\n",
       "}}\n",
       "\n",
       "// Listen for the clearing of the current output cell\n",
       "var outputEl = gd.closest('.output');\n",
       "if (outputEl) {{\n",
       "    x.observe(outputEl, {childList: true});\n",
       "}}\n",
       "\n",
       "                        })                };                });            </script>        </div>"
      ]
     },
     "metadata": {},
     "output_type": "display_data"
    },
    {
     "data": {
      "application/vnd.plotly.v1+json": {
       "config": {
        "plotlyServerURL": "https://plot.ly"
       },
       "data": [
        {
         "mode": "lines",
         "name": "cumulative",
         "type": "scatter",
         "x": [
          0.01,
          0.02,
          0.03,
          0.04,
          0.05,
          0.06,
          0.0699999999999999,
          0.08,
          0.09,
          0.0999999999999999,
          0.11,
          0.12,
          0.13,
          0.14,
          0.15,
          0.16,
          0.17,
          0.18,
          0.19,
          0.2,
          0.21,
          0.22,
          0.23,
          0.24,
          0.25,
          0.26,
          0.27,
          0.28,
          0.29,
          0.3,
          0.31,
          0.32,
          0.33,
          0.34,
          0.35,
          0.36,
          0.37,
          0.38,
          0.39,
          0.4,
          0.41,
          0.42,
          0.43,
          0.44,
          0.45,
          0.46,
          0.47,
          0.48,
          0.49,
          0.5,
          0.51,
          0.52,
          0.53,
          0.54,
          0.55,
          0.56,
          0.5700000000000001,
          0.5800000000000001,
          0.59,
          0.6,
          0.61,
          0.62,
          0.63,
          0.64,
          0.65,
          0.66,
          0.67,
          0.68,
          0.6900000000000001,
          0.7000000000000001,
          0.7100000000000001,
          0.72,
          0.73,
          0.74,
          0.75,
          0.76,
          0.77,
          0.78,
          0.79,
          0.8,
          0.81,
          0.8200000000000001,
          0.8300000000000001,
          0.8400000000000001,
          0.85,
          0.86,
          0.87,
          0.88,
          0.89,
          0.9,
          0.91,
          0.92,
          0.93,
          0.94,
          0.95,
          0.96,
          0.97,
          0.98,
          0.99
         ],
         "y": [
          39.7695,
          39.1715,
          37.7827,
          38.1799,
          40.4651,
          34.7339,
          35.037,
          34.1225,
          35.0972,
          34.0704,
          35.382,
          37.1566,
          36.206,
          39.3835,
          39.8998,
          39.0992,
          39.9185,
          42.4835,
          43.5349,
          42.9153,
          39.1426,
          37.909,
          37.8287,
          39.5155,
          40.1297,
          41.5932,
          41.3361,
          42.3191,
          41.0595,
          40.4417,
          44.6615,
          45.4463,
          45.4999,
          45.2039,
          46.2025,
          45.1591,
          45.7352,
          49.0816,
          51.5775,
          54.0111,
          52.6176,
          50.1919,
          51.0804,
          49.9206,
          47.5957,
          50.202,
          51.0592,
          56.6664,
          60.6381,
          60.0679,
          59.396,
          61.0934,
          64.8872,
          63.9515,
          63.9677,
          65.7616,
          66.2109,
          62.9985,
          61.0993,
          67.6441,
          69.2615,
          68.108,
          65.8952,
          66.9303,
          69.1086,
          68.2307,
          77.9091,
          93.0311,
          87.8315,
          86.2135,
          81.6886,
          82.2606,
          85.498,
          85.1188,
          82.4329,
          85.8726,
          86.1279,
          82.3981,
          94.377,
          99.1455,
          91.31,
          85.5289,
          96.549,
          84.566,
          79.9139,
          75.9351,
          76.439,
          76.0907,
          70.7041,
          67.4499,
          64.7088,
          63.8738,
          59.1007,
          62.5399,
          60.5395,
          57.947,
          47.7951,
          50.7552,
          36.9035
         ]
        }
       ],
       "layout": {
        "template": {
         "data": {
          "bar": [
           {
            "error_x": {
             "color": "#2a3f5f"
            },
            "error_y": {
             "color": "#2a3f5f"
            },
            "marker": {
             "line": {
              "color": "#E5ECF6",
              "width": 0.5
             },
             "pattern": {
              "fillmode": "overlay",
              "size": 10,
              "solidity": 0.2
             }
            },
            "type": "bar"
           }
          ],
          "barpolar": [
           {
            "marker": {
             "line": {
              "color": "#E5ECF6",
              "width": 0.5
             },
             "pattern": {
              "fillmode": "overlay",
              "size": 10,
              "solidity": 0.2
             }
            },
            "type": "barpolar"
           }
          ],
          "carpet": [
           {
            "aaxis": {
             "endlinecolor": "#2a3f5f",
             "gridcolor": "white",
             "linecolor": "white",
             "minorgridcolor": "white",
             "startlinecolor": "#2a3f5f"
            },
            "baxis": {
             "endlinecolor": "#2a3f5f",
             "gridcolor": "white",
             "linecolor": "white",
             "minorgridcolor": "white",
             "startlinecolor": "#2a3f5f"
            },
            "type": "carpet"
           }
          ],
          "choropleth": [
           {
            "colorbar": {
             "outlinewidth": 0,
             "ticks": ""
            },
            "type": "choropleth"
           }
          ],
          "contour": [
           {
            "colorbar": {
             "outlinewidth": 0,
             "ticks": ""
            },
            "colorscale": [
             [
              0,
              "#0d0887"
             ],
             [
              0.1111111111111111,
              "#46039f"
             ],
             [
              0.2222222222222222,
              "#7201a8"
             ],
             [
              0.3333333333333333,
              "#9c179e"
             ],
             [
              0.4444444444444444,
              "#bd3786"
             ],
             [
              0.5555555555555556,
              "#d8576b"
             ],
             [
              0.6666666666666666,
              "#ed7953"
             ],
             [
              0.7777777777777778,
              "#fb9f3a"
             ],
             [
              0.8888888888888888,
              "#fdca26"
             ],
             [
              1,
              "#f0f921"
             ]
            ],
            "type": "contour"
           }
          ],
          "contourcarpet": [
           {
            "colorbar": {
             "outlinewidth": 0,
             "ticks": ""
            },
            "type": "contourcarpet"
           }
          ],
          "heatmap": [
           {
            "colorbar": {
             "outlinewidth": 0,
             "ticks": ""
            },
            "colorscale": [
             [
              0,
              "#0d0887"
             ],
             [
              0.1111111111111111,
              "#46039f"
             ],
             [
              0.2222222222222222,
              "#7201a8"
             ],
             [
              0.3333333333333333,
              "#9c179e"
             ],
             [
              0.4444444444444444,
              "#bd3786"
             ],
             [
              0.5555555555555556,
              "#d8576b"
             ],
             [
              0.6666666666666666,
              "#ed7953"
             ],
             [
              0.7777777777777778,
              "#fb9f3a"
             ],
             [
              0.8888888888888888,
              "#fdca26"
             ],
             [
              1,
              "#f0f921"
             ]
            ],
            "type": "heatmap"
           }
          ],
          "heatmapgl": [
           {
            "colorbar": {
             "outlinewidth": 0,
             "ticks": ""
            },
            "colorscale": [
             [
              0,
              "#0d0887"
             ],
             [
              0.1111111111111111,
              "#46039f"
             ],
             [
              0.2222222222222222,
              "#7201a8"
             ],
             [
              0.3333333333333333,
              "#9c179e"
             ],
             [
              0.4444444444444444,
              "#bd3786"
             ],
             [
              0.5555555555555556,
              "#d8576b"
             ],
             [
              0.6666666666666666,
              "#ed7953"
             ],
             [
              0.7777777777777778,
              "#fb9f3a"
             ],
             [
              0.8888888888888888,
              "#fdca26"
             ],
             [
              1,
              "#f0f921"
             ]
            ],
            "type": "heatmapgl"
           }
          ],
          "histogram": [
           {
            "marker": {
             "pattern": {
              "fillmode": "overlay",
              "size": 10,
              "solidity": 0.2
             }
            },
            "type": "histogram"
           }
          ],
          "histogram2d": [
           {
            "colorbar": {
             "outlinewidth": 0,
             "ticks": ""
            },
            "colorscale": [
             [
              0,
              "#0d0887"
             ],
             [
              0.1111111111111111,
              "#46039f"
             ],
             [
              0.2222222222222222,
              "#7201a8"
             ],
             [
              0.3333333333333333,
              "#9c179e"
             ],
             [
              0.4444444444444444,
              "#bd3786"
             ],
             [
              0.5555555555555556,
              "#d8576b"
             ],
             [
              0.6666666666666666,
              "#ed7953"
             ],
             [
              0.7777777777777778,
              "#fb9f3a"
             ],
             [
              0.8888888888888888,
              "#fdca26"
             ],
             [
              1,
              "#f0f921"
             ]
            ],
            "type": "histogram2d"
           }
          ],
          "histogram2dcontour": [
           {
            "colorbar": {
             "outlinewidth": 0,
             "ticks": ""
            },
            "colorscale": [
             [
              0,
              "#0d0887"
             ],
             [
              0.1111111111111111,
              "#46039f"
             ],
             [
              0.2222222222222222,
              "#7201a8"
             ],
             [
              0.3333333333333333,
              "#9c179e"
             ],
             [
              0.4444444444444444,
              "#bd3786"
             ],
             [
              0.5555555555555556,
              "#d8576b"
             ],
             [
              0.6666666666666666,
              "#ed7953"
             ],
             [
              0.7777777777777778,
              "#fb9f3a"
             ],
             [
              0.8888888888888888,
              "#fdca26"
             ],
             [
              1,
              "#f0f921"
             ]
            ],
            "type": "histogram2dcontour"
           }
          ],
          "mesh3d": [
           {
            "colorbar": {
             "outlinewidth": 0,
             "ticks": ""
            },
            "type": "mesh3d"
           }
          ],
          "parcoords": [
           {
            "line": {
             "colorbar": {
              "outlinewidth": 0,
              "ticks": ""
             }
            },
            "type": "parcoords"
           }
          ],
          "pie": [
           {
            "automargin": true,
            "type": "pie"
           }
          ],
          "scatter": [
           {
            "marker": {
             "colorbar": {
              "outlinewidth": 0,
              "ticks": ""
             }
            },
            "type": "scatter"
           }
          ],
          "scatter3d": [
           {
            "line": {
             "colorbar": {
              "outlinewidth": 0,
              "ticks": ""
             }
            },
            "marker": {
             "colorbar": {
              "outlinewidth": 0,
              "ticks": ""
             }
            },
            "type": "scatter3d"
           }
          ],
          "scattercarpet": [
           {
            "marker": {
             "colorbar": {
              "outlinewidth": 0,
              "ticks": ""
             }
            },
            "type": "scattercarpet"
           }
          ],
          "scattergeo": [
           {
            "marker": {
             "colorbar": {
              "outlinewidth": 0,
              "ticks": ""
             }
            },
            "type": "scattergeo"
           }
          ],
          "scattergl": [
           {
            "marker": {
             "colorbar": {
              "outlinewidth": 0,
              "ticks": ""
             }
            },
            "type": "scattergl"
           }
          ],
          "scattermapbox": [
           {
            "marker": {
             "colorbar": {
              "outlinewidth": 0,
              "ticks": ""
             }
            },
            "type": "scattermapbox"
           }
          ],
          "scatterpolar": [
           {
            "marker": {
             "colorbar": {
              "outlinewidth": 0,
              "ticks": ""
             }
            },
            "type": "scatterpolar"
           }
          ],
          "scatterpolargl": [
           {
            "marker": {
             "colorbar": {
              "outlinewidth": 0,
              "ticks": ""
             }
            },
            "type": "scatterpolargl"
           }
          ],
          "scatterternary": [
           {
            "marker": {
             "colorbar": {
              "outlinewidth": 0,
              "ticks": ""
             }
            },
            "type": "scatterternary"
           }
          ],
          "surface": [
           {
            "colorbar": {
             "outlinewidth": 0,
             "ticks": ""
            },
            "colorscale": [
             [
              0,
              "#0d0887"
             ],
             [
              0.1111111111111111,
              "#46039f"
             ],
             [
              0.2222222222222222,
              "#7201a8"
             ],
             [
              0.3333333333333333,
              "#9c179e"
             ],
             [
              0.4444444444444444,
              "#bd3786"
             ],
             [
              0.5555555555555556,
              "#d8576b"
             ],
             [
              0.6666666666666666,
              "#ed7953"
             ],
             [
              0.7777777777777778,
              "#fb9f3a"
             ],
             [
              0.8888888888888888,
              "#fdca26"
             ],
             [
              1,
              "#f0f921"
             ]
            ],
            "type": "surface"
           }
          ],
          "table": [
           {
            "cells": {
             "fill": {
              "color": "#EBF0F8"
             },
             "line": {
              "color": "white"
             }
            },
            "header": {
             "fill": {
              "color": "#C8D4E3"
             },
             "line": {
              "color": "white"
             }
            },
            "type": "table"
           }
          ]
         },
         "layout": {
          "annotationdefaults": {
           "arrowcolor": "#2a3f5f",
           "arrowhead": 0,
           "arrowwidth": 1
          },
          "autotypenumbers": "strict",
          "coloraxis": {
           "colorbar": {
            "outlinewidth": 0,
            "ticks": ""
           }
          },
          "colorscale": {
           "diverging": [
            [
             0,
             "#8e0152"
            ],
            [
             0.1,
             "#c51b7d"
            ],
            [
             0.2,
             "#de77ae"
            ],
            [
             0.3,
             "#f1b6da"
            ],
            [
             0.4,
             "#fde0ef"
            ],
            [
             0.5,
             "#f7f7f7"
            ],
            [
             0.6,
             "#e6f5d0"
            ],
            [
             0.7,
             "#b8e186"
            ],
            [
             0.8,
             "#7fbc41"
            ],
            [
             0.9,
             "#4d9221"
            ],
            [
             1,
             "#276419"
            ]
           ],
           "sequential": [
            [
             0,
             "#0d0887"
            ],
            [
             0.1111111111111111,
             "#46039f"
            ],
            [
             0.2222222222222222,
             "#7201a8"
            ],
            [
             0.3333333333333333,
             "#9c179e"
            ],
            [
             0.4444444444444444,
             "#bd3786"
            ],
            [
             0.5555555555555556,
             "#d8576b"
            ],
            [
             0.6666666666666666,
             "#ed7953"
            ],
            [
             0.7777777777777778,
             "#fb9f3a"
            ],
            [
             0.8888888888888888,
             "#fdca26"
            ],
            [
             1,
             "#f0f921"
            ]
           ],
           "sequentialminus": [
            [
             0,
             "#0d0887"
            ],
            [
             0.1111111111111111,
             "#46039f"
            ],
            [
             0.2222222222222222,
             "#7201a8"
            ],
            [
             0.3333333333333333,
             "#9c179e"
            ],
            [
             0.4444444444444444,
             "#bd3786"
            ],
            [
             0.5555555555555556,
             "#d8576b"
            ],
            [
             0.6666666666666666,
             "#ed7953"
            ],
            [
             0.7777777777777778,
             "#fb9f3a"
            ],
            [
             0.8888888888888888,
             "#fdca26"
            ],
            [
             1,
             "#f0f921"
            ]
           ]
          },
          "colorway": [
           "#636efa",
           "#EF553B",
           "#00cc96",
           "#ab63fa",
           "#FFA15A",
           "#19d3f3",
           "#FF6692",
           "#B6E880",
           "#FF97FF",
           "#FECB52"
          ],
          "font": {
           "color": "#2a3f5f"
          },
          "geo": {
           "bgcolor": "white",
           "lakecolor": "white",
           "landcolor": "#E5ECF6",
           "showlakes": true,
           "showland": true,
           "subunitcolor": "white"
          },
          "hoverlabel": {
           "align": "left"
          },
          "hovermode": "closest",
          "mapbox": {
           "style": "light"
          },
          "paper_bgcolor": "white",
          "plot_bgcolor": "#E5ECF6",
          "polar": {
           "angularaxis": {
            "gridcolor": "white",
            "linecolor": "white",
            "ticks": ""
           },
           "bgcolor": "#E5ECF6",
           "radialaxis": {
            "gridcolor": "white",
            "linecolor": "white",
            "ticks": ""
           }
          },
          "scene": {
           "xaxis": {
            "backgroundcolor": "#E5ECF6",
            "gridcolor": "white",
            "gridwidth": 2,
            "linecolor": "white",
            "showbackground": true,
            "ticks": "",
            "zerolinecolor": "white"
           },
           "yaxis": {
            "backgroundcolor": "#E5ECF6",
            "gridcolor": "white",
            "gridwidth": 2,
            "linecolor": "white",
            "showbackground": true,
            "ticks": "",
            "zerolinecolor": "white"
           },
           "zaxis": {
            "backgroundcolor": "#E5ECF6",
            "gridcolor": "white",
            "gridwidth": 2,
            "linecolor": "white",
            "showbackground": true,
            "ticks": "",
            "zerolinecolor": "white"
           }
          },
          "shapedefaults": {
           "line": {
            "color": "#2a3f5f"
           }
          },
          "ternary": {
           "aaxis": {
            "gridcolor": "white",
            "linecolor": "white",
            "ticks": ""
           },
           "baxis": {
            "gridcolor": "white",
            "linecolor": "white",
            "ticks": ""
           },
           "bgcolor": "#E5ECF6",
           "caxis": {
            "gridcolor": "white",
            "linecolor": "white",
            "ticks": ""
           }
          },
          "title": {
           "x": 0.05
          },
          "xaxis": {
           "automargin": true,
           "gridcolor": "white",
           "linecolor": "white",
           "ticks": "",
           "title": {
            "standoff": 15
           },
           "zerolinecolor": "white",
           "zerolinewidth": 2
          },
          "yaxis": {
           "automargin": true,
           "gridcolor": "white",
           "linecolor": "white",
           "ticks": "",
           "title": {
            "standoff": 15
           },
           "zerolinecolor": "white",
           "zerolinewidth": 2
          }
         }
        }
       }
      },
      "text/html": [
       "<div>                            <div id=\"9648de46-884f-4d7b-b345-445552e2e777\" class=\"plotly-graph-div\" style=\"height:525px; width:100%;\"></div>            <script type=\"text/javascript\">                require([\"plotly\"], function(Plotly) {                    window.PLOTLYENV=window.PLOTLYENV || {};                                    if (document.getElementById(\"9648de46-884f-4d7b-b345-445552e2e777\")) {                    Plotly.newPlot(                        \"9648de46-884f-4d7b-b345-445552e2e777\",                        [{\"mode\":\"lines\",\"name\":\"cumulative\",\"type\":\"scatter\",\"x\":[0.01,0.02,0.03,0.04,0.05,0.06,0.0699999999999999,0.08,0.09,0.0999999999999999,0.11,0.12,0.13,0.14,0.15,0.16,0.17,0.18,0.19,0.2,0.21,0.22,0.23,0.24,0.25,0.26,0.27,0.28,0.29,0.3,0.31,0.32,0.33,0.34,0.35,0.36,0.37,0.38,0.39,0.4,0.41,0.42,0.43,0.44,0.45,0.46,0.47,0.48,0.49,0.5,0.51,0.52,0.53,0.54,0.55,0.56,0.5700000000000001,0.5800000000000001,0.59,0.6,0.61,0.62,0.63,0.64,0.65,0.66,0.67,0.68,0.6900000000000001,0.7000000000000001,0.7100000000000001,0.72,0.73,0.74,0.75,0.76,0.77,0.78,0.79,0.8,0.81,0.8200000000000001,0.8300000000000001,0.8400000000000001,0.85,0.86,0.87,0.88,0.89,0.9,0.91,0.92,0.93,0.94,0.95,0.96,0.97,0.98,0.99],\"y\":[39.7695,39.1715,37.7827,38.1799,40.4651,34.7339,35.037,34.1225,35.0972,34.0704,35.382,37.1566,36.206,39.3835,39.8998,39.0992,39.9185,42.4835,43.5349,42.9153,39.1426,37.909,37.8287,39.5155,40.1297,41.5932,41.3361,42.3191,41.0595,40.4417,44.6615,45.4463,45.4999,45.2039,46.2025,45.1591,45.7352,49.0816,51.5775,54.0111,52.6176,50.1919,51.0804,49.9206,47.5957,50.202,51.0592,56.6664,60.6381,60.0679,59.396,61.0934,64.8872,63.9515,63.9677,65.7616,66.2109,62.9985,61.0993,67.6441,69.2615,68.108,65.8952,66.9303,69.1086,68.2307,77.9091,93.0311,87.8315,86.2135,81.6886,82.2606,85.498,85.1188,82.4329,85.8726,86.1279,82.3981,94.377,99.1455,91.31,85.5289,96.549,84.566,79.9139,75.9351,76.439,76.0907,70.7041,67.4499,64.7088,63.8738,59.1007,62.5399,60.5395,57.947,47.7951,50.7552,36.9035]}],                        {\"template\":{\"data\":{\"bar\":[{\"error_x\":{\"color\":\"#2a3f5f\"},\"error_y\":{\"color\":\"#2a3f5f\"},\"marker\":{\"line\":{\"color\":\"#E5ECF6\",\"width\":0.5},\"pattern\":{\"fillmode\":\"overlay\",\"size\":10,\"solidity\":0.2}},\"type\":\"bar\"}],\"barpolar\":[{\"marker\":{\"line\":{\"color\":\"#E5ECF6\",\"width\":0.5},\"pattern\":{\"fillmode\":\"overlay\",\"size\":10,\"solidity\":0.2}},\"type\":\"barpolar\"}],\"carpet\":[{\"aaxis\":{\"endlinecolor\":\"#2a3f5f\",\"gridcolor\":\"white\",\"linecolor\":\"white\",\"minorgridcolor\":\"white\",\"startlinecolor\":\"#2a3f5f\"},\"baxis\":{\"endlinecolor\":\"#2a3f5f\",\"gridcolor\":\"white\",\"linecolor\":\"white\",\"minorgridcolor\":\"white\",\"startlinecolor\":\"#2a3f5f\"},\"type\":\"carpet\"}],\"choropleth\":[{\"colorbar\":{\"outlinewidth\":0,\"ticks\":\"\"},\"type\":\"choropleth\"}],\"contour\":[{\"colorbar\":{\"outlinewidth\":0,\"ticks\":\"\"},\"colorscale\":[[0.0,\"#0d0887\"],[0.1111111111111111,\"#46039f\"],[0.2222222222222222,\"#7201a8\"],[0.3333333333333333,\"#9c179e\"],[0.4444444444444444,\"#bd3786\"],[0.5555555555555556,\"#d8576b\"],[0.6666666666666666,\"#ed7953\"],[0.7777777777777778,\"#fb9f3a\"],[0.8888888888888888,\"#fdca26\"],[1.0,\"#f0f921\"]],\"type\":\"contour\"}],\"contourcarpet\":[{\"colorbar\":{\"outlinewidth\":0,\"ticks\":\"\"},\"type\":\"contourcarpet\"}],\"heatmap\":[{\"colorbar\":{\"outlinewidth\":0,\"ticks\":\"\"},\"colorscale\":[[0.0,\"#0d0887\"],[0.1111111111111111,\"#46039f\"],[0.2222222222222222,\"#7201a8\"],[0.3333333333333333,\"#9c179e\"],[0.4444444444444444,\"#bd3786\"],[0.5555555555555556,\"#d8576b\"],[0.6666666666666666,\"#ed7953\"],[0.7777777777777778,\"#fb9f3a\"],[0.8888888888888888,\"#fdca26\"],[1.0,\"#f0f921\"]],\"type\":\"heatmap\"}],\"heatmapgl\":[{\"colorbar\":{\"outlinewidth\":0,\"ticks\":\"\"},\"colorscale\":[[0.0,\"#0d0887\"],[0.1111111111111111,\"#46039f\"],[0.2222222222222222,\"#7201a8\"],[0.3333333333333333,\"#9c179e\"],[0.4444444444444444,\"#bd3786\"],[0.5555555555555556,\"#d8576b\"],[0.6666666666666666,\"#ed7953\"],[0.7777777777777778,\"#fb9f3a\"],[0.8888888888888888,\"#fdca26\"],[1.0,\"#f0f921\"]],\"type\":\"heatmapgl\"}],\"histogram\":[{\"marker\":{\"pattern\":{\"fillmode\":\"overlay\",\"size\":10,\"solidity\":0.2}},\"type\":\"histogram\"}],\"histogram2d\":[{\"colorbar\":{\"outlinewidth\":0,\"ticks\":\"\"},\"colorscale\":[[0.0,\"#0d0887\"],[0.1111111111111111,\"#46039f\"],[0.2222222222222222,\"#7201a8\"],[0.3333333333333333,\"#9c179e\"],[0.4444444444444444,\"#bd3786\"],[0.5555555555555556,\"#d8576b\"],[0.6666666666666666,\"#ed7953\"],[0.7777777777777778,\"#fb9f3a\"],[0.8888888888888888,\"#fdca26\"],[1.0,\"#f0f921\"]],\"type\":\"histogram2d\"}],\"histogram2dcontour\":[{\"colorbar\":{\"outlinewidth\":0,\"ticks\":\"\"},\"colorscale\":[[0.0,\"#0d0887\"],[0.1111111111111111,\"#46039f\"],[0.2222222222222222,\"#7201a8\"],[0.3333333333333333,\"#9c179e\"],[0.4444444444444444,\"#bd3786\"],[0.5555555555555556,\"#d8576b\"],[0.6666666666666666,\"#ed7953\"],[0.7777777777777778,\"#fb9f3a\"],[0.8888888888888888,\"#fdca26\"],[1.0,\"#f0f921\"]],\"type\":\"histogram2dcontour\"}],\"mesh3d\":[{\"colorbar\":{\"outlinewidth\":0,\"ticks\":\"\"},\"type\":\"mesh3d\"}],\"parcoords\":[{\"line\":{\"colorbar\":{\"outlinewidth\":0,\"ticks\":\"\"}},\"type\":\"parcoords\"}],\"pie\":[{\"automargin\":true,\"type\":\"pie\"}],\"scatter\":[{\"marker\":{\"colorbar\":{\"outlinewidth\":0,\"ticks\":\"\"}},\"type\":\"scatter\"}],\"scatter3d\":[{\"line\":{\"colorbar\":{\"outlinewidth\":0,\"ticks\":\"\"}},\"marker\":{\"colorbar\":{\"outlinewidth\":0,\"ticks\":\"\"}},\"type\":\"scatter3d\"}],\"scattercarpet\":[{\"marker\":{\"colorbar\":{\"outlinewidth\":0,\"ticks\":\"\"}},\"type\":\"scattercarpet\"}],\"scattergeo\":[{\"marker\":{\"colorbar\":{\"outlinewidth\":0,\"ticks\":\"\"}},\"type\":\"scattergeo\"}],\"scattergl\":[{\"marker\":{\"colorbar\":{\"outlinewidth\":0,\"ticks\":\"\"}},\"type\":\"scattergl\"}],\"scattermapbox\":[{\"marker\":{\"colorbar\":{\"outlinewidth\":0,\"ticks\":\"\"}},\"type\":\"scattermapbox\"}],\"scatterpolar\":[{\"marker\":{\"colorbar\":{\"outlinewidth\":0,\"ticks\":\"\"}},\"type\":\"scatterpolar\"}],\"scatterpolargl\":[{\"marker\":{\"colorbar\":{\"outlinewidth\":0,\"ticks\":\"\"}},\"type\":\"scatterpolargl\"}],\"scatterternary\":[{\"marker\":{\"colorbar\":{\"outlinewidth\":0,\"ticks\":\"\"}},\"type\":\"scatterternary\"}],\"surface\":[{\"colorbar\":{\"outlinewidth\":0,\"ticks\":\"\"},\"colorscale\":[[0.0,\"#0d0887\"],[0.1111111111111111,\"#46039f\"],[0.2222222222222222,\"#7201a8\"],[0.3333333333333333,\"#9c179e\"],[0.4444444444444444,\"#bd3786\"],[0.5555555555555556,\"#d8576b\"],[0.6666666666666666,\"#ed7953\"],[0.7777777777777778,\"#fb9f3a\"],[0.8888888888888888,\"#fdca26\"],[1.0,\"#f0f921\"]],\"type\":\"surface\"}],\"table\":[{\"cells\":{\"fill\":{\"color\":\"#EBF0F8\"},\"line\":{\"color\":\"white\"}},\"header\":{\"fill\":{\"color\":\"#C8D4E3\"},\"line\":{\"color\":\"white\"}},\"type\":\"table\"}]},\"layout\":{\"annotationdefaults\":{\"arrowcolor\":\"#2a3f5f\",\"arrowhead\":0,\"arrowwidth\":1},\"autotypenumbers\":\"strict\",\"coloraxis\":{\"colorbar\":{\"outlinewidth\":0,\"ticks\":\"\"}},\"colorscale\":{\"diverging\":[[0,\"#8e0152\"],[0.1,\"#c51b7d\"],[0.2,\"#de77ae\"],[0.3,\"#f1b6da\"],[0.4,\"#fde0ef\"],[0.5,\"#f7f7f7\"],[0.6,\"#e6f5d0\"],[0.7,\"#b8e186\"],[0.8,\"#7fbc41\"],[0.9,\"#4d9221\"],[1,\"#276419\"]],\"sequential\":[[0.0,\"#0d0887\"],[0.1111111111111111,\"#46039f\"],[0.2222222222222222,\"#7201a8\"],[0.3333333333333333,\"#9c179e\"],[0.4444444444444444,\"#bd3786\"],[0.5555555555555556,\"#d8576b\"],[0.6666666666666666,\"#ed7953\"],[0.7777777777777778,\"#fb9f3a\"],[0.8888888888888888,\"#fdca26\"],[1.0,\"#f0f921\"]],\"sequentialminus\":[[0.0,\"#0d0887\"],[0.1111111111111111,\"#46039f\"],[0.2222222222222222,\"#7201a8\"],[0.3333333333333333,\"#9c179e\"],[0.4444444444444444,\"#bd3786\"],[0.5555555555555556,\"#d8576b\"],[0.6666666666666666,\"#ed7953\"],[0.7777777777777778,\"#fb9f3a\"],[0.8888888888888888,\"#fdca26\"],[1.0,\"#f0f921\"]]},\"colorway\":[\"#636efa\",\"#EF553B\",\"#00cc96\",\"#ab63fa\",\"#FFA15A\",\"#19d3f3\",\"#FF6692\",\"#B6E880\",\"#FF97FF\",\"#FECB52\"],\"font\":{\"color\":\"#2a3f5f\"},\"geo\":{\"bgcolor\":\"white\",\"lakecolor\":\"white\",\"landcolor\":\"#E5ECF6\",\"showlakes\":true,\"showland\":true,\"subunitcolor\":\"white\"},\"hoverlabel\":{\"align\":\"left\"},\"hovermode\":\"closest\",\"mapbox\":{\"style\":\"light\"},\"paper_bgcolor\":\"white\",\"plot_bgcolor\":\"#E5ECF6\",\"polar\":{\"angularaxis\":{\"gridcolor\":\"white\",\"linecolor\":\"white\",\"ticks\":\"\"},\"bgcolor\":\"#E5ECF6\",\"radialaxis\":{\"gridcolor\":\"white\",\"linecolor\":\"white\",\"ticks\":\"\"}},\"scene\":{\"xaxis\":{\"backgroundcolor\":\"#E5ECF6\",\"gridcolor\":\"white\",\"gridwidth\":2,\"linecolor\":\"white\",\"showbackground\":true,\"ticks\":\"\",\"zerolinecolor\":\"white\"},\"yaxis\":{\"backgroundcolor\":\"#E5ECF6\",\"gridcolor\":\"white\",\"gridwidth\":2,\"linecolor\":\"white\",\"showbackground\":true,\"ticks\":\"\",\"zerolinecolor\":\"white\"},\"zaxis\":{\"backgroundcolor\":\"#E5ECF6\",\"gridcolor\":\"white\",\"gridwidth\":2,\"linecolor\":\"white\",\"showbackground\":true,\"ticks\":\"\",\"zerolinecolor\":\"white\"}},\"shapedefaults\":{\"line\":{\"color\":\"#2a3f5f\"}},\"ternary\":{\"aaxis\":{\"gridcolor\":\"white\",\"linecolor\":\"white\",\"ticks\":\"\"},\"baxis\":{\"gridcolor\":\"white\",\"linecolor\":\"white\",\"ticks\":\"\"},\"bgcolor\":\"#E5ECF6\",\"caxis\":{\"gridcolor\":\"white\",\"linecolor\":\"white\",\"ticks\":\"\"}},\"title\":{\"x\":0.05},\"xaxis\":{\"automargin\":true,\"gridcolor\":\"white\",\"linecolor\":\"white\",\"ticks\":\"\",\"title\":{\"standoff\":15},\"zerolinecolor\":\"white\",\"zerolinewidth\":2},\"yaxis\":{\"automargin\":true,\"gridcolor\":\"white\",\"linecolor\":\"white\",\"ticks\":\"\",\"title\":{\"standoff\":15},\"zerolinecolor\":\"white\",\"zerolinewidth\":2}}}},                        {\"responsive\": true}                    ).then(function(){\n",
       "                            \n",
       "var gd = document.getElementById('9648de46-884f-4d7b-b345-445552e2e777');\n",
       "var x = new MutationObserver(function (mutations, observer) {{\n",
       "        var display = window.getComputedStyle(gd).display;\n",
       "        if (!display || display === 'none') {{\n",
       "            console.log([gd, 'removed!']);\n",
       "            Plotly.purge(gd);\n",
       "            observer.disconnect();\n",
       "        }}\n",
       "}});\n",
       "\n",
       "// Listen for the removal of the full notebook cells\n",
       "var notebookContainer = gd.closest('#notebook-container');\n",
       "if (notebookContainer) {{\n",
       "    x.observe(notebookContainer, {childList: true});\n",
       "}}\n",
       "\n",
       "// Listen for the clearing of the current output cell\n",
       "var outputEl = gd.closest('.output');\n",
       "if (outputEl) {{\n",
       "    x.observe(outputEl, {childList: true});\n",
       "}}\n",
       "\n",
       "                        })                };                });            </script>        </div>"
      ]
     },
     "metadata": {},
     "output_type": "display_data"
    }
   ],
   "source": [
    "fig = go.Figure()\n",
    "fig.add_trace(go.Scatter(x=opt_result['weight1'].tolist(), y=opt_result['cumul_return'].tolist(),\n",
    "                                 mode='lines',\n",
    "                                 name='cumulative'))\n",
    "\n",
    "fig.show()\n",
    "\n",
    "fig = go.Figure()\n",
    "fig.add_trace(go.Scatter(x=opt_result['weight1'].tolist(), y=opt_result['return_mdd'].tolist(),\n",
    "                                 mode='lines',\n",
    "                                 name='cumulative'))\n",
    "\n",
    "fig.show()"
   ]
  },
  {
   "cell_type": "code",
   "execution_count": 554,
   "id": "730d2dc9",
   "metadata": {},
   "outputs": [
    {
     "name": "stdout",
     "output_type": "stream",
     "text": [
      "weight1:0.82 and weight2:0.18\n",
      "CUMULATIVE PROFIT: 14.3631\n",
      "MDD: 0.16793325178060123\n",
      "mm_holding:34------winrate:0.6795-----profit/MDD:85.5289\n"
     ]
    },
    {
     "data": {
      "application/vnd.plotly.v1+json": {
       "config": {
        "plotlyServerURL": "https://plot.ly"
       },
       "data": [
        {
         "mode": "lines",
         "name": "cumulative",
         "type": "scatter",
         "x": [
          "201501",
          "201502",
          "201503",
          "201504",
          "201505",
          "201506",
          "201507",
          "201508",
          "201509",
          "201510",
          "201511",
          "201512",
          "201601",
          "201602",
          "201603",
          "201604",
          "201605",
          "201606",
          "201607",
          "201608",
          "201609",
          "201610",
          "201611",
          "201612",
          "201701",
          "201702",
          "201703",
          "201704",
          "201705",
          "201706",
          "201707",
          "201708",
          "201709",
          "201710",
          "201711",
          "201712",
          "201801",
          "201802",
          "201803",
          "201804",
          "201805",
          "201806",
          "201807",
          "201808",
          "201809",
          "201810",
          "201811",
          "201812",
          "201901",
          "201902",
          "201903",
          "201904",
          "201905",
          "201906",
          "201907",
          "201908",
          "201909",
          "201910",
          "201911",
          "201912",
          "202001",
          "202002",
          "202003",
          "202004",
          "202005",
          "202006",
          "202007",
          "202008",
          "202009",
          "202010",
          "202011",
          "202012",
          "202101",
          "202102",
          "202103",
          "202104",
          "202105",
          "202106",
          "202107",
          "202108"
         ],
         "y": [
          null,
          null,
          1.0099747201708054,
          1.0287016663533997,
          1.062018529630607,
          1.1034259341172294,
          1.1415352862309782,
          1.1014297197839675,
          1.143793487141825,
          1.2816546749757554,
          1.2621696308816954,
          1.2953623807452719,
          1.2637164048245229,
          1.3358498498553708,
          1.4963428145813553,
          1.5802575814939877,
          1.677261584079268,
          1.750279069693387,
          1.7977718331243315,
          1.7982567045476499,
          1.7450666655720222,
          1.8152360769889553,
          1.7870941011663042,
          1.7061696107663284,
          1.7575315526127524,
          2.0431063010407957,
          2.119942753051536,
          2.1686883228533675,
          2.5955992162125985,
          3.0396690212957473,
          3.564117398463732,
          3.5822761335793594,
          3.68008617770652,
          3.559366850180727,
          3.709813772618286,
          3.6952205282278556,
          3.7061514422299306,
          3.6878207211634564,
          3.699918508245786,
          3.5849703962384525,
          3.4246945363464976,
          3.4262769386329652,
          3.503515315962994,
          3.5672537828063353,
          3.846810094895794,
          3.846262247175733,
          3.8378326571617563,
          3.770959128768857,
          3.6602214336998093,
          3.751549217113762,
          4.0054848019110425,
          3.975720935901317,
          3.8877130471749517,
          3.8230792941356797,
          3.8181067713865824,
          3.85039116412752,
          3.8695039351739204,
          4.031604385072421,
          4.212115692966616,
          4.3689879551672535,
          4.174529341419192,
          4.353568379218104,
          3.635289600865737,
          4.39658190951448,
          4.748316599062106,
          5.302319138865922,
          4.991552552893616,
          5.739840177787875,
          6.028194386357451,
          5.951627641072317,
          6.155540948975391,
          7.394684612629614,
          8.907920024891435,
          9.487690201368588,
          12.322399578781116,
          13.9345802301141,
          13.632089930474871,
          15.165807654079343,
          13.567077095987704,
          14.363148587096122
         ]
        }
       ],
       "layout": {
        "template": {
         "data": {
          "bar": [
           {
            "error_x": {
             "color": "#2a3f5f"
            },
            "error_y": {
             "color": "#2a3f5f"
            },
            "marker": {
             "line": {
              "color": "#E5ECF6",
              "width": 0.5
             },
             "pattern": {
              "fillmode": "overlay",
              "size": 10,
              "solidity": 0.2
             }
            },
            "type": "bar"
           }
          ],
          "barpolar": [
           {
            "marker": {
             "line": {
              "color": "#E5ECF6",
              "width": 0.5
             },
             "pattern": {
              "fillmode": "overlay",
              "size": 10,
              "solidity": 0.2
             }
            },
            "type": "barpolar"
           }
          ],
          "carpet": [
           {
            "aaxis": {
             "endlinecolor": "#2a3f5f",
             "gridcolor": "white",
             "linecolor": "white",
             "minorgridcolor": "white",
             "startlinecolor": "#2a3f5f"
            },
            "baxis": {
             "endlinecolor": "#2a3f5f",
             "gridcolor": "white",
             "linecolor": "white",
             "minorgridcolor": "white",
             "startlinecolor": "#2a3f5f"
            },
            "type": "carpet"
           }
          ],
          "choropleth": [
           {
            "colorbar": {
             "outlinewidth": 0,
             "ticks": ""
            },
            "type": "choropleth"
           }
          ],
          "contour": [
           {
            "colorbar": {
             "outlinewidth": 0,
             "ticks": ""
            },
            "colorscale": [
             [
              0,
              "#0d0887"
             ],
             [
              0.1111111111111111,
              "#46039f"
             ],
             [
              0.2222222222222222,
              "#7201a8"
             ],
             [
              0.3333333333333333,
              "#9c179e"
             ],
             [
              0.4444444444444444,
              "#bd3786"
             ],
             [
              0.5555555555555556,
              "#d8576b"
             ],
             [
              0.6666666666666666,
              "#ed7953"
             ],
             [
              0.7777777777777778,
              "#fb9f3a"
             ],
             [
              0.8888888888888888,
              "#fdca26"
             ],
             [
              1,
              "#f0f921"
             ]
            ],
            "type": "contour"
           }
          ],
          "contourcarpet": [
           {
            "colorbar": {
             "outlinewidth": 0,
             "ticks": ""
            },
            "type": "contourcarpet"
           }
          ],
          "heatmap": [
           {
            "colorbar": {
             "outlinewidth": 0,
             "ticks": ""
            },
            "colorscale": [
             [
              0,
              "#0d0887"
             ],
             [
              0.1111111111111111,
              "#46039f"
             ],
             [
              0.2222222222222222,
              "#7201a8"
             ],
             [
              0.3333333333333333,
              "#9c179e"
             ],
             [
              0.4444444444444444,
              "#bd3786"
             ],
             [
              0.5555555555555556,
              "#d8576b"
             ],
             [
              0.6666666666666666,
              "#ed7953"
             ],
             [
              0.7777777777777778,
              "#fb9f3a"
             ],
             [
              0.8888888888888888,
              "#fdca26"
             ],
             [
              1,
              "#f0f921"
             ]
            ],
            "type": "heatmap"
           }
          ],
          "heatmapgl": [
           {
            "colorbar": {
             "outlinewidth": 0,
             "ticks": ""
            },
            "colorscale": [
             [
              0,
              "#0d0887"
             ],
             [
              0.1111111111111111,
              "#46039f"
             ],
             [
              0.2222222222222222,
              "#7201a8"
             ],
             [
              0.3333333333333333,
              "#9c179e"
             ],
             [
              0.4444444444444444,
              "#bd3786"
             ],
             [
              0.5555555555555556,
              "#d8576b"
             ],
             [
              0.6666666666666666,
              "#ed7953"
             ],
             [
              0.7777777777777778,
              "#fb9f3a"
             ],
             [
              0.8888888888888888,
              "#fdca26"
             ],
             [
              1,
              "#f0f921"
             ]
            ],
            "type": "heatmapgl"
           }
          ],
          "histogram": [
           {
            "marker": {
             "pattern": {
              "fillmode": "overlay",
              "size": 10,
              "solidity": 0.2
             }
            },
            "type": "histogram"
           }
          ],
          "histogram2d": [
           {
            "colorbar": {
             "outlinewidth": 0,
             "ticks": ""
            },
            "colorscale": [
             [
              0,
              "#0d0887"
             ],
             [
              0.1111111111111111,
              "#46039f"
             ],
             [
              0.2222222222222222,
              "#7201a8"
             ],
             [
              0.3333333333333333,
              "#9c179e"
             ],
             [
              0.4444444444444444,
              "#bd3786"
             ],
             [
              0.5555555555555556,
              "#d8576b"
             ],
             [
              0.6666666666666666,
              "#ed7953"
             ],
             [
              0.7777777777777778,
              "#fb9f3a"
             ],
             [
              0.8888888888888888,
              "#fdca26"
             ],
             [
              1,
              "#f0f921"
             ]
            ],
            "type": "histogram2d"
           }
          ],
          "histogram2dcontour": [
           {
            "colorbar": {
             "outlinewidth": 0,
             "ticks": ""
            },
            "colorscale": [
             [
              0,
              "#0d0887"
             ],
             [
              0.1111111111111111,
              "#46039f"
             ],
             [
              0.2222222222222222,
              "#7201a8"
             ],
             [
              0.3333333333333333,
              "#9c179e"
             ],
             [
              0.4444444444444444,
              "#bd3786"
             ],
             [
              0.5555555555555556,
              "#d8576b"
             ],
             [
              0.6666666666666666,
              "#ed7953"
             ],
             [
              0.7777777777777778,
              "#fb9f3a"
             ],
             [
              0.8888888888888888,
              "#fdca26"
             ],
             [
              1,
              "#f0f921"
             ]
            ],
            "type": "histogram2dcontour"
           }
          ],
          "mesh3d": [
           {
            "colorbar": {
             "outlinewidth": 0,
             "ticks": ""
            },
            "type": "mesh3d"
           }
          ],
          "parcoords": [
           {
            "line": {
             "colorbar": {
              "outlinewidth": 0,
              "ticks": ""
             }
            },
            "type": "parcoords"
           }
          ],
          "pie": [
           {
            "automargin": true,
            "type": "pie"
           }
          ],
          "scatter": [
           {
            "marker": {
             "colorbar": {
              "outlinewidth": 0,
              "ticks": ""
             }
            },
            "type": "scatter"
           }
          ],
          "scatter3d": [
           {
            "line": {
             "colorbar": {
              "outlinewidth": 0,
              "ticks": ""
             }
            },
            "marker": {
             "colorbar": {
              "outlinewidth": 0,
              "ticks": ""
             }
            },
            "type": "scatter3d"
           }
          ],
          "scattercarpet": [
           {
            "marker": {
             "colorbar": {
              "outlinewidth": 0,
              "ticks": ""
             }
            },
            "type": "scattercarpet"
           }
          ],
          "scattergeo": [
           {
            "marker": {
             "colorbar": {
              "outlinewidth": 0,
              "ticks": ""
             }
            },
            "type": "scattergeo"
           }
          ],
          "scattergl": [
           {
            "marker": {
             "colorbar": {
              "outlinewidth": 0,
              "ticks": ""
             }
            },
            "type": "scattergl"
           }
          ],
          "scattermapbox": [
           {
            "marker": {
             "colorbar": {
              "outlinewidth": 0,
              "ticks": ""
             }
            },
            "type": "scattermapbox"
           }
          ],
          "scatterpolar": [
           {
            "marker": {
             "colorbar": {
              "outlinewidth": 0,
              "ticks": ""
             }
            },
            "type": "scatterpolar"
           }
          ],
          "scatterpolargl": [
           {
            "marker": {
             "colorbar": {
              "outlinewidth": 0,
              "ticks": ""
             }
            },
            "type": "scatterpolargl"
           }
          ],
          "scatterternary": [
           {
            "marker": {
             "colorbar": {
              "outlinewidth": 0,
              "ticks": ""
             }
            },
            "type": "scatterternary"
           }
          ],
          "surface": [
           {
            "colorbar": {
             "outlinewidth": 0,
             "ticks": ""
            },
            "colorscale": [
             [
              0,
              "#0d0887"
             ],
             [
              0.1111111111111111,
              "#46039f"
             ],
             [
              0.2222222222222222,
              "#7201a8"
             ],
             [
              0.3333333333333333,
              "#9c179e"
             ],
             [
              0.4444444444444444,
              "#bd3786"
             ],
             [
              0.5555555555555556,
              "#d8576b"
             ],
             [
              0.6666666666666666,
              "#ed7953"
             ],
             [
              0.7777777777777778,
              "#fb9f3a"
             ],
             [
              0.8888888888888888,
              "#fdca26"
             ],
             [
              1,
              "#f0f921"
             ]
            ],
            "type": "surface"
           }
          ],
          "table": [
           {
            "cells": {
             "fill": {
              "color": "#EBF0F8"
             },
             "line": {
              "color": "white"
             }
            },
            "header": {
             "fill": {
              "color": "#C8D4E3"
             },
             "line": {
              "color": "white"
             }
            },
            "type": "table"
           }
          ]
         },
         "layout": {
          "annotationdefaults": {
           "arrowcolor": "#2a3f5f",
           "arrowhead": 0,
           "arrowwidth": 1
          },
          "autotypenumbers": "strict",
          "coloraxis": {
           "colorbar": {
            "outlinewidth": 0,
            "ticks": ""
           }
          },
          "colorscale": {
           "diverging": [
            [
             0,
             "#8e0152"
            ],
            [
             0.1,
             "#c51b7d"
            ],
            [
             0.2,
             "#de77ae"
            ],
            [
             0.3,
             "#f1b6da"
            ],
            [
             0.4,
             "#fde0ef"
            ],
            [
             0.5,
             "#f7f7f7"
            ],
            [
             0.6,
             "#e6f5d0"
            ],
            [
             0.7,
             "#b8e186"
            ],
            [
             0.8,
             "#7fbc41"
            ],
            [
             0.9,
             "#4d9221"
            ],
            [
             1,
             "#276419"
            ]
           ],
           "sequential": [
            [
             0,
             "#0d0887"
            ],
            [
             0.1111111111111111,
             "#46039f"
            ],
            [
             0.2222222222222222,
             "#7201a8"
            ],
            [
             0.3333333333333333,
             "#9c179e"
            ],
            [
             0.4444444444444444,
             "#bd3786"
            ],
            [
             0.5555555555555556,
             "#d8576b"
            ],
            [
             0.6666666666666666,
             "#ed7953"
            ],
            [
             0.7777777777777778,
             "#fb9f3a"
            ],
            [
             0.8888888888888888,
             "#fdca26"
            ],
            [
             1,
             "#f0f921"
            ]
           ],
           "sequentialminus": [
            [
             0,
             "#0d0887"
            ],
            [
             0.1111111111111111,
             "#46039f"
            ],
            [
             0.2222222222222222,
             "#7201a8"
            ],
            [
             0.3333333333333333,
             "#9c179e"
            ],
            [
             0.4444444444444444,
             "#bd3786"
            ],
            [
             0.5555555555555556,
             "#d8576b"
            ],
            [
             0.6666666666666666,
             "#ed7953"
            ],
            [
             0.7777777777777778,
             "#fb9f3a"
            ],
            [
             0.8888888888888888,
             "#fdca26"
            ],
            [
             1,
             "#f0f921"
            ]
           ]
          },
          "colorway": [
           "#636efa",
           "#EF553B",
           "#00cc96",
           "#ab63fa",
           "#FFA15A",
           "#19d3f3",
           "#FF6692",
           "#B6E880",
           "#FF97FF",
           "#FECB52"
          ],
          "font": {
           "color": "#2a3f5f"
          },
          "geo": {
           "bgcolor": "white",
           "lakecolor": "white",
           "landcolor": "#E5ECF6",
           "showlakes": true,
           "showland": true,
           "subunitcolor": "white"
          },
          "hoverlabel": {
           "align": "left"
          },
          "hovermode": "closest",
          "mapbox": {
           "style": "light"
          },
          "paper_bgcolor": "white",
          "plot_bgcolor": "#E5ECF6",
          "polar": {
           "angularaxis": {
            "gridcolor": "white",
            "linecolor": "white",
            "ticks": ""
           },
           "bgcolor": "#E5ECF6",
           "radialaxis": {
            "gridcolor": "white",
            "linecolor": "white",
            "ticks": ""
           }
          },
          "scene": {
           "xaxis": {
            "backgroundcolor": "#E5ECF6",
            "gridcolor": "white",
            "gridwidth": 2,
            "linecolor": "white",
            "showbackground": true,
            "ticks": "",
            "zerolinecolor": "white"
           },
           "yaxis": {
            "backgroundcolor": "#E5ECF6",
            "gridcolor": "white",
            "gridwidth": 2,
            "linecolor": "white",
            "showbackground": true,
            "ticks": "",
            "zerolinecolor": "white"
           },
           "zaxis": {
            "backgroundcolor": "#E5ECF6",
            "gridcolor": "white",
            "gridwidth": 2,
            "linecolor": "white",
            "showbackground": true,
            "ticks": "",
            "zerolinecolor": "white"
           }
          },
          "shapedefaults": {
           "line": {
            "color": "#2a3f5f"
           }
          },
          "ternary": {
           "aaxis": {
            "gridcolor": "white",
            "linecolor": "white",
            "ticks": ""
           },
           "baxis": {
            "gridcolor": "white",
            "linecolor": "white",
            "ticks": ""
           },
           "bgcolor": "#E5ECF6",
           "caxis": {
            "gridcolor": "white",
            "linecolor": "white",
            "ticks": ""
           }
          },
          "title": {
           "x": 0.05
          },
          "xaxis": {
           "automargin": true,
           "gridcolor": "white",
           "linecolor": "white",
           "ticks": "",
           "title": {
            "standoff": 15
           },
           "zerolinecolor": "white",
           "zerolinewidth": 2
          },
          "yaxis": {
           "automargin": true,
           "gridcolor": "white",
           "linecolor": "white",
           "ticks": "",
           "title": {
            "standoff": 15
           },
           "zerolinecolor": "white",
           "zerolinewidth": 2
          }
         }
        }
       }
      },
      "text/html": [
       "<div>                            <div id=\"b5a09679-56b5-474e-a8ae-29718ff457d2\" class=\"plotly-graph-div\" style=\"height:525px; width:100%;\"></div>            <script type=\"text/javascript\">                require([\"plotly\"], function(Plotly) {                    window.PLOTLYENV=window.PLOTLYENV || {};                                    if (document.getElementById(\"b5a09679-56b5-474e-a8ae-29718ff457d2\")) {                    Plotly.newPlot(                        \"b5a09679-56b5-474e-a8ae-29718ff457d2\",                        [{\"mode\":\"lines\",\"name\":\"cumulative\",\"type\":\"scatter\",\"x\":[\"201501\",\"201502\",\"201503\",\"201504\",\"201505\",\"201506\",\"201507\",\"201508\",\"201509\",\"201510\",\"201511\",\"201512\",\"201601\",\"201602\",\"201603\",\"201604\",\"201605\",\"201606\",\"201607\",\"201608\",\"201609\",\"201610\",\"201611\",\"201612\",\"201701\",\"201702\",\"201703\",\"201704\",\"201705\",\"201706\",\"201707\",\"201708\",\"201709\",\"201710\",\"201711\",\"201712\",\"201801\",\"201802\",\"201803\",\"201804\",\"201805\",\"201806\",\"201807\",\"201808\",\"201809\",\"201810\",\"201811\",\"201812\",\"201901\",\"201902\",\"201903\",\"201904\",\"201905\",\"201906\",\"201907\",\"201908\",\"201909\",\"201910\",\"201911\",\"201912\",\"202001\",\"202002\",\"202003\",\"202004\",\"202005\",\"202006\",\"202007\",\"202008\",\"202009\",\"202010\",\"202011\",\"202012\",\"202101\",\"202102\",\"202103\",\"202104\",\"202105\",\"202106\",\"202107\",\"202108\"],\"y\":[null,null,1.0099747201708054,1.0287016663533997,1.062018529630607,1.1034259341172294,1.1415352862309782,1.1014297197839675,1.143793487141825,1.2816546749757554,1.2621696308816954,1.2953623807452719,1.2637164048245229,1.3358498498553708,1.4963428145813553,1.5802575814939877,1.677261584079268,1.750279069693387,1.7977718331243315,1.7982567045476499,1.7450666655720222,1.8152360769889553,1.7870941011663042,1.7061696107663284,1.7575315526127524,2.0431063010407957,2.119942753051536,2.1686883228533675,2.5955992162125985,3.0396690212957473,3.564117398463732,3.5822761335793594,3.68008617770652,3.559366850180727,3.709813772618286,3.6952205282278556,3.7061514422299306,3.6878207211634564,3.699918508245786,3.5849703962384525,3.4246945363464976,3.4262769386329652,3.503515315962994,3.5672537828063353,3.846810094895794,3.846262247175733,3.8378326571617563,3.770959128768857,3.6602214336998093,3.751549217113762,4.0054848019110425,3.975720935901317,3.8877130471749517,3.8230792941356797,3.8181067713865824,3.85039116412752,3.8695039351739204,4.031604385072421,4.212115692966616,4.3689879551672535,4.174529341419192,4.353568379218104,3.635289600865737,4.39658190951448,4.748316599062106,5.302319138865922,4.991552552893616,5.739840177787875,6.028194386357451,5.951627641072317,6.155540948975391,7.394684612629614,8.907920024891435,9.487690201368588,12.322399578781116,13.9345802301141,13.632089930474871,15.165807654079343,13.567077095987704,14.363148587096122]}],                        {\"template\":{\"data\":{\"bar\":[{\"error_x\":{\"color\":\"#2a3f5f\"},\"error_y\":{\"color\":\"#2a3f5f\"},\"marker\":{\"line\":{\"color\":\"#E5ECF6\",\"width\":0.5},\"pattern\":{\"fillmode\":\"overlay\",\"size\":10,\"solidity\":0.2}},\"type\":\"bar\"}],\"barpolar\":[{\"marker\":{\"line\":{\"color\":\"#E5ECF6\",\"width\":0.5},\"pattern\":{\"fillmode\":\"overlay\",\"size\":10,\"solidity\":0.2}},\"type\":\"barpolar\"}],\"carpet\":[{\"aaxis\":{\"endlinecolor\":\"#2a3f5f\",\"gridcolor\":\"white\",\"linecolor\":\"white\",\"minorgridcolor\":\"white\",\"startlinecolor\":\"#2a3f5f\"},\"baxis\":{\"endlinecolor\":\"#2a3f5f\",\"gridcolor\":\"white\",\"linecolor\":\"white\",\"minorgridcolor\":\"white\",\"startlinecolor\":\"#2a3f5f\"},\"type\":\"carpet\"}],\"choropleth\":[{\"colorbar\":{\"outlinewidth\":0,\"ticks\":\"\"},\"type\":\"choropleth\"}],\"contour\":[{\"colorbar\":{\"outlinewidth\":0,\"ticks\":\"\"},\"colorscale\":[[0.0,\"#0d0887\"],[0.1111111111111111,\"#46039f\"],[0.2222222222222222,\"#7201a8\"],[0.3333333333333333,\"#9c179e\"],[0.4444444444444444,\"#bd3786\"],[0.5555555555555556,\"#d8576b\"],[0.6666666666666666,\"#ed7953\"],[0.7777777777777778,\"#fb9f3a\"],[0.8888888888888888,\"#fdca26\"],[1.0,\"#f0f921\"]],\"type\":\"contour\"}],\"contourcarpet\":[{\"colorbar\":{\"outlinewidth\":0,\"ticks\":\"\"},\"type\":\"contourcarpet\"}],\"heatmap\":[{\"colorbar\":{\"outlinewidth\":0,\"ticks\":\"\"},\"colorscale\":[[0.0,\"#0d0887\"],[0.1111111111111111,\"#46039f\"],[0.2222222222222222,\"#7201a8\"],[0.3333333333333333,\"#9c179e\"],[0.4444444444444444,\"#bd3786\"],[0.5555555555555556,\"#d8576b\"],[0.6666666666666666,\"#ed7953\"],[0.7777777777777778,\"#fb9f3a\"],[0.8888888888888888,\"#fdca26\"],[1.0,\"#f0f921\"]],\"type\":\"heatmap\"}],\"heatmapgl\":[{\"colorbar\":{\"outlinewidth\":0,\"ticks\":\"\"},\"colorscale\":[[0.0,\"#0d0887\"],[0.1111111111111111,\"#46039f\"],[0.2222222222222222,\"#7201a8\"],[0.3333333333333333,\"#9c179e\"],[0.4444444444444444,\"#bd3786\"],[0.5555555555555556,\"#d8576b\"],[0.6666666666666666,\"#ed7953\"],[0.7777777777777778,\"#fb9f3a\"],[0.8888888888888888,\"#fdca26\"],[1.0,\"#f0f921\"]],\"type\":\"heatmapgl\"}],\"histogram\":[{\"marker\":{\"pattern\":{\"fillmode\":\"overlay\",\"size\":10,\"solidity\":0.2}},\"type\":\"histogram\"}],\"histogram2d\":[{\"colorbar\":{\"outlinewidth\":0,\"ticks\":\"\"},\"colorscale\":[[0.0,\"#0d0887\"],[0.1111111111111111,\"#46039f\"],[0.2222222222222222,\"#7201a8\"],[0.3333333333333333,\"#9c179e\"],[0.4444444444444444,\"#bd3786\"],[0.5555555555555556,\"#d8576b\"],[0.6666666666666666,\"#ed7953\"],[0.7777777777777778,\"#fb9f3a\"],[0.8888888888888888,\"#fdca26\"],[1.0,\"#f0f921\"]],\"type\":\"histogram2d\"}],\"histogram2dcontour\":[{\"colorbar\":{\"outlinewidth\":0,\"ticks\":\"\"},\"colorscale\":[[0.0,\"#0d0887\"],[0.1111111111111111,\"#46039f\"],[0.2222222222222222,\"#7201a8\"],[0.3333333333333333,\"#9c179e\"],[0.4444444444444444,\"#bd3786\"],[0.5555555555555556,\"#d8576b\"],[0.6666666666666666,\"#ed7953\"],[0.7777777777777778,\"#fb9f3a\"],[0.8888888888888888,\"#fdca26\"],[1.0,\"#f0f921\"]],\"type\":\"histogram2dcontour\"}],\"mesh3d\":[{\"colorbar\":{\"outlinewidth\":0,\"ticks\":\"\"},\"type\":\"mesh3d\"}],\"parcoords\":[{\"line\":{\"colorbar\":{\"outlinewidth\":0,\"ticks\":\"\"}},\"type\":\"parcoords\"}],\"pie\":[{\"automargin\":true,\"type\":\"pie\"}],\"scatter\":[{\"marker\":{\"colorbar\":{\"outlinewidth\":0,\"ticks\":\"\"}},\"type\":\"scatter\"}],\"scatter3d\":[{\"line\":{\"colorbar\":{\"outlinewidth\":0,\"ticks\":\"\"}},\"marker\":{\"colorbar\":{\"outlinewidth\":0,\"ticks\":\"\"}},\"type\":\"scatter3d\"}],\"scattercarpet\":[{\"marker\":{\"colorbar\":{\"outlinewidth\":0,\"ticks\":\"\"}},\"type\":\"scattercarpet\"}],\"scattergeo\":[{\"marker\":{\"colorbar\":{\"outlinewidth\":0,\"ticks\":\"\"}},\"type\":\"scattergeo\"}],\"scattergl\":[{\"marker\":{\"colorbar\":{\"outlinewidth\":0,\"ticks\":\"\"}},\"type\":\"scattergl\"}],\"scattermapbox\":[{\"marker\":{\"colorbar\":{\"outlinewidth\":0,\"ticks\":\"\"}},\"type\":\"scattermapbox\"}],\"scatterpolar\":[{\"marker\":{\"colorbar\":{\"outlinewidth\":0,\"ticks\":\"\"}},\"type\":\"scatterpolar\"}],\"scatterpolargl\":[{\"marker\":{\"colorbar\":{\"outlinewidth\":0,\"ticks\":\"\"}},\"type\":\"scatterpolargl\"}],\"scatterternary\":[{\"marker\":{\"colorbar\":{\"outlinewidth\":0,\"ticks\":\"\"}},\"type\":\"scatterternary\"}],\"surface\":[{\"colorbar\":{\"outlinewidth\":0,\"ticks\":\"\"},\"colorscale\":[[0.0,\"#0d0887\"],[0.1111111111111111,\"#46039f\"],[0.2222222222222222,\"#7201a8\"],[0.3333333333333333,\"#9c179e\"],[0.4444444444444444,\"#bd3786\"],[0.5555555555555556,\"#d8576b\"],[0.6666666666666666,\"#ed7953\"],[0.7777777777777778,\"#fb9f3a\"],[0.8888888888888888,\"#fdca26\"],[1.0,\"#f0f921\"]],\"type\":\"surface\"}],\"table\":[{\"cells\":{\"fill\":{\"color\":\"#EBF0F8\"},\"line\":{\"color\":\"white\"}},\"header\":{\"fill\":{\"color\":\"#C8D4E3\"},\"line\":{\"color\":\"white\"}},\"type\":\"table\"}]},\"layout\":{\"annotationdefaults\":{\"arrowcolor\":\"#2a3f5f\",\"arrowhead\":0,\"arrowwidth\":1},\"autotypenumbers\":\"strict\",\"coloraxis\":{\"colorbar\":{\"outlinewidth\":0,\"ticks\":\"\"}},\"colorscale\":{\"diverging\":[[0,\"#8e0152\"],[0.1,\"#c51b7d\"],[0.2,\"#de77ae\"],[0.3,\"#f1b6da\"],[0.4,\"#fde0ef\"],[0.5,\"#f7f7f7\"],[0.6,\"#e6f5d0\"],[0.7,\"#b8e186\"],[0.8,\"#7fbc41\"],[0.9,\"#4d9221\"],[1,\"#276419\"]],\"sequential\":[[0.0,\"#0d0887\"],[0.1111111111111111,\"#46039f\"],[0.2222222222222222,\"#7201a8\"],[0.3333333333333333,\"#9c179e\"],[0.4444444444444444,\"#bd3786\"],[0.5555555555555556,\"#d8576b\"],[0.6666666666666666,\"#ed7953\"],[0.7777777777777778,\"#fb9f3a\"],[0.8888888888888888,\"#fdca26\"],[1.0,\"#f0f921\"]],\"sequentialminus\":[[0.0,\"#0d0887\"],[0.1111111111111111,\"#46039f\"],[0.2222222222222222,\"#7201a8\"],[0.3333333333333333,\"#9c179e\"],[0.4444444444444444,\"#bd3786\"],[0.5555555555555556,\"#d8576b\"],[0.6666666666666666,\"#ed7953\"],[0.7777777777777778,\"#fb9f3a\"],[0.8888888888888888,\"#fdca26\"],[1.0,\"#f0f921\"]]},\"colorway\":[\"#636efa\",\"#EF553B\",\"#00cc96\",\"#ab63fa\",\"#FFA15A\",\"#19d3f3\",\"#FF6692\",\"#B6E880\",\"#FF97FF\",\"#FECB52\"],\"font\":{\"color\":\"#2a3f5f\"},\"geo\":{\"bgcolor\":\"white\",\"lakecolor\":\"white\",\"landcolor\":\"#E5ECF6\",\"showlakes\":true,\"showland\":true,\"subunitcolor\":\"white\"},\"hoverlabel\":{\"align\":\"left\"},\"hovermode\":\"closest\",\"mapbox\":{\"style\":\"light\"},\"paper_bgcolor\":\"white\",\"plot_bgcolor\":\"#E5ECF6\",\"polar\":{\"angularaxis\":{\"gridcolor\":\"white\",\"linecolor\":\"white\",\"ticks\":\"\"},\"bgcolor\":\"#E5ECF6\",\"radialaxis\":{\"gridcolor\":\"white\",\"linecolor\":\"white\",\"ticks\":\"\"}},\"scene\":{\"xaxis\":{\"backgroundcolor\":\"#E5ECF6\",\"gridcolor\":\"white\",\"gridwidth\":2,\"linecolor\":\"white\",\"showbackground\":true,\"ticks\":\"\",\"zerolinecolor\":\"white\"},\"yaxis\":{\"backgroundcolor\":\"#E5ECF6\",\"gridcolor\":\"white\",\"gridwidth\":2,\"linecolor\":\"white\",\"showbackground\":true,\"ticks\":\"\",\"zerolinecolor\":\"white\"},\"zaxis\":{\"backgroundcolor\":\"#E5ECF6\",\"gridcolor\":\"white\",\"gridwidth\":2,\"linecolor\":\"white\",\"showbackground\":true,\"ticks\":\"\",\"zerolinecolor\":\"white\"}},\"shapedefaults\":{\"line\":{\"color\":\"#2a3f5f\"}},\"ternary\":{\"aaxis\":{\"gridcolor\":\"white\",\"linecolor\":\"white\",\"ticks\":\"\"},\"baxis\":{\"gridcolor\":\"white\",\"linecolor\":\"white\",\"ticks\":\"\"},\"bgcolor\":\"#E5ECF6\",\"caxis\":{\"gridcolor\":\"white\",\"linecolor\":\"white\",\"ticks\":\"\"}},\"title\":{\"x\":0.05},\"xaxis\":{\"automargin\":true,\"gridcolor\":\"white\",\"linecolor\":\"white\",\"ticks\":\"\",\"title\":{\"standoff\":15},\"zerolinecolor\":\"white\",\"zerolinewidth\":2},\"yaxis\":{\"automargin\":true,\"gridcolor\":\"white\",\"linecolor\":\"white\",\"ticks\":\"\",\"title\":{\"standoff\":15},\"zerolinecolor\":\"white\",\"zerolinewidth\":2}}}},                        {\"responsive\": true}                    ).then(function(){\n",
       "                            \n",
       "var gd = document.getElementById('b5a09679-56b5-474e-a8ae-29718ff457d2');\n",
       "var x = new MutationObserver(function (mutations, observer) {{\n",
       "        var display = window.getComputedStyle(gd).display;\n",
       "        if (!display || display === 'none') {{\n",
       "            console.log([gd, 'removed!']);\n",
       "            Plotly.purge(gd);\n",
       "            observer.disconnect();\n",
       "        }}\n",
       "}});\n",
       "\n",
       "// Listen for the removal of the full notebook cells\n",
       "var notebookContainer = gd.closest('#notebook-container');\n",
       "if (notebookContainer) {{\n",
       "    x.observe(notebookContainer, {childList: true});\n",
       "}}\n",
       "\n",
       "// Listen for the clearing of the current output cell\n",
       "var outputEl = gd.closest('.output');\n",
       "if (outputEl) {{\n",
       "    x.observe(outputEl, {childList: true});\n",
       "}}\n",
       "\n",
       "                        })                };                });            </script>        </div>"
      ]
     },
     "metadata": {},
     "output_type": "display_data"
    }
   ],
   "source": [
    "weight1 = 0.82\n",
    "weight2 = 0.18\n",
    "\n",
    "rank_sum = rank1*weight1 + rank2*weight2\n",
    "rank_sum.yr_month=rank1.yr_month\n",
    "rank_rank=rank_sum.rank(axis=1, ascending=True, pct=True)\n",
    "rank_rank.yr_month=rank1.yr_month\n",
    "signal=rank_rank[rank_rank<=0.1].dropna(axis=1, how='all')\n",
    "signal[signal>0]=1\n",
    "signal.yr_month=rank1.yr_month\n",
    "#signal.to_csv('ranks/multi_factor_signal.csv')\n",
    "signal=signal.shift(1)\n",
    "mm_hold=signal.count(axis=1).max()\n",
    "profit_arr=(signal*monthly_ret[signal.columns.tolist()]).dropna(axis=1, how='all')\n",
    "\n",
    "signal.to_csv('equity_netprofitgrowth_signal.csv')\n",
    "profit_arr['daily_ret']=profit_arr.mean(axis=1)\n",
    "\n",
    "profit_arr['profit']=(profit_arr['daily_ret']+1).cumprod()\n",
    "daily_profit=profit_arr['daily_ret'].tolist()\n",
    "cumulative=profit_arr['profit'].dropna().tolist()\n",
    "#print(daily_profit)\n",
    "profit_arr['yr_month']=rank1.yr_month\n",
    "\n",
    "win_arr = [x for x in daily_profit if x > 0]\n",
    "loss_arr=[x for x in daily_profit if x < 0]\n",
    "win_rate = len(win_arr) / (len(loss_arr)+len(win_arr))\n",
    "dd_arr=[]\n",
    "for i in range(len(cumulative)):\n",
    "    if i>0:\n",
    "        dd_arr.append((max(cumulative[:i])- cumulative[i-1])/max(cumulative[:i]))\n",
    "max_dd=max(dd_arr)\n",
    "print('weight1:{} and weight2:{}'.format(weight1,weight2))\n",
    "print('CUMULATIVE PROFIT: {}'.format(round(cumulative[-1],4)))\n",
    "print('MDD: {}' .format(max_dd))\n",
    "print(\"mm_holding:{}------winrate:{}-----profit/MDD:{}\".format(mm_hold, round(win_rate,4), round(cumulative[-1]/max_dd,4)))\n",
    "fig = go.Figure()\n",
    "fig.add_trace(go.Scatter(x=profit_arr['yr_month'].astype(str).tolist(), y=profit_arr['profit'].tolist(),\n",
    "                             mode='lines',\n",
    "                             name='cumulative'))\n",
    "\n",
    "fig.show()\n",
    "\n"
   ]
  },
  {
   "cell_type": "markdown",
   "id": "082982d6",
   "metadata": {},
   "source": [
    "Calculation of profit based on generated signal\n"
   ]
  },
  {
   "cell_type": "code",
   "execution_count": null,
   "id": "24572d70",
   "metadata": {},
   "outputs": [],
   "source": [
    "    \n"
   ]
  },
  {
   "cell_type": "code",
   "execution_count": null,
   "id": "fe41115b",
   "metadata": {},
   "outputs": [],
   "source": []
  },
  {
   "cell_type": "code",
   "execution_count": null,
   "id": "f7ddb401",
   "metadata": {},
   "outputs": [],
   "source": []
  }
 ],
 "metadata": {
  "kernelspec": {
   "display_name": "Python 3 (ipykernel)",
   "language": "python",
   "name": "python3"
  },
  "language_info": {
   "codemirror_mode": {
    "name": "ipython",
    "version": 3
   },
   "file_extension": ".py",
   "mimetype": "text/x-python",
   "name": "python",
   "nbconvert_exporter": "python",
   "pygments_lexer": "ipython3",
   "version": "3.9.6"
  }
 },
 "nbformat": 4,
 "nbformat_minor": 5
}
