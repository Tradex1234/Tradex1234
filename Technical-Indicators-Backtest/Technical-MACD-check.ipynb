{
 "cells": [
  {
   "cell_type": "code",
   "execution_count": 3,
   "id": "06b9eff9",
   "metadata": {},
   "outputs": [],
   "source": [
    "import pandas as pd\n",
    "import numpy as np\n",
    "import sqlalchemy\n",
    "from urllib.parse import urlencode\n",
    "import requests\n",
    "from requests import Response\n",
    "import datetime as dt\n",
    "from datetime import time, date, timedelta\n",
    "from dateutil.relativedelta import relativedelta\n",
    "import itertools\n",
    "from math import ceil\n",
    "import scipy.stats as stats\n",
    "import matplotlib.pyplot as plt"
   ]
  },
  {
   "cell_type": "code",
   "execution_count": 16,
   "id": "c03300ac",
   "metadata": {},
   "outputs": [],
   "source": [
    "from ta.trend import MACD\n",
    "def MACD_Run(fast_length,slow_length, signal_length,ploting):\n",
    "    result = pd.read_csv('raw-weekly-pricevolume.csv')\n",
    "    codes = result['code'].unique().tolist()\n",
    "    for code in codes:\n",
    "        close_weekly = result[result['code']==code]['close_weekly']\n",
    "        result.loc[(result['code'] == code)&(result['code'].shift(slow_length)),'macd'] = MACD(close=close_weekly,window_fast=fast_length,window_slow=slow_length,window_sign=signal_length).macd()/result['close_weekly']\n",
    "    result = result.dropna()\n",
    "    \n",
    "    result.loc[result['code'] == result['code'].shift(1),'return'] = result['close_weekly']/result['close_weekly'].shift(1) - 1\n",
    "    result.loc[(result['code'] == result['code'].shift(1))&(result['macd']>0.015),'signal'] = 1\n",
    "    result.loc[(result['code'] == result['code'].shift(1))&(result['macd']<-0.015),'signal'] = 0\n",
    "    result.loc[result['code'] != result['code'].shift(1),'signal'] = 0\n",
    "    result = result.ffill()\n",
    "    result.loc[result['code'] == result['code'].shift(1),'daily_return'] = result['signal'].shift(1)*result['return']\n",
    "    result.loc[(result['code'] == result['code'].shift(1))&(result['signal']==1)&(result['signal'].shift(1)==0),'daily_return']=result['daily_return']-0.005\n",
    "    dailyprofit = pd.pivot(result, index = 'date', columns = 'code', values = 'daily_return')\n",
    "    dailyprofit = dailyprofit.replace(0, np.nan)\n",
    "    dailyprofit.reset_index(inplace = True)\n",
    "    day_return = dailyprofit.copy()\n",
    "    day_return['count'] = day_return.iloc[:,1:len(dailyprofit.columns.to_list())].count(axis = 1) #exclude date column\n",
    "    day_return.loc[day_return['count']<5,'profit'] = day_return.iloc[:,1:len(dailyprofit.columns.to_list())].mean(axis = 1,skipna=True)*(day_return['count']/5)\n",
    "    day_return.loc[day_return['count']==0,'profit'] = 0\n",
    "    day_return.loc[day_return['count']>=5,'profit'] = day_return.iloc[:,1:len(dailyprofit.columns.to_list())].mean(axis = 1,skipna=True)\n",
    "\n",
    "    profit = (day_return['profit'] +1).cumprod()\n",
    "\n",
    "    day_return['cumulative'] = profit\n",
    "    if ploting == 1: \n",
    "        plt.plot(profit)\n",
    "    cul_arr = day_return['cumulative'].to_list()\n",
    "    dd_arr = []\n",
    "    maxcul = 0\n",
    "    for x in day_return.cumulative.dropna().tolist():\n",
    "        if x >= maxcul:\n",
    "            maxcul = x\n",
    "            dd_arr.append(0)\n",
    "        else:\n",
    "            dd_arr.append((maxcul-x)/maxcul)\n",
    "    print(f'MDD {max(dd_arr)}')\n",
    "    return float(profit[-1:]), fast_length,slow_length\n",
    "\n",
    "    "
   ]
  },
  {
   "cell_type": "code",
   "execution_count": 14,
   "id": "ce95e0a0",
   "metadata": {},
   "outputs": [
    {
     "name": "stdout",
     "output_type": "stream",
     "text": [
      "MDD 0.21191711930017657\n"
     ]
    },
    {
     "data": {
      "text/plain": [
       "(3.6980330607297676, 4, 2)"
      ]
     },
     "execution_count": 14,
     "metadata": {},
     "output_type": "execute_result"
    },
    {
     "data": {
      "image/png": "[encoded data removed]",
      "text/plain": [
       "<Figure size 432x288 with 1 Axes>"
      ]
     },
     "metadata": {
      "needs_background": "light"
     },
     "output_type": "display_data"
    }
   ],
   "source": [
    "MACD_Run(4,2,9,1)"
   ]
  },
  {
   "cell_type": "code",
   "execution_count": null,
   "id": "6404e40e",
   "metadata": {},
   "outputs": [],
   "source": []
  }
 ],
 "metadata": {
  "kernelspec": {
   "display_name": "Python 3",
   "language": "python",
   "name": "python3"
  },
  "language_info": {
   "codemirror_mode": {
    "name": "ipython",
    "version": 3
   },
   "file_extension": ".py",
   "mimetype": "text/x-python",
   "name": "python",
   "nbconvert_exporter": "python",
   "pygments_lexer": "ipython3",
   "version": "3.8.8"
  }
 },
 "nbformat": 4,
 "nbformat_minor": 5
}
