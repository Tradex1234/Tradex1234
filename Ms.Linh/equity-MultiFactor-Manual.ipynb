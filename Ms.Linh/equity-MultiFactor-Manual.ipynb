{
 "cells": [
  {
   "cell_type": "markdown",
   "metadata": {},
   "source": [
    "Universe: 142 most liquid HOSE stocks\n",
    "\n",
    "Monthly Rebalancing\n",
    "\n",
    "Input Data: \n",
    "* Financial Data: 'total equity','net profit after tax', 'total liabilities'\n",
    "* Price Data: close, outstanding shares\n",
    "\n",
    "Step 1: Calculate 3 factors: risk reward, leverage, book value per share\n",
    "* Risk reward = 6-month return/price standard deviation\n",
    "* Leverage = Total liabilities/Total equity\n",
    "* Book value per price = (Total equity/Outstanding shares)/price\n",
    "\n",
    "Step 2: Standardize these 3 factors => Calculate z-score of these 3 factors\n",
    "* z-score = (X-mean(X))/standard deviation(X)\n",
    "\n",
    "Step 3: Calculate average z-score of these 3 factors\n",
    "\n",
    "Step 4: Rank average z-score of these 3 factors, group by date\n",
    "\n",
    "Step 5: Choose top 8 highest z-score\n",
    "\n"
   ]
  },
  {
   "cell_type": "code",
   "execution_count": null,
   "metadata": {},
   "outputs": [],
   "source": [
    "import pandas as pd\n",
    "import numpy as np\n",
    "import sqlalchemy\n",
    "from urllib.parse import urlencode\n",
    "import requests\n",
    "from requests import Response\n",
    "import datetime as dt\n",
    "from datetime import time, date, timedelta\n",
    "from dateutil.relativedelta import relativedelta\n",
    "import itertools\n",
    "from math import ceil\n",
    "import scipy.stats as stats"
   ]
  },
  {
   "cell_type": "markdown",
   "metadata": {},
   "source": [
    "## Universe: 142 most liquid HOSE stocks"
   ]
  },
  {
   "cell_type": "code",
   "execution_count": null,
   "metadata": {},
   "outputs": [],
   "source": [
    "list_stock = ['AAA','AMD','ANV','APG','ASM','AST','BCG','BID','BMP','BWE','CCL','CII','CMG','CRE','CSV','CTD','CTF','CTG','CTI','CVT','D2D','DAG','DBC','DBD','DCL','DCM','DGW','DHC','DHG','DIG','DLG','DPG','DPM','DRC','DRH','DXG','EIB','FCN','FIR','FIT','FLC','FPT','FRT','FTS','GAS','GEG','GEX','GIL','GMD','HAG','HAI','HAX','HBC','HCM','HDB','HDC','HDG','HHS','HII','HNG','HPG','HPX','HQC','HSG','HT1','HVH','HVN','IBC','IDI','IJC','IMP','ITA','JVC','KBC','KDH','KOS','KSB','LCG','LDG','LHG','MBB','MSH','MSN','MWG','NCT','NKG','NLG','NT2','NTL','NVL','OGC','PC1','PDR','PHC','PHR','PLX','PME','PNJ','POW','PPC','PTB','PVD','PVT','REE','ROS','SAB','SAM','SBT','SCR','SHI','SKG','SMB','SSI','STB','STK','SZC','SZL','TCB','TCH','TCM','TDH','TDM','TLG','TNA','TNI','TPB','TTB','TVB','VCB','VCI','VGC','VHC','VHM','VIC','VJC','VND','VNG','VNM','VPB','VPG','VPI','VRE','VSC'\n",
    "]"
   ]
  },
  {
   "cell_type": "markdown",
   "metadata": {},
   "source": [
    "## Query financial data: 'total equity','net profit after tax', 'total liabilities'"
   ]
  },
  {
   "cell_type": "code",
   "execution_count": null,
   "metadata": {},
   "outputs": [],
   "source": [
    "base_url = 'http://172.31.240.7:3000/api/v1'\n",
    "login_url = base_url + '/login'\n",
    "query_url = base_url + '/queryFinancialInfo'\n",
    "\n",
    "\n",
    "def get_rest(url, body, headers=None, print_log=False):\n",
    "    if print_log:\n",
    "        print(\"GET REQUEST - url={}, parameters={}\".format(url, body))\n",
    "\n",
    "    response: Response = requests.get(url, params=body, headers=headers)\n",
    "    if response.status_code != 200:\n",
    "        print(response.text)\n",
    "        content = None\n",
    "    else:\n",
    "        try:\n",
    "            content = response.json()\n",
    "        except ValueError:\n",
    "            print(response.text)\n",
    "            content = None\n",
    "\n",
    "    if print_log:\n",
    "        print(\"{} - GET RESPONSE - url={}, data={}\".format(response.status_code, url, content))\n",
    "\n",
    "    return content\n",
    "\n",
    "\n",
    "def post_rest(url, body, headers, print_log=False, encode_require=False):\n",
    "    if print_log:\n",
    "        print(\"POST REQUEST - url={}, body={}\".format(url, body))\n",
    "    if encode_require:\n",
    "        response: Response = requests.post(url, data=urlencode(body), headers=headers)\n",
    "    else:\n",
    "        response: Response = requests.post(url, json=body, headers=headers)\n",
    "    if response.status_code != 200:\n",
    "        print(response.text)\n",
    "        content = None\n",
    "    else:\n",
    "        try:\n",
    "            content = response.json()\n",
    "        except ValueError:\n",
    "            print(response.text)\n",
    "            content = None\n",
    "    if print_log:\n",
    "        print(\"{} - POST RESPONSE - url={}, data={}\".format(response.status_code, url, content))\n",
    "\n",
    "    return content\n",
    "\n",
    "\n",
    "# Login to get acccess token\n",
    "access_token = post_rest(url=login_url, body={\n",
    "    \"grant_type\": \"password_tradex\",\n",
    "    \"client_id\": \"tradex-admin\",\n",
    "    \"client_secret\": \"tradex-admin\",\n",
    "    \"username\": \"vinh.do@techx.vn\",\n",
    "    \"password\": \"123456\",\n",
    "}, headers={\n",
    "    \"Content-Type\": \"application/x-www-form-urlencoded\"\n",
    "}, encode_require=True).get('accessToken')\n",
    "\n",
    "\n",
    "def query_financial_data(list_stock=[], year='', quarter='', type=''): # year and quarter is string\n",
    "    query_content = {\"code\": list_stock,\n",
    "                     \"year\": year,\n",
    "                     \"quarter\": quarter,\n",
    "                     \"type\": type\n",
    "                     }\n",
    "    data = get_rest(query_url, body=query_content, headers={\n",
    "        'Authorization': 'jwt {}'.format(access_token),\n",
    "    })\n",
    "    data = pd.DataFrame(data)\n",
    "    try:\n",
    "        data = pd.melt(data, id_vars = ['code', 'quarter', 'year'], value_vars=[type])\n",
    "        return data\n",
    "    except:\n",
    "        return data\n",
    "def fin_data(factor, peers):\n",
    "    # these keywords are for type of financial data we need\n",
    "    query_keyword = factor # query_keyword = ['net profit after tax']\n",
    "    result1=pd.DataFrame() \n",
    "    list_stock = peers # list_stock = ['TCM','TNG','MSH','VGT','GIL','VGG']\n",
    "    for m in query_keyword:\n",
    "        print(m)\n",
    "        result = pd.DataFrame()\n",
    "        for j in range (2019, 2022):\n",
    "            for i in range(1,5):\n",
    "                example = query_financial_data(peers, year = str(j), quarter = str(i),\n",
    "                               type=m)\n",
    "                result = pd.concat([result,example])\n",
    "        result = pd.DataFrame(result)\n",
    "        print('Done: Keyword')\n",
    "        result = result.rename(columns={'value':m})\n",
    "        result = result.drop(columns='variable')\n",
    "        result['id'] = result['code']+result['year'] + result['quarter']\n",
    "        if result1.empty:\n",
    "            result1  = result\n",
    "        else:\n",
    "            result1 = pd.merge(result1, result, on = ['id','quarter','year','code'], how = 'left')\n",
    "        print('Financial Data: Done')\n",
    "    return result1"
   ]
  },
  {
   "cell_type": "code",
   "execution_count": null,
   "metadata": {
    "scrolled": true
   },
   "outputs": [],
   "source": [
    "data = fin_data(['total equity','net profit after tax', 'total liabilities'], list_stock)"
   ]
  },
  {
   "cell_type": "markdown",
   "metadata": {},
   "source": [
    "## Query price data: Close, Outstanding shares, Date, Month"
   ]
  },
  {
   "cell_type": "code",
   "execution_count": null,
   "metadata": {},
   "outputs": [],
   "source": [
    "user = 'admin'\n",
    "pwd = 'mB17VfhA9gBaWXFaaYSFda2La4ULD12DaZTapt'\n",
    "host = 'vinance-prod.coo1pelwmlwz.ap-southeast-1.rds.amazonaws.com'\n",
    "port = '3306'\n",
    "db = 'vinance'\n",
    "db_engine = sqlalchemy.engine.create_engine(\n",
    "    'mysql://{0}:{1}@{2}:{3}/{4}'.format(user, pwd, host, port, db))\n",
    "cursor = db_engine.connect()\n",
    "query_string = \"SELECT id, code, date, close, oi FROM price where code in {} and date > '2018-10-31' \"\n",
    "price = pd.read_sql_query(query_string.format(tuple(list_stock)), cursor)\n",
    "price = price.sort_values(by=['code', 'date'])\n",
    "cursor.close()\n",
    "\n",
    "price.date=price.date.apply(lambda x: str(x))\n",
    "price=price.loc[price['date']!='2018-01-24']\n",
    "price=price.loc[price['date']!='2018-01-23']\n",
    "price=price.fillna(method='ffill')\n",
    "price['date'] = pd.to_datetime(price['date'])\n",
    "price['month'] =  price['date'].dt.month"
   ]
  },
  {
   "cell_type": "markdown",
   "metadata": {},
   "source": [
    "## Calculate 3 factors: risk reward, leverage, book value per share"
   ]
  },
  {
   "cell_type": "code",
   "execution_count": null,
   "metadata": {},
   "outputs": [],
   "source": [
    "pri_std = price.copy()\n",
    "\n",
    "#Calculate standard deviation\n",
    "pri_std.loc[(pri_std['code']==pri_std['code'].shift(131))&(pri_std['month']!=pri_std['month'].shift(1)),'std'] = pri_std['close'].rolling(131).std()\n",
    "pri_std.loc[pri_std['date']=='2021-07-30','std'] = pri_std['close'].rolling(131).std()\n",
    "pri_std = pri_std.dropna()\n",
    "\n",
    "#Calculate 6 month return\n",
    "pri_std.loc[pri_std['code']==pri_std['code'].shift(6),'pri_mmt'] = pri_std['close']/pri_std['close'].shift(6)-1\n",
    "pri_std['reward']= pri_std['pri_mmt']/pri_std['std']\n",
    "\n",
    "#Lagged financial data\n",
    "pri_std['query'] = (pri_std['date'].dt.date - relativedelta(months=5)).apply(lambda x: str(x.year) + str(ceil(x.month/3))) \n",
    "pri_std['id'] = pri_std['code'] + pri_std['query']\n",
    "pri_std['date']=pri_std['date'].apply(lambda x:x.strftime(\"%Y-%m-%d\"))\n",
    "pri_std['index'] = pri_std['date'] + '_zscore'\n",
    "data3 = pd.merge(pri_std, data, on = ['id','code'], how = 'left')\n",
    "\n",
    "#Calculate leverage, book value per share to price\n",
    "data3['lever'] = data3['total liabilities']/data3['total equity']\n",
    "data3['bvpsp']=(data3['total equity']/data3['oi'])/(data3['close']*1000)\n",
    "data3"
   ]
  },
  {
   "cell_type": "markdown",
   "metadata": {},
   "source": [
    "##  Standardize these 3 factors => Calculate z-score of these 3 factors"
   ]
  },
  {
   "cell_type": "code",
   "execution_count": null,
   "metadata": {},
   "outputs": [],
   "source": [
    "factors = ['lever','bvpsp','reward']\n",
    "tt_zscore = pd.DataFrame()\n",
    "for factor in factors:\n",
    "    df = pd.pivot(data3, columns = 'date',index = 'code',values =factor)\n",
    "    cols = list(df.columns)\n",
    "    zscore = pd.DataFrame(index=df.index)\n",
    "    for col in cols:\n",
    "        col_zscore = col + '_zscore'\n",
    "        zscore[col_zscore] = (df[col] - df[col].mean())/df[col].std(ddof=0)\n",
    "    zscore=zscore.transpose().reset_index()\n",
    "    zscore = pd.melt(zscore, id_vars = ['index'], value_vars=zscore.columns.tolist()[1:],value_name=factor)\n",
    "    if tt_zscore.empty:\n",
    "        tt_zscore = zscore\n",
    "    else:\n",
    "        tt_zscore = pd.merge(tt_zscore,zscore, on =['index','code'], how = 'left')"
   ]
  },
  {
   "cell_type": "markdown",
   "metadata": {},
   "source": [
    "## Exclude Financial Institution, Rank average z-score of these 3 factors, group by date"
   ]
  },
  {
   "cell_type": "code",
   "execution_count": null,
   "metadata": {},
   "outputs": [],
   "source": [
    "tt_zscore['avg'] = tt_zscore[['lever', 'bvpsp', 'reward']].mean(axis=1,skipna = False)\n",
    "data4 = tt_zscore.copy()\n",
    "fin_stock = ['APG','BID','CTG','EIB','FTS','HCM','HDB','MBB','SSI','STB','TCB','TPB','VCB','VCI','VPB']  \n",
    "data4.loc[data4['code'].apply(lambda x: x in set(fin_stock)),'avg'] = np.nan\n",
    "data4['robvre_rank'] = data4.groupby(['index'])['avg'].rank(ascending=False, na_option='bottom')\n",
    "data4['robvre_max'] = data4.groupby(['index'])['robvre_rank'].transform(max)"
   ]
  },
  {
   "cell_type": "markdown",
   "metadata": {},
   "source": [
    "## Choose stocks"
   ]
  },
  {
   "cell_type": "code",
   "execution_count": null,
   "metadata": {},
   "outputs": [],
   "source": [
    "data4.loc[data4['robvre_rank'] < 8,'choose'] = 1\n",
    "data4 = pd.merge(data4, pri_std, on = ['index','code'], how = 'left')\n",
    "data4.loc[data4['choose']==1,'return'] = data4['close'].shift(-1)/data4['close']-1\n",
    "choose = data4[(data4['choose']==1)]\n",
    "choose = pd.pivot_table(choose, values = 'return', index = ['date'], columns = 'code')\n",
    "print('BUY THESE STOCKS!!!!!!')\n",
    "choose.iloc[-1,:].dropna()"
   ]
  }
 ],
 "metadata": {
  "kernelspec": {
   "display_name": "Python 3",
   "language": "python",
   "name": "python3"
  },
  "language_info": {
   "codemirror_mode": {
    "name": "ipython",
    "version": 3
   },
   "file_extension": ".py",
   "mimetype": "text/x-python",
   "name": "python",
   "nbconvert_exporter": "python",
   "pygments_lexer": "ipython3",
   "version": "3.8.8"
  }
 },
 "nbformat": 4,
 "nbformat_minor": 4
}
