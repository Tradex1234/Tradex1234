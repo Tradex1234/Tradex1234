{
 "cells": [
  {
   "cell_type": "code",
   "execution_count": 3,
   "metadata": {},
   "outputs": [],
   "source": [
    "import pandas as pd\n",
    "from urllib.parse import urlencode\n",
    "import requests\n",
    "from requests import Response\n",
    "import plotly.graph_objects as go\n",
    "import sqlalchemy\n",
    "from datetime import datetime, date, time\n",
    "import os, sys\n",
    "import datetime as dt\n",
    "from dateutil.relativedelta import relativedelta\n",
    "from math import ceil\n",
    "import numpy as np\n",
    "import foward_test_valuation_strategy as common"
   ]
  },
  {
   "cell_type": "code",
   "execution_count": 4,
   "metadata": {},
   "outputs": [],
   "source": [
    "keys = ['total equity', 'net accounting profit/(loss) before tax', 'interest expenses', 'fixed assets', \n",
    "        'profit/(loss) before tax', 'profit before tax']\n",
    "\n",
    "hose_list = ['AAA','AMD','ANV','APG','ASM','AST','BCG','BID','BMP','BWE','CCL','CII','CMG','CRE','CSV','CTD','CTF',\n",
    "             'CTG','CTI','CVT','D2D','DAG','DBC','DBD','DCL','DCM','DGW','DHC','DHG','DIG','DLG','DPG','DPM','DRC',\n",
    "             'DRH','DXG','EIB','FCN','FIR','FIT','FLC','FPT','FRT','FTS','GAS','GEG','GEX','GIL','GMD','HAG','HAI',\n",
    "             'HAX','HBC','HCM','HDB','HDC','HDG','HHS','HII','HNG','HPG','HPX','HQC','HSG','HT1','HVH','HVN','IBC',\n",
    "             'IDI','IJC','IMP','ITA','JVC','KBC','KDH','KOS','KSB','LCG','LDG','LHG','MBB','MSH','MSN','MWG','NCT',\n",
    "             'NKG','NLG','NT2','NTL','NVL','OGC','PC1','PDR','PHC','PHR','PLX','PME','PNJ','POW','PPC','PTB','PVD',\n",
    "             'PVT','REE','ROS','SAB','SAM','SBT','SCR','SHI','SKG','SMB','SSI','STB','STK','SZC','SZL','TCB','TCH',\n",
    "             'TCM','TDH','TDM','TLG','TNA','TNI','TPB','TTB','TVB','VCB','VCI','VGC','VHC','VHM','VIC','VJC','VND',\n",
    "             'VNG','VNM','VPB','VPG','VPI','VRE','VSC']"
   ]
  },
  {
   "cell_type": "code",
   "execution_count": 5,
   "metadata": {},
   "outputs": [
    {
     "data": {
      "text/plain": [
       "143"
      ]
     },
     "execution_count": 5,
     "metadata": {},
     "output_type": "execute_result"
    }
   ],
   "source": [
    "len(hose_list)"
   ]
  },
  {
   "cell_type": "code",
   "execution_count": null,
   "metadata": {},
   "outputs": [],
   "source": [
    "access_tok = common.login()"
   ]
  },
  {
   "cell_type": "code",
   "execution_count": null,
   "metadata": {
    "scrolled": true
   },
   "outputs": [],
   "source": [
    "data = pd.DataFrame()\n",
    "for key in keys:\n",
    "    for year in range(2014, 2021):\n",
    "        for quarter in range(1, 5):\n",
    "            df = common.query_financial_data(year=year, \n",
    "                                             quarter=quarter, \n",
    "                                             list_stock=hose_list, \n",
    "                                             type=key, \n",
    "                                             access_token=access_tok)\n",
    "            if len(df) > 0:\n",
    "                df = pd.melt(df, id_vars=['code', 'quarter', 'year'], value_vars=key)\n",
    "            data = pd.concat([data, df])\n",
    "            print('KEY: {} ====== YEAR: {} ===== QUAR: {}'.format(key, year, quarter))\n",
    "    print('DONEEEEEEE')\n",
    "data"
   ]
  },
  {
   "cell_type": "code",
   "execution_count": null,
   "metadata": {
    "scrolled": true
   },
   "outputs": [],
   "source": [
    "yearly_data = pd.DataFrame()\n",
    "for key in keys:\n",
    "    for year in range(2009, 2015):\n",
    "        for quarter in range(1, 5):\n",
    "            df = common.query_financial_data(year=year, \n",
    "                                             quarter=quarter, \n",
    "                                             list_stock=hose_list, \n",
    "                                             type=key, \n",
    "                                             access_token=access_tok)\n",
    "            if len(df) > 0:\n",
    "                df = pd.melt(df, id_vars=['code', 'quarter', 'year'], value_vars=key)\n",
    "            yearly_data = pd.concat([yearly_data, df])\n",
    "            print('KEY: {} ====== YEAR: {} ===== QUAR: {}'.format(key, year, quarter))\n",
    "    print('DONEEEEEEE')\n",
    "yearly_data"
   ]
  },
  {
   "cell_type": "code",
   "execution_count": null,
   "metadata": {},
   "outputs": [],
   "source": [
    "data = pd.concat([yearly_data, data]).drop_duplicates()\n",
    "data = data.drop_duplicates()"
   ]
  },
  {
   "cell_type": "code",
   "execution_count": 1,
   "metadata": {},
   "outputs": [
    {
     "ename": "NameError",
     "evalue": "name 'data' is not defined",
     "output_type": "error",
     "traceback": [
      "\u001b[1;31m---------------------------------------------------------------------------\u001b[0m",
      "\u001b[1;31mNameError\u001b[0m                                 Traceback (most recent call last)",
      "\u001b[1;32m<ipython-input-1-c39e7d4ef251>\u001b[0m in \u001b[0;36m<module>\u001b[1;34m\u001b[0m\n\u001b[1;32m----> 1\u001b[1;33m \u001b[0mdata\u001b[0m\u001b[1;33m.\u001b[0m\u001b[0mto_csv\u001b[0m\u001b[1;33m(\u001b[0m\u001b[1;34m'financial_data_erp5.csv'\u001b[0m\u001b[1;33m,\u001b[0m \u001b[0mindex\u001b[0m\u001b[1;33m=\u001b[0m\u001b[1;32mNone\u001b[0m\u001b[1;33m)\u001b[0m\u001b[1;33m\u001b[0m\u001b[1;33m\u001b[0m\u001b[0m\n\u001b[0m",
      "\u001b[1;31mNameError\u001b[0m: name 'data' is not defined"
     ]
    }
   ],
   "source": [
    "data.to_csv('financial_data_erp5.csv', index=None)"
   ]
  },
  {
   "cell_type": "code",
   "execution_count": 6,
   "metadata": {},
   "outputs": [],
   "source": [
    "data = pd.read_csv('financial_data_erp5.csv').reset_index(drop=True)"
   ]
  },
  {
   "cell_type": "code",
   "execution_count": 7,
   "metadata": {},
   "outputs": [],
   "source": [
    "equity = data[data['variable']=='total equity']\n",
    "interest = data[data['variable']=='interest expenses']\n",
    "asset = data[data['variable']=='fixed assets']\n",
    "ebt = data[data['variable']=='net accounting profit/(loss) before tax']\n",
    "ebt2 = data[data['variable']=='profit/(loss) before tax']\n",
    "ebt3 = data[data['variable']=='profit before tax']"
   ]
  },
  {
   "cell_type": "code",
   "execution_count": 8,
   "metadata": {},
   "outputs": [],
   "source": [
    "equity = equity.drop(columns=['variable']).rename(columns={'value':'total equity'})\n",
    "interest = interest.drop(columns=['variable']).rename(columns={'value':'interest expenses'})\n",
    "asset = asset.drop(columns=['variable']).rename(columns={'value':'fixed assets'})\n",
    "ebt = ebt.drop(columns=['variable']).rename(columns={'value':'net accounting profit/(loss) before tax'})\n",
    "ebt2 = ebt2.drop(columns=['variable']).rename(columns={'value':'profit/(loss) before tax'})\n",
    "ebt3 = ebt3.drop(columns=['variable']).rename(columns={'value':'profit before tax'})"
   ]
  },
  {
   "cell_type": "code",
   "execution_count": 9,
   "metadata": {},
   "outputs": [
    {
     "data": {
      "text/html": [
       "<div>\n",
       "<style scoped>\n",
       "    .dataframe tbody tr th:only-of-type {\n",
       "        vertical-align: middle;\n",
       "    }\n",
       "\n",
       "    .dataframe tbody tr th {\n",
       "        vertical-align: top;\n",
       "    }\n",
       "\n",
       "    .dataframe thead th {\n",
       "        text-align: right;\n",
       "    }\n",
       "</style>\n",
       "<table border=\"1\" class=\"dataframe\">\n",
       "  <thead>\n",
       "    <tr style=\"text-align: right;\">\n",
       "      <th></th>\n",
       "      <th>code</th>\n",
       "      <th>quarter</th>\n",
       "      <th>year</th>\n",
       "      <th>total equity</th>\n",
       "      <th>interest expenses</th>\n",
       "      <th>fixed assets</th>\n",
       "      <th>net accounting profit/(loss) before tax</th>\n",
       "      <th>profit/(loss) before tax</th>\n",
       "      <th>profit before tax</th>\n",
       "    </tr>\n",
       "  </thead>\n",
       "  <tbody>\n",
       "    <tr>\n",
       "      <th>0</th>\n",
       "      <td>CTG</td>\n",
       "      <td>1</td>\n",
       "      <td>2011</td>\n",
       "      <td>22615899.0</td>\n",
       "      <td>NaN</td>\n",
       "      <td>3266595.0</td>\n",
       "      <td>NaN</td>\n",
       "      <td>NaN</td>\n",
       "      <td>1161832.0</td>\n",
       "    </tr>\n",
       "    <tr>\n",
       "      <th>1</th>\n",
       "      <td>KSB</td>\n",
       "      <td>1</td>\n",
       "      <td>2011</td>\n",
       "      <td>409344.0</td>\n",
       "      <td>NaN</td>\n",
       "      <td>165926.0</td>\n",
       "      <td>46876.0</td>\n",
       "      <td>NaN</td>\n",
       "      <td>NaN</td>\n",
       "    </tr>\n",
       "    <tr>\n",
       "      <th>2</th>\n",
       "      <td>PHC</td>\n",
       "      <td>1</td>\n",
       "      <td>2011</td>\n",
       "      <td>157942.0</td>\n",
       "      <td>-3048.0</td>\n",
       "      <td>87455.0</td>\n",
       "      <td>3089.0</td>\n",
       "      <td>NaN</td>\n",
       "      <td>NaN</td>\n",
       "    </tr>\n",
       "    <tr>\n",
       "      <th>3</th>\n",
       "      <td>STB</td>\n",
       "      <td>1</td>\n",
       "      <td>2011</td>\n",
       "      <td>14339855.0</td>\n",
       "      <td>NaN</td>\n",
       "      <td>3200199.0</td>\n",
       "      <td>NaN</td>\n",
       "      <td>NaN</td>\n",
       "      <td>715004.0</td>\n",
       "    </tr>\n",
       "    <tr>\n",
       "      <th>4</th>\n",
       "      <td>VCB</td>\n",
       "      <td>1</td>\n",
       "      <td>2011</td>\n",
       "      <td>26561802.0</td>\n",
       "      <td>NaN</td>\n",
       "      <td>1520908.0</td>\n",
       "      <td>NaN</td>\n",
       "      <td>NaN</td>\n",
       "      <td>1894534.0</td>\n",
       "    </tr>\n",
       "    <tr>\n",
       "      <th>...</th>\n",
       "      <td>...</td>\n",
       "      <td>...</td>\n",
       "      <td>...</td>\n",
       "      <td>...</td>\n",
       "      <td>...</td>\n",
       "      <td>...</td>\n",
       "      <td>...</td>\n",
       "      <td>...</td>\n",
       "      <td>...</td>\n",
       "    </tr>\n",
       "    <tr>\n",
       "      <th>4900</th>\n",
       "      <td>HDB</td>\n",
       "      <td>2</td>\n",
       "      <td>2015</td>\n",
       "      <td>NaN</td>\n",
       "      <td>NaN</td>\n",
       "      <td>NaN</td>\n",
       "      <td>NaN</td>\n",
       "      <td>NaN</td>\n",
       "      <td>172186.0</td>\n",
       "    </tr>\n",
       "    <tr>\n",
       "      <th>4901</th>\n",
       "      <td>TPB</td>\n",
       "      <td>3</td>\n",
       "      <td>2015</td>\n",
       "      <td>NaN</td>\n",
       "      <td>NaN</td>\n",
       "      <td>NaN</td>\n",
       "      <td>NaN</td>\n",
       "      <td>NaN</td>\n",
       "      <td>89330.0</td>\n",
       "    </tr>\n",
       "    <tr>\n",
       "      <th>4902</th>\n",
       "      <td>HDB</td>\n",
       "      <td>3</td>\n",
       "      <td>2015</td>\n",
       "      <td>NaN</td>\n",
       "      <td>NaN</td>\n",
       "      <td>NaN</td>\n",
       "      <td>NaN</td>\n",
       "      <td>NaN</td>\n",
       "      <td>63439.0</td>\n",
       "    </tr>\n",
       "    <tr>\n",
       "      <th>4903</th>\n",
       "      <td>HDB</td>\n",
       "      <td>4</td>\n",
       "      <td>2015</td>\n",
       "      <td>NaN</td>\n",
       "      <td>NaN</td>\n",
       "      <td>NaN</td>\n",
       "      <td>NaN</td>\n",
       "      <td>NaN</td>\n",
       "      <td>403464.0</td>\n",
       "    </tr>\n",
       "    <tr>\n",
       "      <th>4904</th>\n",
       "      <td>TPB</td>\n",
       "      <td>2</td>\n",
       "      <td>2016</td>\n",
       "      <td>NaN</td>\n",
       "      <td>NaN</td>\n",
       "      <td>NaN</td>\n",
       "      <td>NaN</td>\n",
       "      <td>NaN</td>\n",
       "      <td>112015.0</td>\n",
       "    </tr>\n",
       "  </tbody>\n",
       "</table>\n",
       "<p>4905 rows × 9 columns</p>\n",
       "</div>"
      ],
      "text/plain": [
       "     code  quarter  year  total equity  interest expenses  fixed assets  \\\n",
       "0     CTG        1  2011    22615899.0                NaN     3266595.0   \n",
       "1     KSB        1  2011      409344.0                NaN      165926.0   \n",
       "2     PHC        1  2011      157942.0            -3048.0       87455.0   \n",
       "3     STB        1  2011    14339855.0                NaN     3200199.0   \n",
       "4     VCB        1  2011    26561802.0                NaN     1520908.0   \n",
       "...   ...      ...   ...           ...                ...           ...   \n",
       "4900  HDB        2  2015           NaN                NaN           NaN   \n",
       "4901  TPB        3  2015           NaN                NaN           NaN   \n",
       "4902  HDB        3  2015           NaN                NaN           NaN   \n",
       "4903  HDB        4  2015           NaN                NaN           NaN   \n",
       "4904  TPB        2  2016           NaN                NaN           NaN   \n",
       "\n",
       "      net accounting profit/(loss) before tax  profit/(loss) before tax  \\\n",
       "0                                         NaN                       NaN   \n",
       "1                                     46876.0                       NaN   \n",
       "2                                      3089.0                       NaN   \n",
       "3                                         NaN                       NaN   \n",
       "4                                         NaN                       NaN   \n",
       "...                                       ...                       ...   \n",
       "4900                                      NaN                       NaN   \n",
       "4901                                      NaN                       NaN   \n",
       "4902                                      NaN                       NaN   \n",
       "4903                                      NaN                       NaN   \n",
       "4904                                      NaN                       NaN   \n",
       "\n",
       "      profit before tax  \n",
       "0             1161832.0  \n",
       "1                   NaN  \n",
       "2                   NaN  \n",
       "3              715004.0  \n",
       "4             1894534.0  \n",
       "...                 ...  \n",
       "4900           172186.0  \n",
       "4901            89330.0  \n",
       "4902            63439.0  \n",
       "4903           403464.0  \n",
       "4904           112015.0  \n",
       "\n",
       "[4905 rows x 9 columns]"
      ]
     },
     "execution_count": 9,
     "metadata": {},
     "output_type": "execute_result"
    }
   ],
   "source": [
    "data = pd.merge(equity, interest, on=['code', 'quarter', 'year'], how='outer')\n",
    "data = pd.merge(data, asset, on=['code', 'quarter', 'year'], how='outer')\n",
    "data = pd.merge(data, ebt, on=['code', 'quarter', 'year'], how='outer')\n",
    "data = pd.merge(data, ebt2, on=['code', 'quarter', 'year'], how='outer')\n",
    "data = pd.merge(data, ebt3, on=['code', 'quarter', 'year'], how='outer')\n",
    "data"
   ]
  },
  {
   "cell_type": "code",
   "execution_count": 10,
   "metadata": {},
   "outputs": [],
   "source": [
    "data['net accounting profit/(loss) before tax'] = data['net accounting profit/(loss) before tax'].fillna(\n",
    "                                                                                        data['profit before tax'])\n",
    "data['net accounting profit/(loss) before tax'] = data['net accounting profit/(loss) before tax'].fillna(\n",
    "                                                                                        data['profit/(loss) before tax'])"
   ]
  },
  {
   "cell_type": "code",
   "execution_count": 11,
   "metadata": {},
   "outputs": [],
   "source": [
    "data.loc[data['code']==data['code'].shift(-1), 'total equity'] = data.loc[data['code']==data['code'].shift(-1), \n",
    "                                                                          'total equity'].fillna(method='ffill')\n",
    "data.loc[data['code']==data['code'].shift(-1), 'fixed assets'] = data.loc[data['code']==data['code'].shift(-1), \n",
    "                                                                          'fixed assets'].fillna(method='ffill')"
   ]
  },
  {
   "cell_type": "code",
   "execution_count": 12,
   "metadata": {},
   "outputs": [],
   "source": [
    "data = data.sort_values(by=['code', 'year', 'quarter']).reset_index(drop=True)"
   ]
  },
  {
   "cell_type": "code",
   "execution_count": 13,
   "metadata": {},
   "outputs": [],
   "source": [
    "data = data.rename(columns={'net accounting profit/(loss) before tax': 'ebt'})"
   ]
  },
  {
   "cell_type": "code",
   "execution_count": 14,
   "metadata": {},
   "outputs": [],
   "source": [
    "data['ebit'] = data['ebt'] + data['interest expenses']\n",
    "data.loc[data['ebit'].isna(), 'ebit'] = data['ebt']"
   ]
  },
  {
   "cell_type": "code",
   "execution_count": 15,
   "metadata": {},
   "outputs": [],
   "source": [
    "data = data.drop(columns=['profit/(loss) before tax', 'profit before tax'])"
   ]
  },
  {
   "cell_type": "code",
   "execution_count": 16,
   "metadata": {},
   "outputs": [],
   "source": [
    "data['roic'] = data['ebit'] / (data['total equity']+data['fixed assets'])"
   ]
  },
  {
   "cell_type": "code",
   "execution_count": 17,
   "metadata": {},
   "outputs": [],
   "source": [
    "data['qrt_yr'] = data['year'].apply(lambda x: str(x)) + data['quarter'].apply(lambda x: str(x))"
   ]
  },
  {
   "cell_type": "code",
   "execution_count": 18,
   "metadata": {},
   "outputs": [],
   "source": [
    "data = data.drop_duplicates()"
   ]
  },
  {
   "cell_type": "code",
   "execution_count": 19,
   "metadata": {},
   "outputs": [
    {
     "data": {
      "text/html": [
       "<div>\n",
       "<style scoped>\n",
       "    .dataframe tbody tr th:only-of-type {\n",
       "        vertical-align: middle;\n",
       "    }\n",
       "\n",
       "    .dataframe tbody tr th {\n",
       "        vertical-align: top;\n",
       "    }\n",
       "\n",
       "    .dataframe thead th {\n",
       "        text-align: right;\n",
       "    }\n",
       "</style>\n",
       "<table border=\"1\" class=\"dataframe\">\n",
       "  <thead>\n",
       "    <tr style=\"text-align: right;\">\n",
       "      <th></th>\n",
       "      <th>code</th>\n",
       "      <th>quarter</th>\n",
       "      <th>year</th>\n",
       "      <th>total equity</th>\n",
       "      <th>interest expenses</th>\n",
       "      <th>fixed assets</th>\n",
       "      <th>ebt</th>\n",
       "      <th>ebit</th>\n",
       "      <th>roic</th>\n",
       "      <th>qrt_yr</th>\n",
       "    </tr>\n",
       "  </thead>\n",
       "  <tbody>\n",
       "    <tr>\n",
       "      <th>0</th>\n",
       "      <td>AAA</td>\n",
       "      <td>1</td>\n",
       "      <td>2011</td>\n",
       "      <td>302752.0</td>\n",
       "      <td>-6887.0</td>\n",
       "      <td>356436.0</td>\n",
       "      <td>19161.0</td>\n",
       "      <td>12274.0</td>\n",
       "      <td>0.018620</td>\n",
       "      <td>20111</td>\n",
       "    </tr>\n",
       "    <tr>\n",
       "      <th>1</th>\n",
       "      <td>AAA</td>\n",
       "      <td>2</td>\n",
       "      <td>2011</td>\n",
       "      <td>311510.0</td>\n",
       "      <td>-8068.0</td>\n",
       "      <td>364849.0</td>\n",
       "      <td>11049.0</td>\n",
       "      <td>2981.0</td>\n",
       "      <td>0.004407</td>\n",
       "      <td>20112</td>\n",
       "    </tr>\n",
       "    <tr>\n",
       "      <th>2</th>\n",
       "      <td>AAA</td>\n",
       "      <td>3</td>\n",
       "      <td>2011</td>\n",
       "      <td>329784.0</td>\n",
       "      <td>-9747.0</td>\n",
       "      <td>405337.0</td>\n",
       "      <td>22561.0</td>\n",
       "      <td>12814.0</td>\n",
       "      <td>0.017431</td>\n",
       "      <td>20113</td>\n",
       "    </tr>\n",
       "    <tr>\n",
       "      <th>3</th>\n",
       "      <td>AAA</td>\n",
       "      <td>4</td>\n",
       "      <td>2011</td>\n",
       "      <td>350355.0</td>\n",
       "      <td>-10139.0</td>\n",
       "      <td>438773.0</td>\n",
       "      <td>25129.0</td>\n",
       "      <td>14990.0</td>\n",
       "      <td>0.018996</td>\n",
       "      <td>20114</td>\n",
       "    </tr>\n",
       "    <tr>\n",
       "      <th>4</th>\n",
       "      <td>AAA</td>\n",
       "      <td>1</td>\n",
       "      <td>2012</td>\n",
       "      <td>367052.0</td>\n",
       "      <td>-9031.0</td>\n",
       "      <td>430934.0</td>\n",
       "      <td>18266.0</td>\n",
       "      <td>9235.0</td>\n",
       "      <td>0.011573</td>\n",
       "      <td>20121</td>\n",
       "    </tr>\n",
       "    <tr>\n",
       "      <th>...</th>\n",
       "      <td>...</td>\n",
       "      <td>...</td>\n",
       "      <td>...</td>\n",
       "      <td>...</td>\n",
       "      <td>...</td>\n",
       "      <td>...</td>\n",
       "      <td>...</td>\n",
       "      <td>...</td>\n",
       "      <td>...</td>\n",
       "      <td>...</td>\n",
       "    </tr>\n",
       "    <tr>\n",
       "      <th>4900</th>\n",
       "      <td>VSC</td>\n",
       "      <td>4</td>\n",
       "      <td>2019</td>\n",
       "      <td>2070078.0</td>\n",
       "      <td>-552.0</td>\n",
       "      <td>1082398.0</td>\n",
       "      <td>110987.0</td>\n",
       "      <td>110435.0</td>\n",
       "      <td>0.035031</td>\n",
       "      <td>20194</td>\n",
       "    </tr>\n",
       "    <tr>\n",
       "      <th>4901</th>\n",
       "      <td>VSC</td>\n",
       "      <td>1</td>\n",
       "      <td>2020</td>\n",
       "      <td>2141761.0</td>\n",
       "      <td>-1075.0</td>\n",
       "      <td>1029230.0</td>\n",
       "      <td>81263.0</td>\n",
       "      <td>80188.0</td>\n",
       "      <td>0.025288</td>\n",
       "      <td>20201</td>\n",
       "    </tr>\n",
       "    <tr>\n",
       "      <th>4902</th>\n",
       "      <td>VSC</td>\n",
       "      <td>2</td>\n",
       "      <td>2020</td>\n",
       "      <td>2185842.0</td>\n",
       "      <td>-639.0</td>\n",
       "      <td>1016896.0</td>\n",
       "      <td>73815.0</td>\n",
       "      <td>73176.0</td>\n",
       "      <td>0.022848</td>\n",
       "      <td>20202</td>\n",
       "    </tr>\n",
       "    <tr>\n",
       "      <th>4903</th>\n",
       "      <td>VSC</td>\n",
       "      <td>3</td>\n",
       "      <td>2020</td>\n",
       "      <td>2175866.0</td>\n",
       "      <td>-89.0</td>\n",
       "      <td>965396.0</td>\n",
       "      <td>86117.0</td>\n",
       "      <td>86028.0</td>\n",
       "      <td>0.027386</td>\n",
       "      <td>20203</td>\n",
       "    </tr>\n",
       "    <tr>\n",
       "      <th>4904</th>\n",
       "      <td>VSC</td>\n",
       "      <td>4</td>\n",
       "      <td>2020</td>\n",
       "      <td>2170698.0</td>\n",
       "      <td>-43.0</td>\n",
       "      <td>921586.0</td>\n",
       "      <td>94537.0</td>\n",
       "      <td>94494.0</td>\n",
       "      <td>0.030558</td>\n",
       "      <td>20204</td>\n",
       "    </tr>\n",
       "  </tbody>\n",
       "</table>\n",
       "<p>4905 rows × 10 columns</p>\n",
       "</div>"
      ],
      "text/plain": [
       "     code  quarter  year  total equity  interest expenses  fixed assets  \\\n",
       "0     AAA        1  2011      302752.0            -6887.0      356436.0   \n",
       "1     AAA        2  2011      311510.0            -8068.0      364849.0   \n",
       "2     AAA        3  2011      329784.0            -9747.0      405337.0   \n",
       "3     AAA        4  2011      350355.0           -10139.0      438773.0   \n",
       "4     AAA        1  2012      367052.0            -9031.0      430934.0   \n",
       "...   ...      ...   ...           ...                ...           ...   \n",
       "4900  VSC        4  2019     2070078.0             -552.0     1082398.0   \n",
       "4901  VSC        1  2020     2141761.0            -1075.0     1029230.0   \n",
       "4902  VSC        2  2020     2185842.0             -639.0     1016896.0   \n",
       "4903  VSC        3  2020     2175866.0              -89.0      965396.0   \n",
       "4904  VSC        4  2020     2170698.0              -43.0      921586.0   \n",
       "\n",
       "           ebt      ebit      roic qrt_yr  \n",
       "0      19161.0   12274.0  0.018620  20111  \n",
       "1      11049.0    2981.0  0.004407  20112  \n",
       "2      22561.0   12814.0  0.017431  20113  \n",
       "3      25129.0   14990.0  0.018996  20114  \n",
       "4      18266.0    9235.0  0.011573  20121  \n",
       "...        ...       ...       ...    ...  \n",
       "4900  110987.0  110435.0  0.035031  20194  \n",
       "4901   81263.0   80188.0  0.025288  20201  \n",
       "4902   73815.0   73176.0  0.022848  20202  \n",
       "4903   86117.0   86028.0  0.027386  20203  \n",
       "4904   94537.0   94494.0  0.030558  20204  \n",
       "\n",
       "[4905 rows x 10 columns]"
      ]
     },
     "execution_count": 19,
     "metadata": {},
     "output_type": "execute_result"
    }
   ],
   "source": [
    "data"
   ]
  },
  {
   "cell_type": "code",
   "execution_count": 20,
   "metadata": {},
   "outputs": [],
   "source": [
    "roic_yr = pd.pivot(data, index='qrt_yr', columns='code', values='roic')"
   ]
  },
  {
   "cell_type": "code",
   "execution_count": 21,
   "metadata": {},
   "outputs": [
    {
     "data": {
      "text/html": [
       "<div>\n",
       "<style scoped>\n",
       "    .dataframe tbody tr th:only-of-type {\n",
       "        vertical-align: middle;\n",
       "    }\n",
       "\n",
       "    .dataframe tbody tr th {\n",
       "        vertical-align: top;\n",
       "    }\n",
       "\n",
       "    .dataframe thead th {\n",
       "        text-align: right;\n",
       "    }\n",
       "</style>\n",
       "<table border=\"1\" class=\"dataframe\">\n",
       "  <thead>\n",
       "    <tr style=\"text-align: right;\">\n",
       "      <th></th>\n",
       "      <th>qrt_yr</th>\n",
       "      <th>code</th>\n",
       "      <th>roic_5yr_avg</th>\n",
       "    </tr>\n",
       "  </thead>\n",
       "  <tbody>\n",
       "    <tr>\n",
       "      <th>0</th>\n",
       "      <td>20111</td>\n",
       "      <td>AAA</td>\n",
       "      <td>NaN</td>\n",
       "    </tr>\n",
       "    <tr>\n",
       "      <th>1</th>\n",
       "      <td>20112</td>\n",
       "      <td>AAA</td>\n",
       "      <td>NaN</td>\n",
       "    </tr>\n",
       "    <tr>\n",
       "      <th>2</th>\n",
       "      <td>20113</td>\n",
       "      <td>AAA</td>\n",
       "      <td>NaN</td>\n",
       "    </tr>\n",
       "    <tr>\n",
       "      <th>3</th>\n",
       "      <td>20114</td>\n",
       "      <td>AAA</td>\n",
       "      <td>NaN</td>\n",
       "    </tr>\n",
       "    <tr>\n",
       "      <th>4</th>\n",
       "      <td>20121</td>\n",
       "      <td>AAA</td>\n",
       "      <td>NaN</td>\n",
       "    </tr>\n",
       "    <tr>\n",
       "      <th>...</th>\n",
       "      <td>...</td>\n",
       "      <td>...</td>\n",
       "      <td>...</td>\n",
       "    </tr>\n",
       "    <tr>\n",
       "      <th>5715</th>\n",
       "      <td>20194</td>\n",
       "      <td>VSC</td>\n",
       "      <td>0.030265</td>\n",
       "    </tr>\n",
       "    <tr>\n",
       "      <th>5716</th>\n",
       "      <td>20201</td>\n",
       "      <td>VSC</td>\n",
       "      <td>0.029151</td>\n",
       "    </tr>\n",
       "    <tr>\n",
       "      <th>5717</th>\n",
       "      <td>20202</td>\n",
       "      <td>VSC</td>\n",
       "      <td>0.027461</td>\n",
       "    </tr>\n",
       "    <tr>\n",
       "      <th>5718</th>\n",
       "      <td>20203</td>\n",
       "      <td>VSC</td>\n",
       "      <td>0.025681</td>\n",
       "    </tr>\n",
       "    <tr>\n",
       "      <th>5719</th>\n",
       "      <td>20204</td>\n",
       "      <td>VSC</td>\n",
       "      <td>0.025828</td>\n",
       "    </tr>\n",
       "  </tbody>\n",
       "</table>\n",
       "<p>5720 rows × 3 columns</p>\n",
       "</div>"
      ],
      "text/plain": [
       "     qrt_yr code  roic_5yr_avg\n",
       "0     20111  AAA           NaN\n",
       "1     20112  AAA           NaN\n",
       "2     20113  AAA           NaN\n",
       "3     20114  AAA           NaN\n",
       "4     20121  AAA           NaN\n",
       "...     ...  ...           ...\n",
       "5715  20194  VSC      0.030265\n",
       "5716  20201  VSC      0.029151\n",
       "5717  20202  VSC      0.027461\n",
       "5718  20203  VSC      0.025681\n",
       "5719  20204  VSC      0.025828\n",
       "\n",
       "[5720 rows x 3 columns]"
      ]
     },
     "execution_count": 21,
     "metadata": {},
     "output_type": "execute_result"
    }
   ],
   "source": [
    "roic_5yr_avg = roic_yr.rolling(20).mean().reset_index()\n",
    "roic_5yr_avg = pd.melt(roic_5yr_avg, id_vars=['qrt_yr'], value_vars=roic_5yr_avg.columns[1:])\n",
    "roic_5yr_avg = roic_5yr_avg.rename(columns={'value': 'roic_5yr_avg'})\n",
    "roic_5yr_avg"
   ]
  },
  {
   "cell_type": "code",
   "execution_count": 22,
   "metadata": {},
   "outputs": [],
   "source": [
    "data = pd.merge(data, roic_5yr_avg, on=['code', 'qrt_yr'], how='inner')"
   ]
  },
  {
   "cell_type": "code",
   "execution_count": 23,
   "metadata": {},
   "outputs": [
    {
     "data": {
      "text/html": [
       "<div>\n",
       "<style scoped>\n",
       "    .dataframe tbody tr th:only-of-type {\n",
       "        vertical-align: middle;\n",
       "    }\n",
       "\n",
       "    .dataframe tbody tr th {\n",
       "        vertical-align: top;\n",
       "    }\n",
       "\n",
       "    .dataframe thead th {\n",
       "        text-align: right;\n",
       "    }\n",
       "</style>\n",
       "<table border=\"1\" class=\"dataframe\">\n",
       "  <thead>\n",
       "    <tr style=\"text-align: right;\">\n",
       "      <th></th>\n",
       "      <th>code</th>\n",
       "      <th>quarter</th>\n",
       "      <th>year</th>\n",
       "      <th>total equity</th>\n",
       "      <th>interest expenses</th>\n",
       "      <th>fixed assets</th>\n",
       "      <th>ebt</th>\n",
       "      <th>ebit</th>\n",
       "      <th>roic</th>\n",
       "      <th>qrt_yr</th>\n",
       "      <th>roic_5yr_avg</th>\n",
       "    </tr>\n",
       "  </thead>\n",
       "  <tbody>\n",
       "    <tr>\n",
       "      <th>0</th>\n",
       "      <td>AAA</td>\n",
       "      <td>1</td>\n",
       "      <td>2011</td>\n",
       "      <td>302752.0</td>\n",
       "      <td>-6887.0</td>\n",
       "      <td>356436.0</td>\n",
       "      <td>19161.0</td>\n",
       "      <td>12274.0</td>\n",
       "      <td>0.018620</td>\n",
       "      <td>20111</td>\n",
       "      <td>NaN</td>\n",
       "    </tr>\n",
       "    <tr>\n",
       "      <th>1</th>\n",
       "      <td>AAA</td>\n",
       "      <td>2</td>\n",
       "      <td>2011</td>\n",
       "      <td>311510.0</td>\n",
       "      <td>-8068.0</td>\n",
       "      <td>364849.0</td>\n",
       "      <td>11049.0</td>\n",
       "      <td>2981.0</td>\n",
       "      <td>0.004407</td>\n",
       "      <td>20112</td>\n",
       "      <td>NaN</td>\n",
       "    </tr>\n",
       "    <tr>\n",
       "      <th>2</th>\n",
       "      <td>AAA</td>\n",
       "      <td>3</td>\n",
       "      <td>2011</td>\n",
       "      <td>329784.0</td>\n",
       "      <td>-9747.0</td>\n",
       "      <td>405337.0</td>\n",
       "      <td>22561.0</td>\n",
       "      <td>12814.0</td>\n",
       "      <td>0.017431</td>\n",
       "      <td>20113</td>\n",
       "      <td>NaN</td>\n",
       "    </tr>\n",
       "    <tr>\n",
       "      <th>3</th>\n",
       "      <td>AAA</td>\n",
       "      <td>4</td>\n",
       "      <td>2011</td>\n",
       "      <td>350355.0</td>\n",
       "      <td>-10139.0</td>\n",
       "      <td>438773.0</td>\n",
       "      <td>25129.0</td>\n",
       "      <td>14990.0</td>\n",
       "      <td>0.018996</td>\n",
       "      <td>20114</td>\n",
       "      <td>NaN</td>\n",
       "    </tr>\n",
       "    <tr>\n",
       "      <th>4</th>\n",
       "      <td>AAA</td>\n",
       "      <td>1</td>\n",
       "      <td>2012</td>\n",
       "      <td>367052.0</td>\n",
       "      <td>-9031.0</td>\n",
       "      <td>430934.0</td>\n",
       "      <td>18266.0</td>\n",
       "      <td>9235.0</td>\n",
       "      <td>0.011573</td>\n",
       "      <td>20121</td>\n",
       "      <td>NaN</td>\n",
       "    </tr>\n",
       "    <tr>\n",
       "      <th>...</th>\n",
       "      <td>...</td>\n",
       "      <td>...</td>\n",
       "      <td>...</td>\n",
       "      <td>...</td>\n",
       "      <td>...</td>\n",
       "      <td>...</td>\n",
       "      <td>...</td>\n",
       "      <td>...</td>\n",
       "      <td>...</td>\n",
       "      <td>...</td>\n",
       "      <td>...</td>\n",
       "    </tr>\n",
       "    <tr>\n",
       "      <th>4900</th>\n",
       "      <td>VSC</td>\n",
       "      <td>4</td>\n",
       "      <td>2019</td>\n",
       "      <td>2070078.0</td>\n",
       "      <td>-552.0</td>\n",
       "      <td>1082398.0</td>\n",
       "      <td>110987.0</td>\n",
       "      <td>110435.0</td>\n",
       "      <td>0.035031</td>\n",
       "      <td>20194</td>\n",
       "      <td>0.030265</td>\n",
       "    </tr>\n",
       "    <tr>\n",
       "      <th>4901</th>\n",
       "      <td>VSC</td>\n",
       "      <td>1</td>\n",
       "      <td>2020</td>\n",
       "      <td>2141761.0</td>\n",
       "      <td>-1075.0</td>\n",
       "      <td>1029230.0</td>\n",
       "      <td>81263.0</td>\n",
       "      <td>80188.0</td>\n",
       "      <td>0.025288</td>\n",
       "      <td>20201</td>\n",
       "      <td>0.029151</td>\n",
       "    </tr>\n",
       "    <tr>\n",
       "      <th>4902</th>\n",
       "      <td>VSC</td>\n",
       "      <td>2</td>\n",
       "      <td>2020</td>\n",
       "      <td>2185842.0</td>\n",
       "      <td>-639.0</td>\n",
       "      <td>1016896.0</td>\n",
       "      <td>73815.0</td>\n",
       "      <td>73176.0</td>\n",
       "      <td>0.022848</td>\n",
       "      <td>20202</td>\n",
       "      <td>0.027461</td>\n",
       "    </tr>\n",
       "    <tr>\n",
       "      <th>4903</th>\n",
       "      <td>VSC</td>\n",
       "      <td>3</td>\n",
       "      <td>2020</td>\n",
       "      <td>2175866.0</td>\n",
       "      <td>-89.0</td>\n",
       "      <td>965396.0</td>\n",
       "      <td>86117.0</td>\n",
       "      <td>86028.0</td>\n",
       "      <td>0.027386</td>\n",
       "      <td>20203</td>\n",
       "      <td>0.025681</td>\n",
       "    </tr>\n",
       "    <tr>\n",
       "      <th>4904</th>\n",
       "      <td>VSC</td>\n",
       "      <td>4</td>\n",
       "      <td>2020</td>\n",
       "      <td>2170698.0</td>\n",
       "      <td>-43.0</td>\n",
       "      <td>921586.0</td>\n",
       "      <td>94537.0</td>\n",
       "      <td>94494.0</td>\n",
       "      <td>0.030558</td>\n",
       "      <td>20204</td>\n",
       "      <td>0.025828</td>\n",
       "    </tr>\n",
       "  </tbody>\n",
       "</table>\n",
       "<p>4905 rows × 11 columns</p>\n",
       "</div>"
      ],
      "text/plain": [
       "     code  quarter  year  total equity  interest expenses  fixed assets  \\\n",
       "0     AAA        1  2011      302752.0            -6887.0      356436.0   \n",
       "1     AAA        2  2011      311510.0            -8068.0      364849.0   \n",
       "2     AAA        3  2011      329784.0            -9747.0      405337.0   \n",
       "3     AAA        4  2011      350355.0           -10139.0      438773.0   \n",
       "4     AAA        1  2012      367052.0            -9031.0      430934.0   \n",
       "...   ...      ...   ...           ...                ...           ...   \n",
       "4900  VSC        4  2019     2070078.0             -552.0     1082398.0   \n",
       "4901  VSC        1  2020     2141761.0            -1075.0     1029230.0   \n",
       "4902  VSC        2  2020     2185842.0             -639.0     1016896.0   \n",
       "4903  VSC        3  2020     2175866.0              -89.0      965396.0   \n",
       "4904  VSC        4  2020     2170698.0              -43.0      921586.0   \n",
       "\n",
       "           ebt      ebit      roic qrt_yr  roic_5yr_avg  \n",
       "0      19161.0   12274.0  0.018620  20111           NaN  \n",
       "1      11049.0    2981.0  0.004407  20112           NaN  \n",
       "2      22561.0   12814.0  0.017431  20113           NaN  \n",
       "3      25129.0   14990.0  0.018996  20114           NaN  \n",
       "4      18266.0    9235.0  0.011573  20121           NaN  \n",
       "...        ...       ...       ...    ...           ...  \n",
       "4900  110987.0  110435.0  0.035031  20194      0.030265  \n",
       "4901   81263.0   80188.0  0.025288  20201      0.029151  \n",
       "4902   73815.0   73176.0  0.022848  20202      0.027461  \n",
       "4903   86117.0   86028.0  0.027386  20203      0.025681  \n",
       "4904   94537.0   94494.0  0.030558  20204      0.025828  \n",
       "\n",
       "[4905 rows x 11 columns]"
      ]
     },
     "execution_count": 23,
     "metadata": {},
     "output_type": "execute_result"
    }
   ],
   "source": [
    "data"
   ]
  },
  {
   "cell_type": "code",
   "execution_count": 48,
   "metadata": {},
   "outputs": [],
   "source": [
    "price = common.get_stock_price(stock_arr=hose_list, \n",
    "                               to_date='2021-04-30', \n",
    "                               from_date='2016-03-31', pivot_type=False, price=True)"
   ]
  },
  {
   "cell_type": "code",
   "execution_count": 49,
   "metadata": {},
   "outputs": [],
   "source": [
    "oi = common.get_stock_oi(stock_arr=hose_list, to_date='2021-04-30', from_date='2015-01-01', pivot_type=False)"
   ]
  },
  {
   "cell_type": "code",
   "execution_count": 50,
   "metadata": {},
   "outputs": [],
   "source": [
    "price_oi = pd.merge(price, oi, on=['date', 'code'], how='left')"
   ]
  },
  {
   "cell_type": "code",
   "execution_count": 51,
   "metadata": {},
   "outputs": [],
   "source": [
    "price_oi['marcap'] = price_oi['close'] * 1000 * price_oi['oi']"
   ]
  },
  {
   "cell_type": "code",
   "execution_count": 52,
   "metadata": {},
   "outputs": [],
   "source": [
    "price_oi['date'] = price_oi['date'].apply(lambda x: datetime.strptime(x, '%Y-%m-%d'))"
   ]
  },
  {
   "cell_type": "code",
   "execution_count": 53,
   "metadata": {},
   "outputs": [],
   "source": [
    "price_oi['month'] = price_oi['date'].dt.month"
   ]
  },
  {
   "cell_type": "code",
   "execution_count": 54,
   "metadata": {},
   "outputs": [],
   "source": [
    "price_oi.loc[(price_oi['month']!=price_oi['month'].shift(-1))|(\n",
    "            price_oi['code']!=price_oi['code'].shift(-1)), 'choose'] = 1\n",
    "price_oi_monthly = price_oi[price_oi['choose']==1].reset_index(drop=True).drop(columns=['choose', 'month'])"
   ]
  },
  {
   "cell_type": "code",
   "execution_count": 55,
   "metadata": {},
   "outputs": [],
   "source": [
    "price_oi_monthly['date_lag_x'] = price_oi_monthly['date'].apply(lambda x: x-relativedelta(months=5))\n",
    "price_oi_monthly['year'] = price_oi_monthly['date_lag_x'].dt.year\n",
    "price_oi_monthly['quarter'] = price_oi_monthly['date_lag_x'].dt.month.apply(lambda x: ceil(x/3))\n"
   ]
  },
  {
   "cell_type": "code",
   "execution_count": 56,
   "metadata": {},
   "outputs": [],
   "source": [
    "price_oi_fin_monthly = pd.merge(price_oi_monthly, data, on=['code', 'year', 'quarter'])"
   ]
  },
  {
   "cell_type": "code",
   "execution_count": 57,
   "metadata": {},
   "outputs": [],
   "source": [
    "price_oi_fin_monthly['earnings yield'] = price_oi_fin_monthly['ebit'] / price_oi_fin_monthly['marcap']"
   ]
  },
  {
   "cell_type": "code",
   "execution_count": 58,
   "metadata": {},
   "outputs": [],
   "source": [
    "price_oi_fin_monthly['pB'] = price_oi_fin_monthly['marcap'] / price_oi_fin_monthly['total equity']"
   ]
  },
  {
   "cell_type": "code",
   "execution_count": 59,
   "metadata": {},
   "outputs": [
    {
     "data": {
      "text/html": [
       "<div>\n",
       "<style scoped>\n",
       "    .dataframe tbody tr th:only-of-type {\n",
       "        vertical-align: middle;\n",
       "    }\n",
       "\n",
       "    .dataframe tbody tr th {\n",
       "        vertical-align: top;\n",
       "    }\n",
       "\n",
       "    .dataframe thead th {\n",
       "        text-align: right;\n",
       "    }\n",
       "</style>\n",
       "<table border=\"1\" class=\"dataframe\">\n",
       "  <thead>\n",
       "    <tr style=\"text-align: right;\">\n",
       "      <th></th>\n",
       "      <th>date</th>\n",
       "      <th>code</th>\n",
       "      <th>close</th>\n",
       "      <th>oi</th>\n",
       "      <th>marcap</th>\n",
       "      <th>date_lag_x</th>\n",
       "      <th>year</th>\n",
       "      <th>quarter</th>\n",
       "      <th>total equity</th>\n",
       "      <th>interest expenses</th>\n",
       "      <th>fixed assets</th>\n",
       "      <th>ebt</th>\n",
       "      <th>ebit</th>\n",
       "      <th>roic</th>\n",
       "      <th>qrt_yr</th>\n",
       "      <th>roic_5yr_avg</th>\n",
       "      <th>earnings yield</th>\n",
       "      <th>pB</th>\n",
       "    </tr>\n",
       "  </thead>\n",
       "  <tbody>\n",
       "    <tr>\n",
       "      <th>0</th>\n",
       "      <td>2016-03-31</td>\n",
       "      <td>AAA</td>\n",
       "      <td>9.64</td>\n",
       "      <td>49.499989</td>\n",
       "      <td>4.771799e+05</td>\n",
       "      <td>2015-10-31</td>\n",
       "      <td>2015</td>\n",
       "      <td>4</td>\n",
       "      <td>819485.0</td>\n",
       "      <td>-6474.0</td>\n",
       "      <td>636532.0</td>\n",
       "      <td>27233.0</td>\n",
       "      <td>20759.0</td>\n",
       "      <td>0.014257</td>\n",
       "      <td>20154</td>\n",
       "      <td>0.010377</td>\n",
       "      <td>0.043504</td>\n",
       "      <td>0.582292</td>\n",
       "    </tr>\n",
       "    <tr>\n",
       "      <th>1</th>\n",
       "      <td>2016-04-29</td>\n",
       "      <td>AAA</td>\n",
       "      <td>11.18</td>\n",
       "      <td>49.499989</td>\n",
       "      <td>5.534099e+05</td>\n",
       "      <td>2015-11-29</td>\n",
       "      <td>2015</td>\n",
       "      <td>4</td>\n",
       "      <td>819485.0</td>\n",
       "      <td>-6474.0</td>\n",
       "      <td>636532.0</td>\n",
       "      <td>27233.0</td>\n",
       "      <td>20759.0</td>\n",
       "      <td>0.014257</td>\n",
       "      <td>20154</td>\n",
       "      <td>0.010377</td>\n",
       "      <td>0.037511</td>\n",
       "      <td>0.675314</td>\n",
       "    </tr>\n",
       "    <tr>\n",
       "      <th>2</th>\n",
       "      <td>2016-05-31</td>\n",
       "      <td>AAA</td>\n",
       "      <td>14.47</td>\n",
       "      <td>51.899986</td>\n",
       "      <td>7.509928e+05</td>\n",
       "      <td>2015-12-31</td>\n",
       "      <td>2015</td>\n",
       "      <td>4</td>\n",
       "      <td>819485.0</td>\n",
       "      <td>-6474.0</td>\n",
       "      <td>636532.0</td>\n",
       "      <td>27233.0</td>\n",
       "      <td>20759.0</td>\n",
       "      <td>0.014257</td>\n",
       "      <td>20154</td>\n",
       "      <td>0.010377</td>\n",
       "      <td>0.027642</td>\n",
       "      <td>0.916420</td>\n",
       "    </tr>\n",
       "    <tr>\n",
       "      <th>3</th>\n",
       "      <td>2016-06-30</td>\n",
       "      <td>AAA</td>\n",
       "      <td>17.94</td>\n",
       "      <td>51.899986</td>\n",
       "      <td>9.310857e+05</td>\n",
       "      <td>2016-01-30</td>\n",
       "      <td>2016</td>\n",
       "      <td>1</td>\n",
       "      <td>845170.0</td>\n",
       "      <td>-6294.0</td>\n",
       "      <td>591620.0</td>\n",
       "      <td>32024.0</td>\n",
       "      <td>25730.0</td>\n",
       "      <td>0.017908</td>\n",
       "      <td>20161</td>\n",
       "      <td>0.010342</td>\n",
       "      <td>0.027634</td>\n",
       "      <td>1.101655</td>\n",
       "    </tr>\n",
       "    <tr>\n",
       "      <th>4</th>\n",
       "      <td>2016-07-29</td>\n",
       "      <td>AAA</td>\n",
       "      <td>21.28</td>\n",
       "      <td>51.899986</td>\n",
       "      <td>1.104432e+06</td>\n",
       "      <td>2016-02-29</td>\n",
       "      <td>2016</td>\n",
       "      <td>1</td>\n",
       "      <td>845170.0</td>\n",
       "      <td>-6294.0</td>\n",
       "      <td>591620.0</td>\n",
       "      <td>32024.0</td>\n",
       "      <td>25730.0</td>\n",
       "      <td>0.017908</td>\n",
       "      <td>20161</td>\n",
       "      <td>0.010342</td>\n",
       "      <td>0.023297</td>\n",
       "      <td>1.306757</td>\n",
       "    </tr>\n",
       "    <tr>\n",
       "      <th>...</th>\n",
       "      <td>...</td>\n",
       "      <td>...</td>\n",
       "      <td>...</td>\n",
       "      <td>...</td>\n",
       "      <td>...</td>\n",
       "      <td>...</td>\n",
       "      <td>...</td>\n",
       "      <td>...</td>\n",
       "      <td>...</td>\n",
       "      <td>...</td>\n",
       "      <td>...</td>\n",
       "      <td>...</td>\n",
       "      <td>...</td>\n",
       "      <td>...</td>\n",
       "      <td>...</td>\n",
       "      <td>...</td>\n",
       "      <td>...</td>\n",
       "      <td>...</td>\n",
       "    </tr>\n",
       "    <tr>\n",
       "      <th>57</th>\n",
       "      <td>2020-12-31</td>\n",
       "      <td>AAA</td>\n",
       "      <td>14.40</td>\n",
       "      <td>221.759964</td>\n",
       "      <td>3.193343e+06</td>\n",
       "      <td>2020-07-31</td>\n",
       "      <td>2020</td>\n",
       "      <td>3</td>\n",
       "      <td>3966823.0</td>\n",
       "      <td>-49063.0</td>\n",
       "      <td>2383105.0</td>\n",
       "      <td>100022.0</td>\n",
       "      <td>50959.0</td>\n",
       "      <td>0.008025</td>\n",
       "      <td>20203</td>\n",
       "      <td>0.014617</td>\n",
       "      <td>0.015958</td>\n",
       "      <td>0.805013</td>\n",
       "    </tr>\n",
       "    <tr>\n",
       "      <th>58</th>\n",
       "      <td>2021-01-29</td>\n",
       "      <td>AAA</td>\n",
       "      <td>13.10</td>\n",
       "      <td>221.759964</td>\n",
       "      <td>2.905056e+06</td>\n",
       "      <td>2020-08-29</td>\n",
       "      <td>2020</td>\n",
       "      <td>3</td>\n",
       "      <td>3966823.0</td>\n",
       "      <td>-49063.0</td>\n",
       "      <td>2383105.0</td>\n",
       "      <td>100022.0</td>\n",
       "      <td>50959.0</td>\n",
       "      <td>0.008025</td>\n",
       "      <td>20203</td>\n",
       "      <td>0.014617</td>\n",
       "      <td>0.017541</td>\n",
       "      <td>0.732338</td>\n",
       "    </tr>\n",
       "    <tr>\n",
       "      <th>59</th>\n",
       "      <td>2021-02-26</td>\n",
       "      <td>AAA</td>\n",
       "      <td>14.30</td>\n",
       "      <td>221.759964</td>\n",
       "      <td>3.171167e+06</td>\n",
       "      <td>2020-09-26</td>\n",
       "      <td>2020</td>\n",
       "      <td>3</td>\n",
       "      <td>3966823.0</td>\n",
       "      <td>-49063.0</td>\n",
       "      <td>2383105.0</td>\n",
       "      <td>100022.0</td>\n",
       "      <td>50959.0</td>\n",
       "      <td>0.008025</td>\n",
       "      <td>20203</td>\n",
       "      <td>0.014617</td>\n",
       "      <td>0.016069</td>\n",
       "      <td>0.799422</td>\n",
       "    </tr>\n",
       "    <tr>\n",
       "      <th>60</th>\n",
       "      <td>2021-03-31</td>\n",
       "      <td>AAA</td>\n",
       "      <td>16.60</td>\n",
       "      <td>221.759964</td>\n",
       "      <td>3.681215e+06</td>\n",
       "      <td>2020-10-31</td>\n",
       "      <td>2020</td>\n",
       "      <td>4</td>\n",
       "      <td>4024162.0</td>\n",
       "      <td>-48081.0</td>\n",
       "      <td>2325027.0</td>\n",
       "      <td>69003.0</td>\n",
       "      <td>20922.0</td>\n",
       "      <td>0.003295</td>\n",
       "      <td>20204</td>\n",
       "      <td>0.014068</td>\n",
       "      <td>0.005683</td>\n",
       "      <td>0.914778</td>\n",
       "    </tr>\n",
       "    <tr>\n",
       "      <th>61</th>\n",
       "      <td>2021-04-29</td>\n",
       "      <td>AAA</td>\n",
       "      <td>16.45</td>\n",
       "      <td>221.759964</td>\n",
       "      <td>3.647951e+06</td>\n",
       "      <td>2020-11-29</td>\n",
       "      <td>2020</td>\n",
       "      <td>4</td>\n",
       "      <td>4024162.0</td>\n",
       "      <td>-48081.0</td>\n",
       "      <td>2325027.0</td>\n",
       "      <td>69003.0</td>\n",
       "      <td>20922.0</td>\n",
       "      <td>0.003295</td>\n",
       "      <td>20204</td>\n",
       "      <td>0.014068</td>\n",
       "      <td>0.005735</td>\n",
       "      <td>0.906512</td>\n",
       "    </tr>\n",
       "  </tbody>\n",
       "</table>\n",
       "<p>62 rows × 18 columns</p>\n",
       "</div>"
      ],
      "text/plain": [
       "         date code  close          oi        marcap date_lag_x  year  quarter  \\\n",
       "0  2016-03-31  AAA   9.64   49.499989  4.771799e+05 2015-10-31  2015        4   \n",
       "1  2016-04-29  AAA  11.18   49.499989  5.534099e+05 2015-11-29  2015        4   \n",
       "2  2016-05-31  AAA  14.47   51.899986  7.509928e+05 2015-12-31  2015        4   \n",
       "3  2016-06-30  AAA  17.94   51.899986  9.310857e+05 2016-01-30  2016        1   \n",
       "4  2016-07-29  AAA  21.28   51.899986  1.104432e+06 2016-02-29  2016        1   \n",
       "..        ...  ...    ...         ...           ...        ...   ...      ...   \n",
       "57 2020-12-31  AAA  14.40  221.759964  3.193343e+06 2020-07-31  2020        3   \n",
       "58 2021-01-29  AAA  13.10  221.759964  2.905056e+06 2020-08-29  2020        3   \n",
       "59 2021-02-26  AAA  14.30  221.759964  3.171167e+06 2020-09-26  2020        3   \n",
       "60 2021-03-31  AAA  16.60  221.759964  3.681215e+06 2020-10-31  2020        4   \n",
       "61 2021-04-29  AAA  16.45  221.759964  3.647951e+06 2020-11-29  2020        4   \n",
       "\n",
       "    total equity  interest expenses  fixed assets       ebt     ebit  \\\n",
       "0       819485.0            -6474.0      636532.0   27233.0  20759.0   \n",
       "1       819485.0            -6474.0      636532.0   27233.0  20759.0   \n",
       "2       819485.0            -6474.0      636532.0   27233.0  20759.0   \n",
       "3       845170.0            -6294.0      591620.0   32024.0  25730.0   \n",
       "4       845170.0            -6294.0      591620.0   32024.0  25730.0   \n",
       "..           ...                ...           ...       ...      ...   \n",
       "57     3966823.0           -49063.0     2383105.0  100022.0  50959.0   \n",
       "58     3966823.0           -49063.0     2383105.0  100022.0  50959.0   \n",
       "59     3966823.0           -49063.0     2383105.0  100022.0  50959.0   \n",
       "60     4024162.0           -48081.0     2325027.0   69003.0  20922.0   \n",
       "61     4024162.0           -48081.0     2325027.0   69003.0  20922.0   \n",
       "\n",
       "        roic qrt_yr  roic_5yr_avg  earnings yield        pB  \n",
       "0   0.014257  20154      0.010377        0.043504  0.582292  \n",
       "1   0.014257  20154      0.010377        0.037511  0.675314  \n",
       "2   0.014257  20154      0.010377        0.027642  0.916420  \n",
       "3   0.017908  20161      0.010342        0.027634  1.101655  \n",
       "4   0.017908  20161      0.010342        0.023297  1.306757  \n",
       "..       ...    ...           ...             ...       ...  \n",
       "57  0.008025  20203      0.014617        0.015958  0.805013  \n",
       "58  0.008025  20203      0.014617        0.017541  0.732338  \n",
       "59  0.008025  20203      0.014617        0.016069  0.799422  \n",
       "60  0.003295  20204      0.014068        0.005683  0.914778  \n",
       "61  0.003295  20204      0.014068        0.005735  0.906512  \n",
       "\n",
       "[62 rows x 18 columns]"
      ]
     },
     "execution_count": 59,
     "metadata": {},
     "output_type": "execute_result"
    }
   ],
   "source": [
    "price_oi_fin_monthly[price_oi_fin_monthly['code']=='AAA']"
   ]
  },
  {
   "cell_type": "code",
   "execution_count": 60,
   "metadata": {},
   "outputs": [],
   "source": [
    "earnings = pd.pivot(price_oi_fin_monthly, \n",
    "                    index='date', columns='code', values='earnings yield').dropna(how='all', axis=1)\n",
    "\n",
    "roic = pd.pivot(price_oi_fin_monthly, \n",
    "                index='date', columns='code', values='roic').dropna(how='all', axis=1)\n",
    "\n",
    "pB = pd.pivot(price_oi_fin_monthly, \n",
    "                index='date', columns='code', values='pB').dropna(how='all', axis=1)\n",
    "\n",
    "roic_5y = pd.pivot(price_oi_fin_monthly, \n",
    "                index='date', columns='code', values='roic_5yr_avg').dropna(how='all', axis=1)"
   ]
  },
  {
   "cell_type": "code",
   "execution_count": 61,
   "metadata": {},
   "outputs": [],
   "source": [
    "roic_ranking = roic.copy(deep=True)\n",
    "earnings_ranking = earnings.copy(deep=True)\n",
    "pB_ranking = pB.copy(deep=True)\n",
    "roic_5y_ranking = roic_5y.copy(deep=True)\n",
    "\n",
    "for col in roic_ranking.columns:\n",
    "    roic_ranking[col] = np.nan\n",
    "    earnings_ranking[col] = np.nan\n",
    "    pB_ranking[col] = np.nan\n",
    "    roic_5y_ranking[col] = np.nan"
   ]
  },
  {
   "cell_type": "code",
   "execution_count": 62,
   "metadata": {},
   "outputs": [],
   "source": [
    "roic_ranking = roic.rank(axis=1, ascending=False)\n",
    "earnings_ranking = earnings.rank(axis=1, ascending=False)\n",
    "pB_ranking = pB.rank(axis=1, ascending=True)\n",
    "roic_5y_ranking = roic_5y.rank(axis=1, ascending=False)"
   ]
  },
  {
   "cell_type": "code",
   "execution_count": 63,
   "metadata": {},
   "outputs": [],
   "source": [
    "combined_ranks = (roic_ranking + earnings_ranking + pB_ranking + roic_5y_ranking)/4\n",
    "\n",
    "combined_ranks = combined_ranks.rank(axis=1, ascending=True)"
   ]
  },
  {
   "cell_type": "code",
   "execution_count": 64,
   "metadata": {},
   "outputs": [],
   "source": [
    "price_monthly_pivot = price_oi_fin_monthly.pivot(index='date', columns='code', values='close')\n",
    "monthly_return = price_monthly_pivot/price_monthly_pivot.shift(1)-1"
   ]
  },
  {
   "cell_type": "code",
   "execution_count": 65,
   "metadata": {},
   "outputs": [],
   "source": [
    "combined_ranks = combined_ranks.dropna(how='all', axis=0)\n",
    "combined_ranks = combined_ranks.dropna(how='all', axis=1)\n"
   ]
  },
  {
   "cell_type": "code",
   "execution_count": 66,
   "metadata": {},
   "outputs": [],
   "source": [
    "# combined_ranks['count'] = combined_ranks.count(axis='columns')\n",
    "\n",
    "# for col in combined_ranks.columns[:-1]:\n",
    "#     combined_ranks[col] = combined_ranks[col]/combined_ranks['count']\n",
    "    "
   ]
  },
  {
   "cell_type": "code",
   "execution_count": 67,
   "metadata": {},
   "outputs": [
    {
     "data": {
      "text/html": [
       "<div>\n",
       "<style scoped>\n",
       "    .dataframe tbody tr th:only-of-type {\n",
       "        vertical-align: middle;\n",
       "    }\n",
       "\n",
       "    .dataframe tbody tr th {\n",
       "        vertical-align: top;\n",
       "    }\n",
       "\n",
       "    .dataframe thead th {\n",
       "        text-align: right;\n",
       "    }\n",
       "</style>\n",
       "<table border=\"1\" class=\"dataframe\">\n",
       "  <thead>\n",
       "    <tr style=\"text-align: right;\">\n",
       "      <th>code</th>\n",
       "      <th>AAA</th>\n",
       "      <th>AMD</th>\n",
       "      <th>ANV</th>\n",
       "      <th>APG</th>\n",
       "      <th>ASM</th>\n",
       "      <th>BCG</th>\n",
       "      <th>BID</th>\n",
       "      <th>BMP</th>\n",
       "      <th>CCL</th>\n",
       "      <th>CII</th>\n",
       "      <th>...</th>\n",
       "      <th>VCB</th>\n",
       "      <th>VCI</th>\n",
       "      <th>VGC</th>\n",
       "      <th>VHC</th>\n",
       "      <th>VIC</th>\n",
       "      <th>VND</th>\n",
       "      <th>VNG</th>\n",
       "      <th>VNM</th>\n",
       "      <th>VPB</th>\n",
       "      <th>VSC</th>\n",
       "    </tr>\n",
       "    <tr>\n",
       "      <th>date</th>\n",
       "      <th></th>\n",
       "      <th></th>\n",
       "      <th></th>\n",
       "      <th></th>\n",
       "      <th></th>\n",
       "      <th></th>\n",
       "      <th></th>\n",
       "      <th></th>\n",
       "      <th></th>\n",
       "      <th></th>\n",
       "      <th></th>\n",
       "      <th></th>\n",
       "      <th></th>\n",
       "      <th></th>\n",
       "      <th></th>\n",
       "      <th></th>\n",
       "      <th></th>\n",
       "      <th></th>\n",
       "      <th></th>\n",
       "      <th></th>\n",
       "      <th></th>\n",
       "    </tr>\n",
       "  </thead>\n",
       "  <tbody>\n",
       "    <tr>\n",
       "      <th>2016-03-31</th>\n",
       "      <td>48.0</td>\n",
       "      <td>NaN</td>\n",
       "      <td>64.0</td>\n",
       "      <td>9.0</td>\n",
       "      <td>72.0</td>\n",
       "      <td>NaN</td>\n",
       "      <td>NaN</td>\n",
       "      <td>16.0</td>\n",
       "      <td>51.0</td>\n",
       "      <td>79.0</td>\n",
       "      <td>...</td>\n",
       "      <td>47.0</td>\n",
       "      <td>NaN</td>\n",
       "      <td>NaN</td>\n",
       "      <td>30.0</td>\n",
       "      <td>75.0</td>\n",
       "      <td>NaN</td>\n",
       "      <td>69.5</td>\n",
       "      <td>35.0</td>\n",
       "      <td>NaN</td>\n",
       "      <td>37.0</td>\n",
       "    </tr>\n",
       "    <tr>\n",
       "      <th>2016-04-29</th>\n",
       "      <td>49.0</td>\n",
       "      <td>NaN</td>\n",
       "      <td>62.0</td>\n",
       "      <td>7.0</td>\n",
       "      <td>73.5</td>\n",
       "      <td>NaN</td>\n",
       "      <td>NaN</td>\n",
       "      <td>14.5</td>\n",
       "      <td>48.0</td>\n",
       "      <td>79.0</td>\n",
       "      <td>...</td>\n",
       "      <td>46.0</td>\n",
       "      <td>NaN</td>\n",
       "      <td>NaN</td>\n",
       "      <td>31.0</td>\n",
       "      <td>75.0</td>\n",
       "      <td>NaN</td>\n",
       "      <td>68.5</td>\n",
       "      <td>36.0</td>\n",
       "      <td>NaN</td>\n",
       "      <td>34.0</td>\n",
       "    </tr>\n",
       "    <tr>\n",
       "      <th>2016-05-31</th>\n",
       "      <td>59.0</td>\n",
       "      <td>NaN</td>\n",
       "      <td>62.0</td>\n",
       "      <td>12.0</td>\n",
       "      <td>73.0</td>\n",
       "      <td>NaN</td>\n",
       "      <td>NaN</td>\n",
       "      <td>14.0</td>\n",
       "      <td>47.0</td>\n",
       "      <td>79.0</td>\n",
       "      <td>...</td>\n",
       "      <td>46.0</td>\n",
       "      <td>NaN</td>\n",
       "      <td>NaN</td>\n",
       "      <td>31.0</td>\n",
       "      <td>74.0</td>\n",
       "      <td>NaN</td>\n",
       "      <td>70.0</td>\n",
       "      <td>35.5</td>\n",
       "      <td>NaN</td>\n",
       "      <td>32.0</td>\n",
       "    </tr>\n",
       "    <tr>\n",
       "      <th>2016-06-30</th>\n",
       "      <td>53.0</td>\n",
       "      <td>NaN</td>\n",
       "      <td>67.5</td>\n",
       "      <td>74.0</td>\n",
       "      <td>69.0</td>\n",
       "      <td>NaN</td>\n",
       "      <td>NaN</td>\n",
       "      <td>5.0</td>\n",
       "      <td>46.0</td>\n",
       "      <td>75.0</td>\n",
       "      <td>...</td>\n",
       "      <td>38.0</td>\n",
       "      <td>NaN</td>\n",
       "      <td>NaN</td>\n",
       "      <td>17.5</td>\n",
       "      <td>52.0</td>\n",
       "      <td>NaN</td>\n",
       "      <td>81.0</td>\n",
       "      <td>25.5</td>\n",
       "      <td>NaN</td>\n",
       "      <td>41.0</td>\n",
       "    </tr>\n",
       "    <tr>\n",
       "      <th>2016-07-29</th>\n",
       "      <td>59.0</td>\n",
       "      <td>NaN</td>\n",
       "      <td>66.5</td>\n",
       "      <td>74.0</td>\n",
       "      <td>68.0</td>\n",
       "      <td>NaN</td>\n",
       "      <td>NaN</td>\n",
       "      <td>7.0</td>\n",
       "      <td>44.5</td>\n",
       "      <td>75.0</td>\n",
       "      <td>...</td>\n",
       "      <td>40.0</td>\n",
       "      <td>NaN</td>\n",
       "      <td>NaN</td>\n",
       "      <td>21.0</td>\n",
       "      <td>53.0</td>\n",
       "      <td>NaN</td>\n",
       "      <td>81.0</td>\n",
       "      <td>26.0</td>\n",
       "      <td>NaN</td>\n",
       "      <td>41.0</td>\n",
       "    </tr>\n",
       "    <tr>\n",
       "      <th>...</th>\n",
       "      <td>...</td>\n",
       "      <td>...</td>\n",
       "      <td>...</td>\n",
       "      <td>...</td>\n",
       "      <td>...</td>\n",
       "      <td>...</td>\n",
       "      <td>...</td>\n",
       "      <td>...</td>\n",
       "      <td>...</td>\n",
       "      <td>...</td>\n",
       "      <td>...</td>\n",
       "      <td>...</td>\n",
       "      <td>...</td>\n",
       "      <td>...</td>\n",
       "      <td>...</td>\n",
       "      <td>...</td>\n",
       "      <td>...</td>\n",
       "      <td>...</td>\n",
       "      <td>...</td>\n",
       "      <td>...</td>\n",
       "      <td>...</td>\n",
       "    </tr>\n",
       "    <tr>\n",
       "      <th>2020-12-31</th>\n",
       "      <td>60.5</td>\n",
       "      <td>88.5</td>\n",
       "      <td>70.5</td>\n",
       "      <td>58.5</td>\n",
       "      <td>78.0</td>\n",
       "      <td>74.0</td>\n",
       "      <td>65.0</td>\n",
       "      <td>13.0</td>\n",
       "      <td>58.5</td>\n",
       "      <td>101.0</td>\n",
       "      <td>...</td>\n",
       "      <td>57.0</td>\n",
       "      <td>56.0</td>\n",
       "      <td>68.0</td>\n",
       "      <td>23.5</td>\n",
       "      <td>111.0</td>\n",
       "      <td>10.0</td>\n",
       "      <td>112.0</td>\n",
       "      <td>39.0</td>\n",
       "      <td>9.0</td>\n",
       "      <td>32.0</td>\n",
       "    </tr>\n",
       "    <tr>\n",
       "      <th>2021-01-29</th>\n",
       "      <td>62.0</td>\n",
       "      <td>85.5</td>\n",
       "      <td>57.0</td>\n",
       "      <td>49.0</td>\n",
       "      <td>81.0</td>\n",
       "      <td>74.0</td>\n",
       "      <td>59.0</td>\n",
       "      <td>11.0</td>\n",
       "      <td>61.0</td>\n",
       "      <td>100.0</td>\n",
       "      <td>...</td>\n",
       "      <td>55.0</td>\n",
       "      <td>52.0</td>\n",
       "      <td>79.5</td>\n",
       "      <td>20.0</td>\n",
       "      <td>112.0</td>\n",
       "      <td>4.0</td>\n",
       "      <td>111.0</td>\n",
       "      <td>42.0</td>\n",
       "      <td>7.0</td>\n",
       "      <td>39.5</td>\n",
       "    </tr>\n",
       "    <tr>\n",
       "      <th>2021-02-26</th>\n",
       "      <td>65.0</td>\n",
       "      <td>88.0</td>\n",
       "      <td>58.5</td>\n",
       "      <td>43.0</td>\n",
       "      <td>75.5</td>\n",
       "      <td>79.0</td>\n",
       "      <td>58.5</td>\n",
       "      <td>9.0</td>\n",
       "      <td>68.0</td>\n",
       "      <td>100.0</td>\n",
       "      <td>...</td>\n",
       "      <td>54.5</td>\n",
       "      <td>52.0</td>\n",
       "      <td>82.5</td>\n",
       "      <td>18.0</td>\n",
       "      <td>112.0</td>\n",
       "      <td>4.0</td>\n",
       "      <td>110.0</td>\n",
       "      <td>38.0</td>\n",
       "      <td>10.5</td>\n",
       "      <td>32.0</td>\n",
       "    </tr>\n",
       "    <tr>\n",
       "      <th>2021-03-31</th>\n",
       "      <td>87.0</td>\n",
       "      <td>85.0</td>\n",
       "      <td>38.5</td>\n",
       "      <td>14.0</td>\n",
       "      <td>78.5</td>\n",
       "      <td>70.0</td>\n",
       "      <td>83.0</td>\n",
       "      <td>32.0</td>\n",
       "      <td>29.0</td>\n",
       "      <td>100.5</td>\n",
       "      <td>...</td>\n",
       "      <td>48.0</td>\n",
       "      <td>12.0</td>\n",
       "      <td>108.0</td>\n",
       "      <td>36.0</td>\n",
       "      <td>116.0</td>\n",
       "      <td>11.0</td>\n",
       "      <td>117.0</td>\n",
       "      <td>62.0</td>\n",
       "      <td>19.5</td>\n",
       "      <td>37.0</td>\n",
       "    </tr>\n",
       "    <tr>\n",
       "      <th>2021-04-29</th>\n",
       "      <td>88.0</td>\n",
       "      <td>91.0</td>\n",
       "      <td>40.0</td>\n",
       "      <td>16.0</td>\n",
       "      <td>77.0</td>\n",
       "      <td>64.0</td>\n",
       "      <td>82.5</td>\n",
       "      <td>32.5</td>\n",
       "      <td>27.0</td>\n",
       "      <td>99.0</td>\n",
       "      <td>...</td>\n",
       "      <td>47.5</td>\n",
       "      <td>11.5</td>\n",
       "      <td>110.0</td>\n",
       "      <td>35.0</td>\n",
       "      <td>118.0</td>\n",
       "      <td>23.0</td>\n",
       "      <td>117.0</td>\n",
       "      <td>60.0</td>\n",
       "      <td>32.5</td>\n",
       "      <td>36.0</td>\n",
       "    </tr>\n",
       "  </tbody>\n",
       "</table>\n",
       "<p>62 rows × 121 columns</p>\n",
       "</div>"
      ],
      "text/plain": [
       "code         AAA   AMD   ANV   APG   ASM   BCG   BID   BMP   CCL    CII  ...  \\\n",
       "date                                                                     ...   \n",
       "2016-03-31  48.0   NaN  64.0   9.0  72.0   NaN   NaN  16.0  51.0   79.0  ...   \n",
       "2016-04-29  49.0   NaN  62.0   7.0  73.5   NaN   NaN  14.5  48.0   79.0  ...   \n",
       "2016-05-31  59.0   NaN  62.0  12.0  73.0   NaN   NaN  14.0  47.0   79.0  ...   \n",
       "2016-06-30  53.0   NaN  67.5  74.0  69.0   NaN   NaN   5.0  46.0   75.0  ...   \n",
       "2016-07-29  59.0   NaN  66.5  74.0  68.0   NaN   NaN   7.0  44.5   75.0  ...   \n",
       "...          ...   ...   ...   ...   ...   ...   ...   ...   ...    ...  ...   \n",
       "2020-12-31  60.5  88.5  70.5  58.5  78.0  74.0  65.0  13.0  58.5  101.0  ...   \n",
       "2021-01-29  62.0  85.5  57.0  49.0  81.0  74.0  59.0  11.0  61.0  100.0  ...   \n",
       "2021-02-26  65.0  88.0  58.5  43.0  75.5  79.0  58.5   9.0  68.0  100.0  ...   \n",
       "2021-03-31  87.0  85.0  38.5  14.0  78.5  70.0  83.0  32.0  29.0  100.5  ...   \n",
       "2021-04-29  88.0  91.0  40.0  16.0  77.0  64.0  82.5  32.5  27.0   99.0  ...   \n",
       "\n",
       "code         VCB   VCI    VGC   VHC    VIC   VND    VNG   VNM   VPB   VSC  \n",
       "date                                                                       \n",
       "2016-03-31  47.0   NaN    NaN  30.0   75.0   NaN   69.5  35.0   NaN  37.0  \n",
       "2016-04-29  46.0   NaN    NaN  31.0   75.0   NaN   68.5  36.0   NaN  34.0  \n",
       "2016-05-31  46.0   NaN    NaN  31.0   74.0   NaN   70.0  35.5   NaN  32.0  \n",
       "2016-06-30  38.0   NaN    NaN  17.5   52.0   NaN   81.0  25.5   NaN  41.0  \n",
       "2016-07-29  40.0   NaN    NaN  21.0   53.0   NaN   81.0  26.0   NaN  41.0  \n",
       "...          ...   ...    ...   ...    ...   ...    ...   ...   ...   ...  \n",
       "2020-12-31  57.0  56.0   68.0  23.5  111.0  10.0  112.0  39.0   9.0  32.0  \n",
       "2021-01-29  55.0  52.0   79.5  20.0  112.0   4.0  111.0  42.0   7.0  39.5  \n",
       "2021-02-26  54.5  52.0   82.5  18.0  112.0   4.0  110.0  38.0  10.5  32.0  \n",
       "2021-03-31  48.0  12.0  108.0  36.0  116.0  11.0  117.0  62.0  19.5  37.0  \n",
       "2021-04-29  47.5  11.5  110.0  35.0  118.0  23.0  117.0  60.0  32.5  36.0  \n",
       "\n",
       "[62 rows x 121 columns]"
      ]
     },
     "execution_count": 67,
     "metadata": {},
     "output_type": "execute_result"
    }
   ],
   "source": [
    "combined_ranks"
   ]
  },
  {
   "cell_type": "code",
   "execution_count": 68,
   "metadata": {},
   "outputs": [
    {
     "data": {
      "application/vnd.plotly.v1+json": {
       "config": {
        "plotlyServerURL": "https://plot.ly"
       },
       "data": [
        {
         "mode": "lines",
         "name": "cumulative",
         "type": "scatter",
         "x": [
          "2016-03-31T00:00:00",
          "2016-04-29T00:00:00",
          "2016-05-31T00:00:00",
          "2016-06-30T00:00:00",
          "2016-07-29T00:00:00",
          "2016-08-31T00:00:00",
          "2016-09-30T00:00:00",
          "2016-10-31T00:00:00",
          "2016-11-30T00:00:00",
          "2016-12-30T00:00:00",
          "2017-01-25T00:00:00",
          "2017-02-28T00:00:00",
          "2017-03-31T00:00:00",
          "2017-04-28T00:00:00",
          "2017-05-31T00:00:00",
          "2017-06-30T00:00:00",
          "2017-07-31T00:00:00",
          "2017-08-31T00:00:00",
          "2017-09-29T00:00:00",
          "2017-10-31T00:00:00",
          "2017-11-30T00:00:00",
          "2017-12-29T00:00:00",
          "2018-01-31T00:00:00",
          "2018-02-28T00:00:00",
          "2018-03-30T00:00:00",
          "2018-04-27T00:00:00",
          "2018-05-31T00:00:00",
          "2018-06-29T00:00:00",
          "2018-07-31T00:00:00",
          "2018-08-31T00:00:00",
          "2018-09-28T00:00:00",
          "2018-10-31T00:00:00",
          "2018-11-30T00:00:00",
          "2018-12-28T00:00:00",
          "2019-01-31T00:00:00",
          "2019-02-28T00:00:00",
          "2019-03-29T00:00:00",
          "2019-04-26T00:00:00",
          "2019-05-31T00:00:00",
          "2019-06-28T00:00:00",
          "2019-07-31T00:00:00",
          "2019-08-30T00:00:00",
          "2019-09-30T00:00:00",
          "2019-10-31T00:00:00",
          "2019-11-29T00:00:00",
          "2019-12-31T00:00:00",
          "2020-01-31T00:00:00",
          "2020-02-28T00:00:00",
          "2020-03-31T00:00:00",
          "2020-04-29T00:00:00",
          "2020-05-29T00:00:00",
          "2020-06-30T00:00:00",
          "2020-07-31T00:00:00",
          "2020-08-31T00:00:00",
          "2020-09-30T00:00:00",
          "2020-10-30T00:00:00",
          "2020-11-30T00:00:00",
          "2020-12-31T00:00:00",
          "2021-01-29T00:00:00",
          "2021-02-26T00:00:00",
          "2021-03-31T00:00:00",
          "2021-04-29T00:00:00"
         ],
         "y": [
          null,
          1.040967019721904,
          1.0694153581590964,
          1.0774869180756546,
          1.1627424484968276,
          1.2060811541776464,
          1.3457305773351675,
          1.3687986963065966,
          1.3685162037222007,
          1.2905725816332454,
          1.2165267027757298,
          1.410985470981449,
          1.5810907381526398,
          1.5792609666057398,
          1.5842998514090096,
          1.681233615428217,
          1.649207998886843,
          1.6161240607374323,
          1.784272458355842,
          1.757663325864298,
          2.088527510066099,
          2.1276382907577567,
          2.523327097262837,
          2.4338115283121367,
          2.68024759158317,
          2.5191974653169957,
          2.3877217336056993,
          2.2544780948134697,
          2.2587251042805288,
          2.492445760119648,
          2.6589022971295964,
          2.4783719723674205,
          2.474290863577155,
          2.287134657606825,
          2.2431968069722323,
          2.4782815295225973,
          2.4695674397274923,
          2.5067676571441657,
          2.4303112696707214,
          2.4932198694818832,
          2.47991202032609,
          2.581455409259917,
          2.5529030564025295,
          2.506334682519916,
          2.3531007911631754,
          2.364315656439076,
          2.1118497357205865,
          2.1522876999150227,
          1.6351995100530714,
          2.140378100877277,
          2.487275792189514,
          2.3321761231063003,
          2.4605022446028095,
          3.1331935078292403,
          3.456671922447063,
          3.4721497531642584,
          4.394183041878061,
          5.166513086490849,
          5.383313140049719,
          6.315506228860616,
          6.497045132743429,
          6.295381243382261
         ]
        },
        {
         "mode": "lines",
         "name": "benchmark",
         "type": "scatter",
         "x": [
          "2016-03-31T00:00:00",
          "2016-04-29T00:00:00",
          "2016-05-31T00:00:00",
          "2016-06-30T00:00:00",
          "2016-07-29T00:00:00",
          "2016-08-31T00:00:00",
          "2016-09-30T00:00:00",
          "2016-10-31T00:00:00",
          "2016-11-30T00:00:00",
          "2016-12-30T00:00:00",
          "2017-01-25T00:00:00",
          "2017-02-28T00:00:00",
          "2017-03-31T00:00:00",
          "2017-04-28T00:00:00",
          "2017-05-31T00:00:00",
          "2017-06-30T00:00:00",
          "2017-07-31T00:00:00",
          "2017-08-31T00:00:00",
          "2017-09-29T00:00:00",
          "2017-10-31T00:00:00",
          "2017-11-30T00:00:00",
          "2017-12-29T00:00:00",
          "2018-01-31T00:00:00",
          "2018-02-28T00:00:00",
          "2018-03-30T00:00:00",
          "2018-04-27T00:00:00",
          "2018-05-31T00:00:00",
          "2018-06-29T00:00:00",
          "2018-07-31T00:00:00",
          "2018-08-31T00:00:00",
          "2018-09-28T00:00:00",
          "2018-10-31T00:00:00",
          "2018-11-30T00:00:00",
          "2018-12-28T00:00:00",
          "2019-01-31T00:00:00",
          "2019-02-28T00:00:00",
          "2019-03-29T00:00:00",
          "2019-04-26T00:00:00",
          "2019-05-31T00:00:00",
          "2019-06-28T00:00:00",
          "2019-07-31T00:00:00",
          "2019-08-30T00:00:00",
          "2019-09-30T00:00:00",
          "2019-10-31T00:00:00",
          "2019-11-29T00:00:00",
          "2019-12-31T00:00:00",
          "2020-01-31T00:00:00",
          "2020-02-28T00:00:00",
          "2020-03-31T00:00:00",
          "2020-04-29T00:00:00",
          "2020-05-29T00:00:00",
          "2020-06-30T00:00:00",
          "2020-07-31T00:00:00",
          "2020-08-31T00:00:00",
          "2020-09-30T00:00:00",
          "2020-10-30T00:00:00",
          "2020-11-30T00:00:00",
          "2020-12-31T00:00:00",
          "2021-01-29T00:00:00",
          "2021-02-26T00:00:00",
          "2021-03-31T00:00:00",
          "2021-04-29T00:00:00"
         ],
         "y": [
          null,
          1.039398312268013,
          1.0785356929890835,
          1.1354338867049651,
          1.1449312545974724,
          1.153524689089692,
          1.1580130845464403,
          1.1640001442459196,
          1.1540276101301448,
          1.1269548201969315,
          1.161333840343008,
          1.2322971473568578,
          1.2922204675017988,
          1.2946773867760808,
          1.3883158152769397,
          1.515125827203687,
          1.5641360404500098,
          1.5431730145671854,
          1.5788249270355303,
          1.5429982721066193,
          1.6834375743611254,
          1.7283779679548037,
          1.8407130685019415,
          1.8010359338875581,
          1.8599474018940485,
          1.7414517273989043,
          1.6417201877710867,
          1.6241487830862955,
          1.6501298008487197,
          1.7086194222107491,
          1.8100345902939614,
          1.6519680046517031,
          1.6653925507641194,
          1.6393694973174489,
          1.6499791897802172,
          1.7312252254151193,
          1.7918209769713285,
          1.7749276218786445,
          1.7640033452159163,
          1.7789444705153972,
          1.7958086148213992,
          1.8245298501738842,
          1.8330545392765776,
          1.8284350040555124,
          1.793693492173369,
          1.7841054012095148,
          1.692470408488712,
          1.661372288329684,
          1.2702425159682524,
          1.5697580661455666,
          1.7244202315860016,
          1.7109841960123577,
          1.6294057099492592,
          1.8641395145795192,
          1.9743591531020708,
          1.9607897723046017,
          2.2099259557227944,
          2.564685574549136,
          2.5187028693880764,
          2.737662890079895,
          2.9429702852118464,
          2.975141316979111
         ]
        }
       ],
       "layout": {
        "template": {
         "data": {
          "bar": [
           {
            "error_x": {
             "color": "#2a3f5f"
            },
            "error_y": {
             "color": "#2a3f5f"
            },
            "marker": {
             "line": {
              "color": "#E5ECF6",
              "width": 0.5
             }
            },
            "type": "bar"
           }
          ],
          "barpolar": [
           {
            "marker": {
             "line": {
              "color": "#E5ECF6",
              "width": 0.5
             }
            },
            "type": "barpolar"
           }
          ],
          "carpet": [
           {
            "aaxis": {
             "endlinecolor": "#2a3f5f",
             "gridcolor": "white",
             "linecolor": "white",
             "minorgridcolor": "white",
             "startlinecolor": "#2a3f5f"
            },
            "baxis": {
             "endlinecolor": "#2a3f5f",
             "gridcolor": "white",
             "linecolor": "white",
             "minorgridcolor": "white",
             "startlinecolor": "#2a3f5f"
            },
            "type": "carpet"
           }
          ],
          "choropleth": [
           {
            "colorbar": {
             "outlinewidth": 0,
             "ticks": ""
            },
            "type": "choropleth"
           }
          ],
          "contour": [
           {
            "colorbar": {
             "outlinewidth": 0,
             "ticks": ""
            },
            "colorscale": [
             [
              0,
              "#0d0887"
             ],
             [
              0.1111111111111111,
              "#46039f"
             ],
             [
              0.2222222222222222,
              "#7201a8"
             ],
             [
              0.3333333333333333,
              "#9c179e"
             ],
             [
              0.4444444444444444,
              "#bd3786"
             ],
             [
              0.5555555555555556,
              "#d8576b"
             ],
             [
              0.6666666666666666,
              "#ed7953"
             ],
             [
              0.7777777777777778,
              "#fb9f3a"
             ],
             [
              0.8888888888888888,
              "#fdca26"
             ],
             [
              1,
              "#f0f921"
             ]
            ],
            "type": "contour"
           }
          ],
          "contourcarpet": [
           {
            "colorbar": {
             "outlinewidth": 0,
             "ticks": ""
            },
            "type": "contourcarpet"
           }
          ],
          "heatmap": [
           {
            "colorbar": {
             "outlinewidth": 0,
             "ticks": ""
            },
            "colorscale": [
             [
              0,
              "#0d0887"
             ],
             [
              0.1111111111111111,
              "#46039f"
             ],
             [
              0.2222222222222222,
              "#7201a8"
             ],
             [
              0.3333333333333333,
              "#9c179e"
             ],
             [
              0.4444444444444444,
              "#bd3786"
             ],
             [
              0.5555555555555556,
              "#d8576b"
             ],
             [
              0.6666666666666666,
              "#ed7953"
             ],
             [
              0.7777777777777778,
              "#fb9f3a"
             ],
             [
              0.8888888888888888,
              "#fdca26"
             ],
             [
              1,
              "#f0f921"
             ]
            ],
            "type": "heatmap"
           }
          ],
          "heatmapgl": [
           {
            "colorbar": {
             "outlinewidth": 0,
             "ticks": ""
            },
            "colorscale": [
             [
              0,
              "#0d0887"
             ],
             [
              0.1111111111111111,
              "#46039f"
             ],
             [
              0.2222222222222222,
              "#7201a8"
             ],
             [
              0.3333333333333333,
              "#9c179e"
             ],
             [
              0.4444444444444444,
              "#bd3786"
             ],
             [
              0.5555555555555556,
              "#d8576b"
             ],
             [
              0.6666666666666666,
              "#ed7953"
             ],
             [
              0.7777777777777778,
              "#fb9f3a"
             ],
             [
              0.8888888888888888,
              "#fdca26"
             ],
             [
              1,
              "#f0f921"
             ]
            ],
            "type": "heatmapgl"
           }
          ],
          "histogram": [
           {
            "marker": {
             "colorbar": {
              "outlinewidth": 0,
              "ticks": ""
             }
            },
            "type": "histogram"
           }
          ],
          "histogram2d": [
           {
            "colorbar": {
             "outlinewidth": 0,
             "ticks": ""
            },
            "colorscale": [
             [
              0,
              "#0d0887"
             ],
             [
              0.1111111111111111,
              "#46039f"
             ],
             [
              0.2222222222222222,
              "#7201a8"
             ],
             [
              0.3333333333333333,
              "#9c179e"
             ],
             [
              0.4444444444444444,
              "#bd3786"
             ],
             [
              0.5555555555555556,
              "#d8576b"
             ],
             [
              0.6666666666666666,
              "#ed7953"
             ],
             [
              0.7777777777777778,
              "#fb9f3a"
             ],
             [
              0.8888888888888888,
              "#fdca26"
             ],
             [
              1,
              "#f0f921"
             ]
            ],
            "type": "histogram2d"
           }
          ],
          "histogram2dcontour": [
           {
            "colorbar": {
             "outlinewidth": 0,
             "ticks": ""
            },
            "colorscale": [
             [
              0,
              "#0d0887"
             ],
             [
              0.1111111111111111,
              "#46039f"
             ],
             [
              0.2222222222222222,
              "#7201a8"
             ],
             [
              0.3333333333333333,
              "#9c179e"
             ],
             [
              0.4444444444444444,
              "#bd3786"
             ],
             [
              0.5555555555555556,
              "#d8576b"
             ],
             [
              0.6666666666666666,
              "#ed7953"
             ],
             [
              0.7777777777777778,
              "#fb9f3a"
             ],
             [
              0.8888888888888888,
              "#fdca26"
             ],
             [
              1,
              "#f0f921"
             ]
            ],
            "type": "histogram2dcontour"
           }
          ],
          "mesh3d": [
           {
            "colorbar": {
             "outlinewidth": 0,
             "ticks": ""
            },
            "type": "mesh3d"
           }
          ],
          "parcoords": [
           {
            "line": {
             "colorbar": {
              "outlinewidth": 0,
              "ticks": ""
             }
            },
            "type": "parcoords"
           }
          ],
          "pie": [
           {
            "automargin": true,
            "type": "pie"
           }
          ],
          "scatter": [
           {
            "marker": {
             "colorbar": {
              "outlinewidth": 0,
              "ticks": ""
             }
            },
            "type": "scatter"
           }
          ],
          "scatter3d": [
           {
            "line": {
             "colorbar": {
              "outlinewidth": 0,
              "ticks": ""
             }
            },
            "marker": {
             "colorbar": {
              "outlinewidth": 0,
              "ticks": ""
             }
            },
            "type": "scatter3d"
           }
          ],
          "scattercarpet": [
           {
            "marker": {
             "colorbar": {
              "outlinewidth": 0,
              "ticks": ""
             }
            },
            "type": "scattercarpet"
           }
          ],
          "scattergeo": [
           {
            "marker": {
             "colorbar": {
              "outlinewidth": 0,
              "ticks": ""
             }
            },
            "type": "scattergeo"
           }
          ],
          "scattergl": [
           {
            "marker": {
             "colorbar": {
              "outlinewidth": 0,
              "ticks": ""
             }
            },
            "type": "scattergl"
           }
          ],
          "scattermapbox": [
           {
            "marker": {
             "colorbar": {
              "outlinewidth": 0,
              "ticks": ""
             }
            },
            "type": "scattermapbox"
           }
          ],
          "scatterpolar": [
           {
            "marker": {
             "colorbar": {
              "outlinewidth": 0,
              "ticks": ""
             }
            },
            "type": "scatterpolar"
           }
          ],
          "scatterpolargl": [
           {
            "marker": {
             "colorbar": {
              "outlinewidth": 0,
              "ticks": ""
             }
            },
            "type": "scatterpolargl"
           }
          ],
          "scatterternary": [
           {
            "marker": {
             "colorbar": {
              "outlinewidth": 0,
              "ticks": ""
             }
            },
            "type": "scatterternary"
           }
          ],
          "surface": [
           {
            "colorbar": {
             "outlinewidth": 0,
             "ticks": ""
            },
            "colorscale": [
             [
              0,
              "#0d0887"
             ],
             [
              0.1111111111111111,
              "#46039f"
             ],
             [
              0.2222222222222222,
              "#7201a8"
             ],
             [
              0.3333333333333333,
              "#9c179e"
             ],
             [
              0.4444444444444444,
              "#bd3786"
             ],
             [
              0.5555555555555556,
              "#d8576b"
             ],
             [
              0.6666666666666666,
              "#ed7953"
             ],
             [
              0.7777777777777778,
              "#fb9f3a"
             ],
             [
              0.8888888888888888,
              "#fdca26"
             ],
             [
              1,
              "#f0f921"
             ]
            ],
            "type": "surface"
           }
          ],
          "table": [
           {
            "cells": {
             "fill": {
              "color": "#EBF0F8"
             },
             "line": {
              "color": "white"
             }
            },
            "header": {
             "fill": {
              "color": "#C8D4E3"
             },
             "line": {
              "color": "white"
             }
            },
            "type": "table"
           }
          ]
         },
         "layout": {
          "annotationdefaults": {
           "arrowcolor": "#2a3f5f",
           "arrowhead": 0,
           "arrowwidth": 1
          },
          "coloraxis": {
           "colorbar": {
            "outlinewidth": 0,
            "ticks": ""
           }
          },
          "colorscale": {
           "diverging": [
            [
             0,
             "#8e0152"
            ],
            [
             0.1,
             "#c51b7d"
            ],
            [
             0.2,
             "#de77ae"
            ],
            [
             0.3,
             "#f1b6da"
            ],
            [
             0.4,
             "#fde0ef"
            ],
            [
             0.5,
             "#f7f7f7"
            ],
            [
             0.6,
             "#e6f5d0"
            ],
            [
             0.7,
             "#b8e186"
            ],
            [
             0.8,
             "#7fbc41"
            ],
            [
             0.9,
             "#4d9221"
            ],
            [
             1,
             "#276419"
            ]
           ],
           "sequential": [
            [
             0,
             "#0d0887"
            ],
            [
             0.1111111111111111,
             "#46039f"
            ],
            [
             0.2222222222222222,
             "#7201a8"
            ],
            [
             0.3333333333333333,
             "#9c179e"
            ],
            [
             0.4444444444444444,
             "#bd3786"
            ],
            [
             0.5555555555555556,
             "#d8576b"
            ],
            [
             0.6666666666666666,
             "#ed7953"
            ],
            [
             0.7777777777777778,
             "#fb9f3a"
            ],
            [
             0.8888888888888888,
             "#fdca26"
            ],
            [
             1,
             "#f0f921"
            ]
           ],
           "sequentialminus": [
            [
             0,
             "#0d0887"
            ],
            [
             0.1111111111111111,
             "#46039f"
            ],
            [
             0.2222222222222222,
             "#7201a8"
            ],
            [
             0.3333333333333333,
             "#9c179e"
            ],
            [
             0.4444444444444444,
             "#bd3786"
            ],
            [
             0.5555555555555556,
             "#d8576b"
            ],
            [
             0.6666666666666666,
             "#ed7953"
            ],
            [
             0.7777777777777778,
             "#fb9f3a"
            ],
            [
             0.8888888888888888,
             "#fdca26"
            ],
            [
             1,
             "#f0f921"
            ]
           ]
          },
          "colorway": [
           "#636efa",
           "#EF553B",
           "#00cc96",
           "#ab63fa",
           "#FFA15A",
           "#19d3f3",
           "#FF6692",
           "#B6E880",
           "#FF97FF",
           "#FECB52"
          ],
          "font": {
           "color": "#2a3f5f"
          },
          "geo": {
           "bgcolor": "white",
           "lakecolor": "white",
           "landcolor": "#E5ECF6",
           "showlakes": true,
           "showland": true,
           "subunitcolor": "white"
          },
          "hoverlabel": {
           "align": "left"
          },
          "hovermode": "closest",
          "mapbox": {
           "style": "light"
          },
          "paper_bgcolor": "white",
          "plot_bgcolor": "#E5ECF6",
          "polar": {
           "angularaxis": {
            "gridcolor": "white",
            "linecolor": "white",
            "ticks": ""
           },
           "bgcolor": "#E5ECF6",
           "radialaxis": {
            "gridcolor": "white",
            "linecolor": "white",
            "ticks": ""
           }
          },
          "scene": {
           "xaxis": {
            "backgroundcolor": "#E5ECF6",
            "gridcolor": "white",
            "gridwidth": 2,
            "linecolor": "white",
            "showbackground": true,
            "ticks": "",
            "zerolinecolor": "white"
           },
           "yaxis": {
            "backgroundcolor": "#E5ECF6",
            "gridcolor": "white",
            "gridwidth": 2,
            "linecolor": "white",
            "showbackground": true,
            "ticks": "",
            "zerolinecolor": "white"
           },
           "zaxis": {
            "backgroundcolor": "#E5ECF6",
            "gridcolor": "white",
            "gridwidth": 2,
            "linecolor": "white",
            "showbackground": true,
            "ticks": "",
            "zerolinecolor": "white"
           }
          },
          "shapedefaults": {
           "line": {
            "color": "#2a3f5f"
           }
          },
          "ternary": {
           "aaxis": {
            "gridcolor": "white",
            "linecolor": "white",
            "ticks": ""
           },
           "baxis": {
            "gridcolor": "white",
            "linecolor": "white",
            "ticks": ""
           },
           "bgcolor": "#E5ECF6",
           "caxis": {
            "gridcolor": "white",
            "linecolor": "white",
            "ticks": ""
           }
          },
          "title": {
           "x": 0.05
          },
          "xaxis": {
           "automargin": true,
           "gridcolor": "white",
           "linecolor": "white",
           "ticks": "",
           "title": {
            "standoff": 15
           },
           "zerolinecolor": "white",
           "zerolinewidth": 2
          },
          "yaxis": {
           "automargin": true,
           "gridcolor": "white",
           "linecolor": "white",
           "ticks": "",
           "title": {
            "standoff": 15
           },
           "zerolinecolor": "white",
           "zerolinewidth": 2
          }
         }
        }
       }
      },
      "text/html": [
       "<div>\n",
       "        \n",
       "        \n",
       "            <div id=\"7cc48d39-83ff-49c2-b7a5-9262d93679ce\" class=\"plotly-graph-div\" style=\"height:525px; width:100%;\"></div>\n",
       "            <script type=\"text/javascript\">\n",
       "                require([\"plotly\"], function(Plotly) {\n",
       "                    window.PLOTLYENV=window.PLOTLYENV || {};\n",
       "                    \n",
       "                if (document.getElementById(\"7cc48d39-83ff-49c2-b7a5-9262d93679ce\")) {\n",
       "                    Plotly.newPlot(\n",
       "                        '7cc48d39-83ff-49c2-b7a5-9262d93679ce',\n",
       "                        [{\"mode\": \"lines\", \"name\": \"cumulative\", \"type\": \"scatter\", \"x\": [\"2016-03-31T00:00:00\", \"2016-04-29T00:00:00\", \"2016-05-31T00:00:00\", \"2016-06-30T00:00:00\", \"2016-07-29T00:00:00\", \"2016-08-31T00:00:00\", \"2016-09-30T00:00:00\", \"2016-10-31T00:00:00\", \"2016-11-30T00:00:00\", \"2016-12-30T00:00:00\", \"2017-01-25T00:00:00\", \"2017-02-28T00:00:00\", \"2017-03-31T00:00:00\", \"2017-04-28T00:00:00\", \"2017-05-31T00:00:00\", \"2017-06-30T00:00:00\", \"2017-07-31T00:00:00\", \"2017-08-31T00:00:00\", \"2017-09-29T00:00:00\", \"2017-10-31T00:00:00\", \"2017-11-30T00:00:00\", \"2017-12-29T00:00:00\", \"2018-01-31T00:00:00\", \"2018-02-28T00:00:00\", \"2018-03-30T00:00:00\", \"2018-04-27T00:00:00\", \"2018-05-31T00:00:00\", \"2018-06-29T00:00:00\", \"2018-07-31T00:00:00\", \"2018-08-31T00:00:00\", \"2018-09-28T00:00:00\", \"2018-10-31T00:00:00\", \"2018-11-30T00:00:00\", \"2018-12-28T00:00:00\", \"2019-01-31T00:00:00\", \"2019-02-28T00:00:00\", \"2019-03-29T00:00:00\", \"2019-04-26T00:00:00\", \"2019-05-31T00:00:00\", \"2019-06-28T00:00:00\", \"2019-07-31T00:00:00\", \"2019-08-30T00:00:00\", \"2019-09-30T00:00:00\", \"2019-10-31T00:00:00\", \"2019-11-29T00:00:00\", \"2019-12-31T00:00:00\", \"2020-01-31T00:00:00\", \"2020-02-28T00:00:00\", \"2020-03-31T00:00:00\", \"2020-04-29T00:00:00\", \"2020-05-29T00:00:00\", \"2020-06-30T00:00:00\", \"2020-07-31T00:00:00\", \"2020-08-31T00:00:00\", \"2020-09-30T00:00:00\", \"2020-10-30T00:00:00\", \"2020-11-30T00:00:00\", \"2020-12-31T00:00:00\", \"2021-01-29T00:00:00\", \"2021-02-26T00:00:00\", \"2021-03-31T00:00:00\", \"2021-04-29T00:00:00\"], \"y\": [null, 1.040967019721904, 1.0694153581590964, 1.0774869180756546, 1.1627424484968276, 1.2060811541776464, 1.3457305773351675, 1.3687986963065966, 1.3685162037222007, 1.2905725816332454, 1.2165267027757298, 1.410985470981449, 1.5810907381526398, 1.5792609666057398, 1.5842998514090096, 1.681233615428217, 1.649207998886843, 1.6161240607374323, 1.784272458355842, 1.757663325864298, 2.088527510066099, 2.1276382907577567, 2.523327097262837, 2.4338115283121367, 2.68024759158317, 2.5191974653169957, 2.3877217336056993, 2.2544780948134697, 2.2587251042805288, 2.492445760119648, 2.6589022971295964, 2.4783719723674205, 2.474290863577155, 2.287134657606825, 2.2431968069722323, 2.4782815295225973, 2.4695674397274923, 2.5067676571441657, 2.4303112696707214, 2.4932198694818832, 2.47991202032609, 2.581455409259917, 2.5529030564025295, 2.506334682519916, 2.3531007911631754, 2.364315656439076, 2.1118497357205865, 2.1522876999150227, 1.6351995100530714, 2.140378100877277, 2.487275792189514, 2.3321761231063003, 2.4605022446028095, 3.1331935078292403, 3.456671922447063, 3.4721497531642584, 4.394183041878061, 5.166513086490849, 5.383313140049719, 6.315506228860616, 6.497045132743429, 6.295381243382261]}, {\"mode\": \"lines\", \"name\": \"benchmark\", \"type\": \"scatter\", \"x\": [\"2016-03-31T00:00:00\", \"2016-04-29T00:00:00\", \"2016-05-31T00:00:00\", \"2016-06-30T00:00:00\", \"2016-07-29T00:00:00\", \"2016-08-31T00:00:00\", \"2016-09-30T00:00:00\", \"2016-10-31T00:00:00\", \"2016-11-30T00:00:00\", \"2016-12-30T00:00:00\", \"2017-01-25T00:00:00\", \"2017-02-28T00:00:00\", \"2017-03-31T00:00:00\", \"2017-04-28T00:00:00\", \"2017-05-31T00:00:00\", \"2017-06-30T00:00:00\", \"2017-07-31T00:00:00\", \"2017-08-31T00:00:00\", \"2017-09-29T00:00:00\", \"2017-10-31T00:00:00\", \"2017-11-30T00:00:00\", \"2017-12-29T00:00:00\", \"2018-01-31T00:00:00\", \"2018-02-28T00:00:00\", \"2018-03-30T00:00:00\", \"2018-04-27T00:00:00\", \"2018-05-31T00:00:00\", \"2018-06-29T00:00:00\", \"2018-07-31T00:00:00\", \"2018-08-31T00:00:00\", \"2018-09-28T00:00:00\", \"2018-10-31T00:00:00\", \"2018-11-30T00:00:00\", \"2018-12-28T00:00:00\", \"2019-01-31T00:00:00\", \"2019-02-28T00:00:00\", \"2019-03-29T00:00:00\", \"2019-04-26T00:00:00\", \"2019-05-31T00:00:00\", \"2019-06-28T00:00:00\", \"2019-07-31T00:00:00\", \"2019-08-30T00:00:00\", \"2019-09-30T00:00:00\", \"2019-10-31T00:00:00\", \"2019-11-29T00:00:00\", \"2019-12-31T00:00:00\", \"2020-01-31T00:00:00\", \"2020-02-28T00:00:00\", \"2020-03-31T00:00:00\", \"2020-04-29T00:00:00\", \"2020-05-29T00:00:00\", \"2020-06-30T00:00:00\", \"2020-07-31T00:00:00\", \"2020-08-31T00:00:00\", \"2020-09-30T00:00:00\", \"2020-10-30T00:00:00\", \"2020-11-30T00:00:00\", \"2020-12-31T00:00:00\", \"2021-01-29T00:00:00\", \"2021-02-26T00:00:00\", \"2021-03-31T00:00:00\", \"2021-04-29T00:00:00\"], \"y\": [null, 1.039398312268013, 1.0785356929890835, 1.1354338867049651, 1.1449312545974724, 1.153524689089692, 1.1580130845464403, 1.1640001442459196, 1.1540276101301448, 1.1269548201969315, 1.161333840343008, 1.2322971473568578, 1.2922204675017988, 1.2946773867760808, 1.3883158152769397, 1.515125827203687, 1.5641360404500098, 1.5431730145671854, 1.5788249270355303, 1.5429982721066193, 1.6834375743611254, 1.7283779679548037, 1.8407130685019415, 1.8010359338875581, 1.8599474018940485, 1.7414517273989043, 1.6417201877710867, 1.6241487830862955, 1.6501298008487197, 1.7086194222107491, 1.8100345902939614, 1.6519680046517031, 1.6653925507641194, 1.6393694973174489, 1.6499791897802172, 1.7312252254151193, 1.7918209769713285, 1.7749276218786445, 1.7640033452159163, 1.7789444705153972, 1.7958086148213992, 1.8245298501738842, 1.8330545392765776, 1.8284350040555124, 1.793693492173369, 1.7841054012095148, 1.692470408488712, 1.661372288329684, 1.2702425159682524, 1.5697580661455666, 1.7244202315860016, 1.7109841960123577, 1.6294057099492592, 1.8641395145795192, 1.9743591531020708, 1.9607897723046017, 2.2099259557227944, 2.564685574549136, 2.5187028693880764, 2.737662890079895, 2.9429702852118464, 2.975141316979111]}],\n",
       "                        {\"template\": {\"data\": {\"bar\": [{\"error_x\": {\"color\": \"#2a3f5f\"}, \"error_y\": {\"color\": \"#2a3f5f\"}, \"marker\": {\"line\": {\"color\": \"#E5ECF6\", \"width\": 0.5}}, \"type\": \"bar\"}], \"barpolar\": [{\"marker\": {\"line\": {\"color\": \"#E5ECF6\", \"width\": 0.5}}, \"type\": \"barpolar\"}], \"carpet\": [{\"aaxis\": {\"endlinecolor\": \"#2a3f5f\", \"gridcolor\": \"white\", \"linecolor\": \"white\", \"minorgridcolor\": \"white\", \"startlinecolor\": \"#2a3f5f\"}, \"baxis\": {\"endlinecolor\": \"#2a3f5f\", \"gridcolor\": \"white\", \"linecolor\": \"white\", \"minorgridcolor\": \"white\", \"startlinecolor\": \"#2a3f5f\"}, \"type\": \"carpet\"}], \"choropleth\": [{\"colorbar\": {\"outlinewidth\": 0, \"ticks\": \"\"}, \"type\": \"choropleth\"}], \"contour\": [{\"colorbar\": {\"outlinewidth\": 0, \"ticks\": \"\"}, \"colorscale\": [[0.0, \"#0d0887\"], [0.1111111111111111, \"#46039f\"], [0.2222222222222222, \"#7201a8\"], [0.3333333333333333, \"#9c179e\"], [0.4444444444444444, \"#bd3786\"], [0.5555555555555556, \"#d8576b\"], [0.6666666666666666, \"#ed7953\"], [0.7777777777777778, \"#fb9f3a\"], [0.8888888888888888, \"#fdca26\"], [1.0, \"#f0f921\"]], \"type\": \"contour\"}], \"contourcarpet\": [{\"colorbar\": {\"outlinewidth\": 0, \"ticks\": \"\"}, \"type\": \"contourcarpet\"}], \"heatmap\": [{\"colorbar\": {\"outlinewidth\": 0, \"ticks\": \"\"}, \"colorscale\": [[0.0, \"#0d0887\"], [0.1111111111111111, \"#46039f\"], [0.2222222222222222, \"#7201a8\"], [0.3333333333333333, \"#9c179e\"], [0.4444444444444444, \"#bd3786\"], [0.5555555555555556, \"#d8576b\"], [0.6666666666666666, \"#ed7953\"], [0.7777777777777778, \"#fb9f3a\"], [0.8888888888888888, \"#fdca26\"], [1.0, \"#f0f921\"]], \"type\": \"heatmap\"}], \"heatmapgl\": [{\"colorbar\": {\"outlinewidth\": 0, \"ticks\": \"\"}, \"colorscale\": [[0.0, \"#0d0887\"], [0.1111111111111111, \"#46039f\"], [0.2222222222222222, \"#7201a8\"], [0.3333333333333333, \"#9c179e\"], [0.4444444444444444, \"#bd3786\"], [0.5555555555555556, \"#d8576b\"], [0.6666666666666666, \"#ed7953\"], [0.7777777777777778, \"#fb9f3a\"], [0.8888888888888888, \"#fdca26\"], [1.0, \"#f0f921\"]], \"type\": \"heatmapgl\"}], \"histogram\": [{\"marker\": {\"colorbar\": {\"outlinewidth\": 0, \"ticks\": \"\"}}, \"type\": \"histogram\"}], \"histogram2d\": [{\"colorbar\": {\"outlinewidth\": 0, \"ticks\": \"\"}, \"colorscale\": [[0.0, \"#0d0887\"], [0.1111111111111111, \"#46039f\"], [0.2222222222222222, \"#7201a8\"], [0.3333333333333333, \"#9c179e\"], [0.4444444444444444, \"#bd3786\"], [0.5555555555555556, \"#d8576b\"], [0.6666666666666666, \"#ed7953\"], [0.7777777777777778, \"#fb9f3a\"], [0.8888888888888888, \"#fdca26\"], [1.0, \"#f0f921\"]], \"type\": \"histogram2d\"}], \"histogram2dcontour\": [{\"colorbar\": {\"outlinewidth\": 0, \"ticks\": \"\"}, \"colorscale\": [[0.0, \"#0d0887\"], [0.1111111111111111, \"#46039f\"], [0.2222222222222222, \"#7201a8\"], [0.3333333333333333, \"#9c179e\"], [0.4444444444444444, \"#bd3786\"], [0.5555555555555556, \"#d8576b\"], [0.6666666666666666, \"#ed7953\"], [0.7777777777777778, \"#fb9f3a\"], [0.8888888888888888, \"#fdca26\"], [1.0, \"#f0f921\"]], \"type\": \"histogram2dcontour\"}], \"mesh3d\": [{\"colorbar\": {\"outlinewidth\": 0, \"ticks\": \"\"}, \"type\": \"mesh3d\"}], \"parcoords\": [{\"line\": {\"colorbar\": {\"outlinewidth\": 0, \"ticks\": \"\"}}, \"type\": \"parcoords\"}], \"pie\": [{\"automargin\": true, \"type\": \"pie\"}], \"scatter\": [{\"marker\": {\"colorbar\": {\"outlinewidth\": 0, \"ticks\": \"\"}}, \"type\": \"scatter\"}], \"scatter3d\": [{\"line\": {\"colorbar\": {\"outlinewidth\": 0, \"ticks\": \"\"}}, \"marker\": {\"colorbar\": {\"outlinewidth\": 0, \"ticks\": \"\"}}, \"type\": \"scatter3d\"}], \"scattercarpet\": [{\"marker\": {\"colorbar\": {\"outlinewidth\": 0, \"ticks\": \"\"}}, \"type\": \"scattercarpet\"}], \"scattergeo\": [{\"marker\": {\"colorbar\": {\"outlinewidth\": 0, \"ticks\": \"\"}}, \"type\": \"scattergeo\"}], \"scattergl\": [{\"marker\": {\"colorbar\": {\"outlinewidth\": 0, \"ticks\": \"\"}}, \"type\": \"scattergl\"}], \"scattermapbox\": [{\"marker\": {\"colorbar\": {\"outlinewidth\": 0, \"ticks\": \"\"}}, \"type\": \"scattermapbox\"}], \"scatterpolar\": [{\"marker\": {\"colorbar\": {\"outlinewidth\": 0, \"ticks\": \"\"}}, \"type\": \"scatterpolar\"}], \"scatterpolargl\": [{\"marker\": {\"colorbar\": {\"outlinewidth\": 0, \"ticks\": \"\"}}, \"type\": \"scatterpolargl\"}], \"scatterternary\": [{\"marker\": {\"colorbar\": {\"outlinewidth\": 0, \"ticks\": \"\"}}, \"type\": \"scatterternary\"}], \"surface\": [{\"colorbar\": {\"outlinewidth\": 0, \"ticks\": \"\"}, \"colorscale\": [[0.0, \"#0d0887\"], [0.1111111111111111, \"#46039f\"], [0.2222222222222222, \"#7201a8\"], [0.3333333333333333, \"#9c179e\"], [0.4444444444444444, \"#bd3786\"], [0.5555555555555556, \"#d8576b\"], [0.6666666666666666, \"#ed7953\"], [0.7777777777777778, \"#fb9f3a\"], [0.8888888888888888, \"#fdca26\"], [1.0, \"#f0f921\"]], \"type\": \"surface\"}], \"table\": [{\"cells\": {\"fill\": {\"color\": \"#EBF0F8\"}, \"line\": {\"color\": \"white\"}}, \"header\": {\"fill\": {\"color\": \"#C8D4E3\"}, \"line\": {\"color\": \"white\"}}, \"type\": \"table\"}]}, \"layout\": {\"annotationdefaults\": {\"arrowcolor\": \"#2a3f5f\", \"arrowhead\": 0, \"arrowwidth\": 1}, \"coloraxis\": {\"colorbar\": {\"outlinewidth\": 0, \"ticks\": \"\"}}, \"colorscale\": {\"diverging\": [[0, \"#8e0152\"], [0.1, \"#c51b7d\"], [0.2, \"#de77ae\"], [0.3, \"#f1b6da\"], [0.4, \"#fde0ef\"], [0.5, \"#f7f7f7\"], [0.6, \"#e6f5d0\"], [0.7, \"#b8e186\"], [0.8, \"#7fbc41\"], [0.9, \"#4d9221\"], [1, \"#276419\"]], \"sequential\": [[0.0, \"#0d0887\"], [0.1111111111111111, \"#46039f\"], [0.2222222222222222, \"#7201a8\"], [0.3333333333333333, \"#9c179e\"], [0.4444444444444444, \"#bd3786\"], [0.5555555555555556, \"#d8576b\"], [0.6666666666666666, \"#ed7953\"], [0.7777777777777778, \"#fb9f3a\"], [0.8888888888888888, \"#fdca26\"], [1.0, \"#f0f921\"]], \"sequentialminus\": [[0.0, \"#0d0887\"], [0.1111111111111111, \"#46039f\"], [0.2222222222222222, \"#7201a8\"], [0.3333333333333333, \"#9c179e\"], [0.4444444444444444, \"#bd3786\"], [0.5555555555555556, \"#d8576b\"], [0.6666666666666666, \"#ed7953\"], [0.7777777777777778, \"#fb9f3a\"], [0.8888888888888888, \"#fdca26\"], [1.0, \"#f0f921\"]]}, \"colorway\": [\"#636efa\", \"#EF553B\", \"#00cc96\", \"#ab63fa\", \"#FFA15A\", \"#19d3f3\", \"#FF6692\", \"#B6E880\", \"#FF97FF\", \"#FECB52\"], \"font\": {\"color\": \"#2a3f5f\"}, \"geo\": {\"bgcolor\": \"white\", \"lakecolor\": \"white\", \"landcolor\": \"#E5ECF6\", \"showlakes\": true, \"showland\": true, \"subunitcolor\": \"white\"}, \"hoverlabel\": {\"align\": \"left\"}, \"hovermode\": \"closest\", \"mapbox\": {\"style\": \"light\"}, \"paper_bgcolor\": \"white\", \"plot_bgcolor\": \"#E5ECF6\", \"polar\": {\"angularaxis\": {\"gridcolor\": \"white\", \"linecolor\": \"white\", \"ticks\": \"\"}, \"bgcolor\": \"#E5ECF6\", \"radialaxis\": {\"gridcolor\": \"white\", \"linecolor\": \"white\", \"ticks\": \"\"}}, \"scene\": {\"xaxis\": {\"backgroundcolor\": \"#E5ECF6\", \"gridcolor\": \"white\", \"gridwidth\": 2, \"linecolor\": \"white\", \"showbackground\": true, \"ticks\": \"\", \"zerolinecolor\": \"white\"}, \"yaxis\": {\"backgroundcolor\": \"#E5ECF6\", \"gridcolor\": \"white\", \"gridwidth\": 2, \"linecolor\": \"white\", \"showbackground\": true, \"ticks\": \"\", \"zerolinecolor\": \"white\"}, \"zaxis\": {\"backgroundcolor\": \"#E5ECF6\", \"gridcolor\": \"white\", \"gridwidth\": 2, \"linecolor\": \"white\", \"showbackground\": true, \"ticks\": \"\", \"zerolinecolor\": \"white\"}}, \"shapedefaults\": {\"line\": {\"color\": \"#2a3f5f\"}}, \"ternary\": {\"aaxis\": {\"gridcolor\": \"white\", \"linecolor\": \"white\", \"ticks\": \"\"}, \"baxis\": {\"gridcolor\": \"white\", \"linecolor\": \"white\", \"ticks\": \"\"}, \"bgcolor\": \"#E5ECF6\", \"caxis\": {\"gridcolor\": \"white\", \"linecolor\": \"white\", \"ticks\": \"\"}}, \"title\": {\"x\": 0.05}, \"xaxis\": {\"automargin\": true, \"gridcolor\": \"white\", \"linecolor\": \"white\", \"ticks\": \"\", \"title\": {\"standoff\": 15}, \"zerolinecolor\": \"white\", \"zerolinewidth\": 2}, \"yaxis\": {\"automargin\": true, \"gridcolor\": \"white\", \"linecolor\": \"white\", \"ticks\": \"\", \"title\": {\"standoff\": 15}, \"zerolinecolor\": \"white\", \"zerolinewidth\": 2}}}},\n",
       "                        {\"responsive\": true}\n",
       "                    ).then(function(){\n",
       "                            \n",
       "var gd = document.getElementById('7cc48d39-83ff-49c2-b7a5-9262d93679ce');\n",
       "var x = new MutationObserver(function (mutations, observer) {{\n",
       "        var display = window.getComputedStyle(gd).display;\n",
       "        if (!display || display === 'none') {{\n",
       "            console.log([gd, 'removed!']);\n",
       "            Plotly.purge(gd);\n",
       "            observer.disconnect();\n",
       "        }}\n",
       "}});\n",
       "\n",
       "// Listen for the removal of the full notebook cells\n",
       "var notebookContainer = gd.closest('#notebook-container');\n",
       "if (notebookContainer) {{\n",
       "    x.observe(notebookContainer, {childList: true});\n",
       "}}\n",
       "\n",
       "// Listen for the clearing of the current output cell\n",
       "var outputEl = gd.closest('.output');\n",
       "if (outputEl) {{\n",
       "    x.observe(outputEl, {childList: true});\n",
       "}}\n",
       "\n",
       "                        })\n",
       "                };\n",
       "                });\n",
       "            </script>\n",
       "        </div>"
      ]
     },
     "metadata": {},
     "output_type": "display_data"
    }
   ],
   "source": [
    "### CHECK PERFORMANCE OF THE TOP OF SPECIFIC STOCKS (TOP 15 STOCKS, 10 STOCKS, ...)\n",
    "\n",
    "positions = monthly_return.copy(deep=True)\n",
    "for col in positions.columns:\n",
    "    positions[col] = np.nan\n",
    "    \n",
    "for col in positions.columns:\n",
    "    if col in combined_ranks.columns:\n",
    "        positions[col] = combined_ranks[col].apply(lambda x: 1 if x<=5 else np.nan)\n",
    "    else:\n",
    "        positions = positions.drop(columns=col)\n",
    "        \n",
    "profit = monthly_return * positions.shift(1)\n",
    "\n",
    "profit['avgProfit'] = profit.mean(axis=1)\n",
    "\n",
    "profit['cumulative'] = (profit['avgProfit'] + 1).cumprod()\n",
    "\n",
    "profit['numHolding'] = profit.count(axis=1)\n",
    "\n",
    "import plotly.graph_objects as go\n",
    "cumulative = profit['cumulative'].to_list()\n",
    "benchmark = (monthly_return.mean(axis=1)+ 1).cumprod().tolist()\n",
    "fig = go.Figure()\n",
    "fig.add_trace(\n",
    "    go.Scatter(x=profit.index.tolist(), y=cumulative,\n",
    "               mode='lines',\n",
    "               name='cumulative'))\n",
    "fig.add_trace(\n",
    "    go.Scatter(x=profit.index.tolist(), y=benchmark,\n",
    "               mode='lines',\n",
    "               name='benchmark'))\n",
    "\n",
    "fig.show()"
   ]
  },
  {
   "cell_type": "code",
   "execution_count": 70,
   "metadata": {},
   "outputs": [
    {
     "data": {
      "text/html": [
       "<div>\n",
       "<style scoped>\n",
       "    .dataframe tbody tr th:only-of-type {\n",
       "        vertical-align: middle;\n",
       "    }\n",
       "\n",
       "    .dataframe tbody tr th {\n",
       "        vertical-align: top;\n",
       "    }\n",
       "\n",
       "    .dataframe thead th {\n",
       "        text-align: right;\n",
       "    }\n",
       "</style>\n",
       "<table border=\"1\" class=\"dataframe\">\n",
       "  <thead>\n",
       "    <tr style=\"text-align: right;\">\n",
       "      <th>code</th>\n",
       "      <th>AAA</th>\n",
       "      <th>AMD</th>\n",
       "      <th>ANV</th>\n",
       "      <th>APG</th>\n",
       "      <th>ASM</th>\n",
       "      <th>AST</th>\n",
       "      <th>BCG</th>\n",
       "      <th>BID</th>\n",
       "      <th>BMP</th>\n",
       "      <th>BWE</th>\n",
       "      <th>...</th>\n",
       "      <th>VNG</th>\n",
       "      <th>VNM</th>\n",
       "      <th>VPB</th>\n",
       "      <th>VPG</th>\n",
       "      <th>VPI</th>\n",
       "      <th>VRE</th>\n",
       "      <th>VSC</th>\n",
       "      <th>avgProfit</th>\n",
       "      <th>cumulative</th>\n",
       "      <th>numHolding</th>\n",
       "    </tr>\n",
       "    <tr>\n",
       "      <th>date</th>\n",
       "      <th></th>\n",
       "      <th></th>\n",
       "      <th></th>\n",
       "      <th></th>\n",
       "      <th></th>\n",
       "      <th></th>\n",
       "      <th></th>\n",
       "      <th></th>\n",
       "      <th></th>\n",
       "      <th></th>\n",
       "      <th></th>\n",
       "      <th></th>\n",
       "      <th></th>\n",
       "      <th></th>\n",
       "      <th></th>\n",
       "      <th></th>\n",
       "      <th></th>\n",
       "      <th></th>\n",
       "      <th></th>\n",
       "      <th></th>\n",
       "      <th></th>\n",
       "    </tr>\n",
       "  </thead>\n",
       "  <tbody>\n",
       "    <tr>\n",
       "      <th>2016-03-31</th>\n",
       "      <td>NaN</td>\n",
       "      <td>NaN</td>\n",
       "      <td>NaN</td>\n",
       "      <td>NaN</td>\n",
       "      <td>NaN</td>\n",
       "      <td>NaN</td>\n",
       "      <td>NaN</td>\n",
       "      <td>NaN</td>\n",
       "      <td>NaN</td>\n",
       "      <td>NaN</td>\n",
       "      <td>...</td>\n",
       "      <td>NaN</td>\n",
       "      <td>NaN</td>\n",
       "      <td>NaN</td>\n",
       "      <td>NaN</td>\n",
       "      <td>NaN</td>\n",
       "      <td>NaN</td>\n",
       "      <td>NaN</td>\n",
       "      <td>NaN</td>\n",
       "      <td>NaN</td>\n",
       "      <td>0</td>\n",
       "    </tr>\n",
       "    <tr>\n",
       "      <th>2016-04-29</th>\n",
       "      <td>NaN</td>\n",
       "      <td>NaN</td>\n",
       "      <td>NaN</td>\n",
       "      <td>NaN</td>\n",
       "      <td>NaN</td>\n",
       "      <td>NaN</td>\n",
       "      <td>NaN</td>\n",
       "      <td>NaN</td>\n",
       "      <td>NaN</td>\n",
       "      <td>NaN</td>\n",
       "      <td>...</td>\n",
       "      <td>NaN</td>\n",
       "      <td>NaN</td>\n",
       "      <td>NaN</td>\n",
       "      <td>NaN</td>\n",
       "      <td>NaN</td>\n",
       "      <td>NaN</td>\n",
       "      <td>NaN</td>\n",
       "      <td>0.040967</td>\n",
       "      <td>1.040967</td>\n",
       "      <td>7</td>\n",
       "    </tr>\n",
       "    <tr>\n",
       "      <th>2016-05-31</th>\n",
       "      <td>NaN</td>\n",
       "      <td>NaN</td>\n",
       "      <td>NaN</td>\n",
       "      <td>NaN</td>\n",
       "      <td>NaN</td>\n",
       "      <td>NaN</td>\n",
       "      <td>NaN</td>\n",
       "      <td>NaN</td>\n",
       "      <td>NaN</td>\n",
       "      <td>NaN</td>\n",
       "      <td>...</td>\n",
       "      <td>NaN</td>\n",
       "      <td>NaN</td>\n",
       "      <td>NaN</td>\n",
       "      <td>NaN</td>\n",
       "      <td>NaN</td>\n",
       "      <td>NaN</td>\n",
       "      <td>NaN</td>\n",
       "      <td>0.027329</td>\n",
       "      <td>1.069415</td>\n",
       "      <td>7</td>\n",
       "    </tr>\n",
       "    <tr>\n",
       "      <th>2016-06-30</th>\n",
       "      <td>NaN</td>\n",
       "      <td>NaN</td>\n",
       "      <td>NaN</td>\n",
       "      <td>NaN</td>\n",
       "      <td>NaN</td>\n",
       "      <td>NaN</td>\n",
       "      <td>NaN</td>\n",
       "      <td>NaN</td>\n",
       "      <td>NaN</td>\n",
       "      <td>NaN</td>\n",
       "      <td>...</td>\n",
       "      <td>NaN</td>\n",
       "      <td>NaN</td>\n",
       "      <td>NaN</td>\n",
       "      <td>NaN</td>\n",
       "      <td>NaN</td>\n",
       "      <td>NaN</td>\n",
       "      <td>NaN</td>\n",
       "      <td>0.007548</td>\n",
       "      <td>1.077487</td>\n",
       "      <td>7</td>\n",
       "    </tr>\n",
       "    <tr>\n",
       "      <th>2016-07-29</th>\n",
       "      <td>NaN</td>\n",
       "      <td>NaN</td>\n",
       "      <td>NaN</td>\n",
       "      <td>NaN</td>\n",
       "      <td>NaN</td>\n",
       "      <td>NaN</td>\n",
       "      <td>NaN</td>\n",
       "      <td>NaN</td>\n",
       "      <td>0.116483</td>\n",
       "      <td>NaN</td>\n",
       "      <td>...</td>\n",
       "      <td>NaN</td>\n",
       "      <td>NaN</td>\n",
       "      <td>NaN</td>\n",
       "      <td>NaN</td>\n",
       "      <td>NaN</td>\n",
       "      <td>NaN</td>\n",
       "      <td>NaN</td>\n",
       "      <td>0.079124</td>\n",
       "      <td>1.162742</td>\n",
       "      <td>7</td>\n",
       "    </tr>\n",
       "    <tr>\n",
       "      <th>...</th>\n",
       "      <td>...</td>\n",
       "      <td>...</td>\n",
       "      <td>...</td>\n",
       "      <td>...</td>\n",
       "      <td>...</td>\n",
       "      <td>...</td>\n",
       "      <td>...</td>\n",
       "      <td>...</td>\n",
       "      <td>...</td>\n",
       "      <td>...</td>\n",
       "      <td>...</td>\n",
       "      <td>...</td>\n",
       "      <td>...</td>\n",
       "      <td>...</td>\n",
       "      <td>...</td>\n",
       "      <td>...</td>\n",
       "      <td>...</td>\n",
       "      <td>...</td>\n",
       "      <td>...</td>\n",
       "      <td>...</td>\n",
       "      <td>...</td>\n",
       "    </tr>\n",
       "    <tr>\n",
       "      <th>2020-12-31</th>\n",
       "      <td>NaN</td>\n",
       "      <td>NaN</td>\n",
       "      <td>NaN</td>\n",
       "      <td>NaN</td>\n",
       "      <td>NaN</td>\n",
       "      <td>NaN</td>\n",
       "      <td>NaN</td>\n",
       "      <td>NaN</td>\n",
       "      <td>NaN</td>\n",
       "      <td>NaN</td>\n",
       "      <td>...</td>\n",
       "      <td>NaN</td>\n",
       "      <td>NaN</td>\n",
       "      <td>0.212687</td>\n",
       "      <td>NaN</td>\n",
       "      <td>NaN</td>\n",
       "      <td>NaN</td>\n",
       "      <td>NaN</td>\n",
       "      <td>0.175762</td>\n",
       "      <td>5.166513</td>\n",
       "      <td>7</td>\n",
       "    </tr>\n",
       "    <tr>\n",
       "      <th>2021-01-29</th>\n",
       "      <td>NaN</td>\n",
       "      <td>NaN</td>\n",
       "      <td>NaN</td>\n",
       "      <td>NaN</td>\n",
       "      <td>NaN</td>\n",
       "      <td>NaN</td>\n",
       "      <td>NaN</td>\n",
       "      <td>NaN</td>\n",
       "      <td>NaN</td>\n",
       "      <td>NaN</td>\n",
       "      <td>...</td>\n",
       "      <td>NaN</td>\n",
       "      <td>NaN</td>\n",
       "      <td>NaN</td>\n",
       "      <td>NaN</td>\n",
       "      <td>NaN</td>\n",
       "      <td>NaN</td>\n",
       "      <td>NaN</td>\n",
       "      <td>0.041963</td>\n",
       "      <td>5.383313</td>\n",
       "      <td>7</td>\n",
       "    </tr>\n",
       "    <tr>\n",
       "      <th>2021-02-26</th>\n",
       "      <td>NaN</td>\n",
       "      <td>NaN</td>\n",
       "      <td>NaN</td>\n",
       "      <td>NaN</td>\n",
       "      <td>NaN</td>\n",
       "      <td>NaN</td>\n",
       "      <td>NaN</td>\n",
       "      <td>NaN</td>\n",
       "      <td>NaN</td>\n",
       "      <td>NaN</td>\n",
       "      <td>...</td>\n",
       "      <td>NaN</td>\n",
       "      <td>NaN</td>\n",
       "      <td>NaN</td>\n",
       "      <td>NaN</td>\n",
       "      <td>NaN</td>\n",
       "      <td>NaN</td>\n",
       "      <td>NaN</td>\n",
       "      <td>0.173163</td>\n",
       "      <td>6.315506</td>\n",
       "      <td>7</td>\n",
       "    </tr>\n",
       "    <tr>\n",
       "      <th>2021-03-31</th>\n",
       "      <td>NaN</td>\n",
       "      <td>NaN</td>\n",
       "      <td>NaN</td>\n",
       "      <td>NaN</td>\n",
       "      <td>NaN</td>\n",
       "      <td>NaN</td>\n",
       "      <td>NaN</td>\n",
       "      <td>NaN</td>\n",
       "      <td>NaN</td>\n",
       "      <td>NaN</td>\n",
       "      <td>...</td>\n",
       "      <td>NaN</td>\n",
       "      <td>NaN</td>\n",
       "      <td>NaN</td>\n",
       "      <td>NaN</td>\n",
       "      <td>NaN</td>\n",
       "      <td>NaN</td>\n",
       "      <td>NaN</td>\n",
       "      <td>0.028745</td>\n",
       "      <td>6.497045</td>\n",
       "      <td>7</td>\n",
       "    </tr>\n",
       "    <tr>\n",
       "      <th>2021-04-29</th>\n",
       "      <td>NaN</td>\n",
       "      <td>NaN</td>\n",
       "      <td>NaN</td>\n",
       "      <td>NaN</td>\n",
       "      <td>NaN</td>\n",
       "      <td>NaN</td>\n",
       "      <td>NaN</td>\n",
       "      <td>NaN</td>\n",
       "      <td>NaN</td>\n",
       "      <td>NaN</td>\n",
       "      <td>...</td>\n",
       "      <td>NaN</td>\n",
       "      <td>NaN</td>\n",
       "      <td>NaN</td>\n",
       "      <td>NaN</td>\n",
       "      <td>NaN</td>\n",
       "      <td>NaN</td>\n",
       "      <td>NaN</td>\n",
       "      <td>-0.031039</td>\n",
       "      <td>6.295381</td>\n",
       "      <td>7</td>\n",
       "    </tr>\n",
       "  </tbody>\n",
       "</table>\n",
       "<p>62 rows × 146 columns</p>\n",
       "</div>"
      ],
      "text/plain": [
       "code        AAA  AMD  ANV  APG  ASM  AST  BCG  BID       BMP  BWE  ...  VNG  \\\n",
       "date                                                               ...        \n",
       "2016-03-31  NaN  NaN  NaN  NaN  NaN  NaN  NaN  NaN       NaN  NaN  ...  NaN   \n",
       "2016-04-29  NaN  NaN  NaN  NaN  NaN  NaN  NaN  NaN       NaN  NaN  ...  NaN   \n",
       "2016-05-31  NaN  NaN  NaN  NaN  NaN  NaN  NaN  NaN       NaN  NaN  ...  NaN   \n",
       "2016-06-30  NaN  NaN  NaN  NaN  NaN  NaN  NaN  NaN       NaN  NaN  ...  NaN   \n",
       "2016-07-29  NaN  NaN  NaN  NaN  NaN  NaN  NaN  NaN  0.116483  NaN  ...  NaN   \n",
       "...         ...  ...  ...  ...  ...  ...  ...  ...       ...  ...  ...  ...   \n",
       "2020-12-31  NaN  NaN  NaN  NaN  NaN  NaN  NaN  NaN       NaN  NaN  ...  NaN   \n",
       "2021-01-29  NaN  NaN  NaN  NaN  NaN  NaN  NaN  NaN       NaN  NaN  ...  NaN   \n",
       "2021-02-26  NaN  NaN  NaN  NaN  NaN  NaN  NaN  NaN       NaN  NaN  ...  NaN   \n",
       "2021-03-31  NaN  NaN  NaN  NaN  NaN  NaN  NaN  NaN       NaN  NaN  ...  NaN   \n",
       "2021-04-29  NaN  NaN  NaN  NaN  NaN  NaN  NaN  NaN       NaN  NaN  ...  NaN   \n",
       "\n",
       "code        VNM       VPB  VPG  VPI  VRE  VSC  avgProfit  cumulative  \\\n",
       "date                                                                   \n",
       "2016-03-31  NaN       NaN  NaN  NaN  NaN  NaN        NaN         NaN   \n",
       "2016-04-29  NaN       NaN  NaN  NaN  NaN  NaN   0.040967    1.040967   \n",
       "2016-05-31  NaN       NaN  NaN  NaN  NaN  NaN   0.027329    1.069415   \n",
       "2016-06-30  NaN       NaN  NaN  NaN  NaN  NaN   0.007548    1.077487   \n",
       "2016-07-29  NaN       NaN  NaN  NaN  NaN  NaN   0.079124    1.162742   \n",
       "...         ...       ...  ...  ...  ...  ...        ...         ...   \n",
       "2020-12-31  NaN  0.212687  NaN  NaN  NaN  NaN   0.175762    5.166513   \n",
       "2021-01-29  NaN       NaN  NaN  NaN  NaN  NaN   0.041963    5.383313   \n",
       "2021-02-26  NaN       NaN  NaN  NaN  NaN  NaN   0.173163    6.315506   \n",
       "2021-03-31  NaN       NaN  NaN  NaN  NaN  NaN   0.028745    6.497045   \n",
       "2021-04-29  NaN       NaN  NaN  NaN  NaN  NaN  -0.031039    6.295381   \n",
       "\n",
       "code        numHolding  \n",
       "date                    \n",
       "2016-03-31           0  \n",
       "2016-04-29           7  \n",
       "2016-05-31           7  \n",
       "2016-06-30           7  \n",
       "2016-07-29           7  \n",
       "...                ...  \n",
       "2020-12-31           7  \n",
       "2021-01-29           7  \n",
       "2021-02-26           7  \n",
       "2021-03-31           7  \n",
       "2021-04-29           7  \n",
       "\n",
       "[62 rows x 146 columns]"
      ]
     },
     "execution_count": 70,
     "metadata": {},
     "output_type": "execute_result"
    }
   ],
   "source": [
    "profit"
   ]
  },
  {
   "cell_type": "code",
   "execution_count": 73,
   "metadata": {},
   "outputs": [
    {
     "name": "stderr",
     "output_type": "stream",
     "text": [
      "C:\\Users\\ADMIN\\Anaconda3\\lib\\site-packages\\ipykernel_launcher.py:3: UserWarning:\n",
      "\n",
      "Boolean Series key will be reindexed to match DataFrame index.\n",
      "\n"
     ]
    },
    {
     "data": {
      "text/html": [
       "<div>\n",
       "<style scoped>\n",
       "    .dataframe tbody tr th:only-of-type {\n",
       "        vertical-align: middle;\n",
       "    }\n",
       "\n",
       "    .dataframe tbody tr th {\n",
       "        vertical-align: top;\n",
       "    }\n",
       "\n",
       "    .dataframe thead th {\n",
       "        text-align: right;\n",
       "    }\n",
       "</style>\n",
       "<table border=\"1\" class=\"dataframe\">\n",
       "  <thead>\n",
       "    <tr style=\"text-align: right;\">\n",
       "      <th></th>\n",
       "      <th>date</th>\n",
       "      <th>code</th>\n",
       "      <th>value</th>\n",
       "    </tr>\n",
       "  </thead>\n",
       "  <tbody>\n",
       "    <tr>\n",
       "      <th>992</th>\n",
       "      <td>2016-03-31</td>\n",
       "      <td>D2D</td>\n",
       "      <td>1.5</td>\n",
       "    </tr>\n",
       "    <tr>\n",
       "      <th>1860</th>\n",
       "      <td>2016-03-31</td>\n",
       "      <td>DXG</td>\n",
       "      <td>3.0</td>\n",
       "    </tr>\n",
       "    <tr>\n",
       "      <th>3968</th>\n",
       "      <td>2016-03-31</td>\n",
       "      <td>KSB</td>\n",
       "      <td>5.0</td>\n",
       "    </tr>\n",
       "    <tr>\n",
       "      <th>4712</th>\n",
       "      <td>2016-03-31</td>\n",
       "      <td>NTL</td>\n",
       "      <td>4.0</td>\n",
       "    </tr>\n",
       "    <tr>\n",
       "      <th>5022</th>\n",
       "      <td>2016-03-31</td>\n",
       "      <td>PHR</td>\n",
       "      <td>1.5</td>\n",
       "    </tr>\n",
       "  </tbody>\n",
       "</table>\n",
       "</div>"
      ],
      "text/plain": [
       "           date code  value\n",
       "992  2016-03-31  D2D    1.5\n",
       "1860 2016-03-31  DXG    3.0\n",
       "3968 2016-03-31  KSB    5.0\n",
       "4712 2016-03-31  NTL    4.0\n",
       "5022 2016-03-31  PHR    1.5"
      ]
     },
     "execution_count": 73,
     "metadata": {},
     "output_type": "execute_result"
    }
   ],
   "source": [
    "a= combined_ranks.reset_index()\n",
    "a = a.melt(id_vars=['date'], value_vars=a.columns[1:])\n",
    "a[a['date']=='2016-03-31'][a['value']<=5]"
   ]
  },
  {
   "cell_type": "code",
   "execution_count": 72,
   "metadata": {},
   "outputs": [
    {
     "data": {
      "text/html": [
       "<div>\n",
       "<style scoped>\n",
       "    .dataframe tbody tr th:only-of-type {\n",
       "        vertical-align: middle;\n",
       "    }\n",
       "\n",
       "    .dataframe tbody tr th {\n",
       "        vertical-align: top;\n",
       "    }\n",
       "\n",
       "    .dataframe thead th {\n",
       "        text-align: right;\n",
       "    }\n",
       "</style>\n",
       "<table border=\"1\" class=\"dataframe\">\n",
       "  <thead>\n",
       "    <tr style=\"text-align: right;\">\n",
       "      <th></th>\n",
       "      <th>date</th>\n",
       "      <th>code</th>\n",
       "      <th>value</th>\n",
       "    </tr>\n",
       "  </thead>\n",
       "  <tbody>\n",
       "    <tr>\n",
       "      <th>1241</th>\n",
       "      <td>2016-04-29</td>\n",
       "      <td>D2D</td>\n",
       "      <td>0.040840</td>\n",
       "    </tr>\n",
       "    <tr>\n",
       "      <th>2171</th>\n",
       "      <td>2016-04-29</td>\n",
       "      <td>DXG</td>\n",
       "      <td>-0.067867</td>\n",
       "    </tr>\n",
       "    <tr>\n",
       "      <th>4713</th>\n",
       "      <td>2016-04-29</td>\n",
       "      <td>KSB</td>\n",
       "      <td>0.153417</td>\n",
       "    </tr>\n",
       "    <tr>\n",
       "      <th>5457</th>\n",
       "      <td>2016-04-29</td>\n",
       "      <td>NTL</td>\n",
       "      <td>-0.067416</td>\n",
       "    </tr>\n",
       "    <tr>\n",
       "      <th>5829</th>\n",
       "      <td>2016-04-29</td>\n",
       "      <td>PHR</td>\n",
       "      <td>0.145861</td>\n",
       "    </tr>\n",
       "  </tbody>\n",
       "</table>\n",
       "</div>"
      ],
      "text/plain": [
       "           date code     value\n",
       "1241 2016-04-29  D2D  0.040840\n",
       "2171 2016-04-29  DXG -0.067867\n",
       "4713 2016-04-29  KSB  0.153417\n",
       "5457 2016-04-29  NTL -0.067416\n",
       "5829 2016-04-29  PHR  0.145861"
      ]
     },
     "execution_count": 72,
     "metadata": {},
     "output_type": "execute_result"
    }
   ],
   "source": [
    "b = profit.reset_index()\n",
    "b=b.melt(id_vars=['date'], value_vars=b.columns[1:-3])\n",
    "b[b['date']=='2016-04-29'].dropna()"
   ]
  },
  {
   "cell_type": "code",
   "execution_count": null,
   "metadata": {},
   "outputs": [],
   "source": []
  }
 ],
 "metadata": {
  "kernelspec": {
   "display_name": "Python 3",
   "language": "python",
   "name": "python3"
  },
  "language_info": {
   "codemirror_mode": {
    "name": "ipython",
    "version": 3
   },
   "file_extension": ".py",
   "mimetype": "text/x-python",
   "name": "python",
   "nbconvert_exporter": "python",
   "pygments_lexer": "ipython3",
   "version": "3.8.8"
  }
 },
 "nbformat": 4,
 "nbformat_minor": 4
}
