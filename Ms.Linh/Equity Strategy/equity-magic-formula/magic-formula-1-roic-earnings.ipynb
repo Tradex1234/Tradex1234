{
 "cells": [
  {
   "cell_type": "code",
   "execution_count": 1,
   "metadata": {},
   "outputs": [],
   "source": [
    "import pandas as pd\n",
    "from urllib.parse import urlencode\n",
    "import requests\n",
    "from requests import Response\n",
    "import plotly.graph_objects as go\n",
    "import sqlalchemy\n",
    "from datetime import datetime, date, time\n",
    "import os, sys\n",
    "import datetime as dt\n",
    "from dateutil.relativedelta import relativedelta\n",
    "from math import ceil\n",
    "import numpy as np"
   ]
  },
  {
   "cell_type": "code",
   "execution_count": 2,
   "metadata": {},
   "outputs": [],
   "source": [
    "sys.path.append(os.path.abspath('.'))"
   ]
  },
  {
   "cell_type": "code",
   "execution_count": 3,
   "metadata": {},
   "outputs": [],
   "source": [
    "import foward_test_valuation_strategy as common"
   ]
  },
  {
   "cell_type": "code",
   "execution_count": 4,
   "metadata": {},
   "outputs": [],
   "source": [
    "keys = ['total equity', 'interest expenses', 'fixed assets', 'net accounting profit/(loss) before tax']\n",
    "\n",
    "list_stock_link = 'https://trading.vcsc.com.vn/restapi/api/v1/market/stock/listed?marketType=HOSE&securitiesType=ALL&fetchCount=1000'\n",
    "hose_list = pd.DataFrame(common.get_rest(url=list_stock_link, body={}))\n",
    "hose_list['len'] = hose_list['code'].apply(lambda x: len(x))\n",
    "hose_list = hose_list[hose_list['len'] == 3].code.tolist()\n"
   ]
  },
  {
   "cell_type": "code",
   "execution_count": null,
   "metadata": {},
   "outputs": [],
   "source": [
    "# magic1_universe = pd.read_csv('magic1-universe.csv')['code'].to_list()\n",
    "lst_type = common.get_group_market_cap(date='2021-02-17', lst_code=hose_list)"
   ]
  },
  {
   "cell_type": "markdown",
   "metadata": {},
   "source": [
    "# If you don't have finincial_data.csv, run this code."
   ]
  },
  {
   "cell_type": "code",
   "execution_count": null,
   "metadata": {},
   "outputs": [],
   "source": [
    "# access_tok = common.login()"
   ]
  },
  {
   "cell_type": "code",
   "execution_count": null,
   "metadata": {
    "scrolled": true
   },
   "outputs": [],
   "source": [
    "# data = pd.DataFrame()\n",
    "# for key in keys:\n",
    "#     for year in range(2014, 2021):\n",
    "#         for quarter in range(1, 5):\n",
    "#             df = common.query_financial_data(year=year, quarter=quarter, list_stock=hose_list, type=key, access_token=access_tok)\n",
    "#             if len(df) > 0:\n",
    "#                 df = pd.melt(df, id_vars=['code', 'quarter', 'year'], value_vars=key)\n",
    "#             data = pd.concat([data, df])\n",
    "#             print('KEY: {} ====== YEAR: {} ===== QUAR: {}'.format(key, year, quarter))\n",
    "#     print('DONEEEEEEE')\n",
    "# data"
   ]
  },
  {
   "cell_type": "code",
   "execution_count": null,
   "metadata": {},
   "outputs": [],
   "source": [
    "# data.to_csv('financial_data.csv', index=None)"
   ]
  },
  {
   "cell_type": "markdown",
   "metadata": {},
   "source": [
    "# START HEREEEE"
   ]
  },
  {
   "cell_type": "code",
   "execution_count": null,
   "metadata": {},
   "outputs": [],
   "source": [
    "data = pd.read_csv('financial_data.csv')"
   ]
  },
  {
   "cell_type": "code",
   "execution_count": null,
   "metadata": {},
   "outputs": [],
   "source": [
    "data = data.reset_index(drop=True)"
   ]
  },
  {
   "cell_type": "code",
   "execution_count": null,
   "metadata": {},
   "outputs": [],
   "source": [
    "equity = data[data['variable']=='total equity']\n",
    "interest = data[data['variable']=='interest expenses']\n",
    "asset = data[data['variable']=='fixed assets']\n",
    "ebt = data[data['variable']=='net accounting profit/(loss) before tax']"
   ]
  },
  {
   "cell_type": "code",
   "execution_count": null,
   "metadata": {},
   "outputs": [],
   "source": [
    "equity = equity.drop(columns=['variable']).rename(columns={'value':'total equity'})\n",
    "interest = interest.drop(columns=['variable']).rename(columns={'value':'interest expenses'})\n",
    "asset = asset.drop(columns=['variable']).rename(columns={'value':'fixed assets'})\n",
    "ebt = ebt.drop(columns=['variable']).rename(columns={'value':'net accounting profit/(loss) before tax'})"
   ]
  },
  {
   "cell_type": "code",
   "execution_count": null,
   "metadata": {},
   "outputs": [],
   "source": [
    "data = pd.merge(equity, interest, on=['code', 'quarter', 'year'], how='outer')\n",
    "data = pd.merge(data, asset, on=['code', 'quarter', 'year'], how='outer')\n",
    "data = pd.merge(data, ebt, on=['code', 'quarter', 'year'], how='outer')"
   ]
  },
  {
   "cell_type": "code",
   "execution_count": null,
   "metadata": {},
   "outputs": [],
   "source": [
    "data = data.sort_values(by=['code', 'year', 'quarter']).reset_index(drop=True)"
   ]
  },
  {
   "cell_type": "code",
   "execution_count": null,
   "metadata": {},
   "outputs": [],
   "source": [
    "data = data.rename(columns={'net accounting profit/(loss) before tax': 'ebt'})"
   ]
  },
  {
   "cell_type": "code",
   "execution_count": null,
   "metadata": {},
   "outputs": [],
   "source": [
    "data['ebit'] = data['ebt'] + data['interest expenses']\n",
    "data.loc[data['ebit'].isna(), 'ebit'] = data['ebt']"
   ]
  },
  {
   "cell_type": "code",
   "execution_count": null,
   "metadata": {},
   "outputs": [],
   "source": [
    "data"
   ]
  },
  {
   "cell_type": "code",
   "execution_count": null,
   "metadata": {},
   "outputs": [],
   "source": [
    "price = common.get_stock_price(stock_arr=hose_list, \n",
    "                               to_date='2021-02-18', \n",
    "                               from_date='2015-01-01', pivot_type=False, price=True)"
   ]
  },
  {
   "cell_type": "code",
   "execution_count": null,
   "metadata": {},
   "outputs": [],
   "source": [
    "oi = common.get_stock_oi(stock_arr=hose_list, to_date='2021-02-18', from_date='2015-01-01', pivot_type=False)"
   ]
  },
  {
   "cell_type": "code",
   "execution_count": null,
   "metadata": {},
   "outputs": [],
   "source": [
    "price_oi = pd.merge(price, oi, on=['date', 'code'], how='left')"
   ]
  },
  {
   "cell_type": "code",
   "execution_count": null,
   "metadata": {},
   "outputs": [],
   "source": [
    "price_oi['marcap'] = price_oi['close'] * 1000 * price_oi['oi']"
   ]
  },
  {
   "cell_type": "code",
   "execution_count": null,
   "metadata": {},
   "outputs": [],
   "source": [
    "price_oi['date'] = price_oi['date'].apply(lambda x: datetime.strptime(x, '%Y-%m-%d'))"
   ]
  },
  {
   "cell_type": "code",
   "execution_count": null,
   "metadata": {},
   "outputs": [],
   "source": [
    "price_oi['month'] = price_oi['date'].dt.month"
   ]
  },
  {
   "cell_type": "code",
   "execution_count": null,
   "metadata": {},
   "outputs": [],
   "source": [
    "price_oi.loc[(price_oi['month']!=price_oi['month'].shift(-1))|(\n",
    "            price_oi['code']!=price_oi['code'].shift(-1)), 'choose'] = 1\n",
    "price_oi_monthly = price_oi[price_oi['choose']==1].reset_index(drop=True).drop(columns=['choose', 'month'])"
   ]
  },
  {
   "cell_type": "code",
   "execution_count": null,
   "metadata": {},
   "outputs": [],
   "source": [
    "price_oi_monthly = pd.merge(price_oi_monthly, lst_type, on=['code'], how='left')"
   ]
  },
  {
   "cell_type": "code",
   "execution_count": null,
   "metadata": {},
   "outputs": [],
   "source": [
    "price_oi_monthly['date_lag_x'] = price_oi_monthly['date'].apply(lambda x: x-relativedelta(months=5))\n",
    "price_oi_monthly['year'] = price_oi_monthly['date_lag_x'].dt.year\n",
    "price_oi_monthly['quarter'] = price_oi_monthly['date_lag_x'].dt.month.apply(lambda x: ceil(x/3))\n"
   ]
  },
  {
   "cell_type": "code",
   "execution_count": null,
   "metadata": {},
   "outputs": [],
   "source": [
    "price_oi_fin_monthly = pd.merge(price_oi_monthly, data, on=['code', 'year', 'quarter'])"
   ]
  },
  {
   "cell_type": "code",
   "execution_count": null,
   "metadata": {},
   "outputs": [],
   "source": [
    "price_oi_fin_monthly['roic'] = price_oi_fin_monthly['ebit'] / (price_oi_fin_monthly['total equity']\n",
    "                                                               +price_oi_fin_monthly['fixed assets'])\n",
    "\n",
    "price_oi_fin_monthly['earnings yield'] = price_oi_fin_monthly['ebit'] / price_oi_fin_monthly['marcap']"
   ]
  },
  {
   "cell_type": "code",
   "execution_count": null,
   "metadata": {},
   "outputs": [],
   "source": [
    "price_oi_fin_monthly['year-quarter'] = price_oi_fin_monthly['year'].apply(lambda x: str(x)) + (\n",
    "                                                                    price_oi_fin_monthly['quarter'].apply(lambda x: str(x)))"
   ]
  },
  {
   "cell_type": "code",
   "execution_count": null,
   "metadata": {},
   "outputs": [],
   "source": [
    "price_oi_fin_monthly[price_oi_fin_monthly['code']=='AAA']"
   ]
  },
  {
   "cell_type": "markdown",
   "metadata": {},
   "source": [
    "# Filter by Group"
   ]
  },
  {
   "cell_type": "code",
   "execution_count": null,
   "metadata": {},
   "outputs": [],
   "source": [
    "price_oi_fin_monthly_filtered = price_oi_fin_monthly[(price_oi_fin_monthly['type']=='midCap')]\n",
    "\n",
    "# price_oi_fin_monthly_filtered = price_oi_fin_monthly.copy(deep=True)"
   ]
  },
  {
   "cell_type": "markdown",
   "metadata": {},
   "source": [
    "# Continue"
   ]
  },
  {
   "cell_type": "code",
   "execution_count": null,
   "metadata": {},
   "outputs": [],
   "source": [
    "price_oi_fin_monthly_filtered"
   ]
  },
  {
   "cell_type": "code",
   "execution_count": null,
   "metadata": {},
   "outputs": [],
   "source": [
    "roic = pd.pivot(price_oi_fin_monthly_filtered, \n",
    "                index='date', columns='code', values='roic').dropna(how='all', axis=1)"
   ]
  },
  {
   "cell_type": "code",
   "execution_count": null,
   "metadata": {},
   "outputs": [],
   "source": [
    "earnings = pd.pivot(price_oi_fin_monthly_filtered, \n",
    "                    index='date', columns='code', values='earnings yield').dropna(how='all', axis=1)"
   ]
  },
  {
   "cell_type": "code",
   "execution_count": null,
   "metadata": {},
   "outputs": [],
   "source": [
    "roic_ranking = roic.copy(deep=True)\n",
    "earnings_ranking = earnings.copy(deep=True)\n",
    "for col in roic_ranking.columns:\n",
    "    roic_ranking[col] = np.nan\n",
    "    earnings_ranking[col] = np.nan"
   ]
  },
  {
   "cell_type": "code",
   "execution_count": null,
   "metadata": {},
   "outputs": [],
   "source": [
    "roic_ranking = roic.rank(axis=1, ascending=False)\n",
    "earnings_ranking = earnings.rank(axis=1, ascending = False)"
   ]
  },
  {
   "cell_type": "code",
   "execution_count": null,
   "metadata": {},
   "outputs": [],
   "source": [
    "combined_ranks = (roic_ranking + earnings_ranking)/2\n",
    "\n",
    "combined_ranks = combined_ranks.rank(axis=1, ascending=True)"
   ]
  },
  {
   "cell_type": "code",
   "execution_count": null,
   "metadata": {},
   "outputs": [],
   "source": [
    "combined_ranks"
   ]
  },
  {
   "cell_type": "code",
   "execution_count": null,
   "metadata": {},
   "outputs": [],
   "source": [
    "price_monthly_pivot = price_oi_fin_monthly_filtered.pivot(index='date', columns='code', values='close')\n",
    "monthly_return = price_monthly_pivot/price_monthly_pivot.shift(1)-1"
   ]
  },
  {
   "cell_type": "code",
   "execution_count": null,
   "metadata": {},
   "outputs": [],
   "source": [
    "### CHECK PERFORMANCE OF THE TOP OF SPECIFIC STOCKS (TOP 15 STOCKS, 10 STOCKS, ...)\n",
    "\n",
    "positions = monthly_return.copy(deep=True)\n",
    "for col in positions.columns:\n",
    "    positions[col] = np.nan\n",
    "    \n",
    "for col in positions.columns:\n",
    "    if col in combined_ranks.columns:\n",
    "        positions[col] = combined_ranks[col].apply(lambda x: 1 if x<=15 else np.nan)\n",
    "    else:\n",
    "        positions = positions.drop(columns=col)\n",
    "        \n",
    "profit = monthly_return * positions.shift(1)\n",
    "\n",
    "profit['avgProfit'] = profit.mean(axis=1)\n",
    "\n",
    "profit['cumulative'] = (profit['avgProfit'] + 1).cumprod()\n",
    "\n",
    "profit['numHolding'] = profit.count(axis=1)\n",
    "\n",
    "import plotly.graph_objects as go\n",
    "\n",
    "benchmark = (monthly_return.mean(axis=1)+ 1).cumprod().tolist()\n",
    "fig = go.Figure()\n",
    "\n",
    "import plotly.graph_objects as go\n",
    "cumulative = profit['cumulative'].to_list()\n",
    "benchmark = (monthly_return.mean(axis=1)+ 1).cumprod().tolist()\n",
    "fig = go.Figure()\n",
    "fig.add_trace(\n",
    "    go.Scatter(x=profit.index.tolist(), y=cumulative,\n",
    "               mode='lines',\n",
    "               name='cumulative'))\n",
    "fig.add_trace(\n",
    "    go.Scatter(x=profit.index.tolist(), y=benchmark,\n",
    "               mode='lines',\n",
    "               name='benchmark'))\n",
    "\n",
    "fig.show()\n"
   ]
  },
  {
   "cell_type": "markdown",
   "metadata": {},
   "source": [
    "# CHECK PERFORMANCE OF THE TOP BY % (TOP 10%, 20%,...)"
   ]
  },
  {
   "cell_type": "code",
   "execution_count": null,
   "metadata": {},
   "outputs": [],
   "source": [
    "combined_ranks['count'] = combined_ranks.count(axis='columns')\n",
    "\n",
    "for col in combined_ranks.columns[:-1]:\n",
    "    combined_ranks[col] = combined_ranks[col]/combined_ranks['count']\n",
    "    "
   ]
  },
  {
   "cell_type": "code",
   "execution_count": null,
   "metadata": {
    "scrolled": false
   },
   "outputs": [],
   "source": [
    "\n",
    "\n",
    "lst_rank = [10,20,30,40,50,60,70,80,90,100]\n",
    "\n",
    "result = positions.reset_index()[['date']].set_index('date')\n",
    "\n",
    "for r in lst_rank:\n",
    "    positions = monthly_return.copy(deep=True)\n",
    "    for col in positions.columns:\n",
    "        positions[col] = np.nan\n",
    "    profit = positions.copy(deep=True)\n",
    "    for col in positions.columns:\n",
    "        if col in combined_ranks.columns:\n",
    "            positions[col] = combined_ranks[col].apply(lambda x: 1 if x<=r*0.01 else np.nan)\n",
    "        else:\n",
    "            positions = positions.drop(columns=col)\n",
    "    profit = monthly_return * positions.shift(1)\n",
    "    profit['avgProfit'] = profit.mean(axis=1)\n",
    "    profit['numHolding'] = profit.count(axis=1)\n",
    "    \n",
    "    result[str(r)] = profit['avgProfit']\n",
    "    \n",
    "    \n",
    "    print('Top {}'.format(str(r)))\n",
    "    print(profit['numHolding'].max())\n",
    "    \n",
    "for r in lst_rank:\n",
    "    if r > 10:\n",
    "        result['avgProfit'+ str(r)] = result[str(r)]*r/10 - result[str(r-10)]*(r-10)/10\n",
    "    else:\n",
    "        result['avgProfit'+ str(r)] = result[str(r)]\n",
    "    \n",
    "    result['cumulative' + str(r)] = (result['avgProfit'+ str(r)]+1).cumprod()\n",
    "        \n",
    "#     print('Top {} === Profit {} === Max Holding {}'.format(str(r*10), ))\n",
    "\n",
    "# profit"
   ]
  },
  {
   "cell_type": "code",
   "execution_count": null,
   "metadata": {},
   "outputs": [],
   "source": []
  }
 ],
 "metadata": {
  "kernelspec": {
   "display_name": "Python 3",
   "language": "python",
   "name": "python3"
  },
  "language_info": {
   "codemirror_mode": {
    "name": "ipython",
    "version": 3
   },
   "file_extension": ".py",
   "mimetype": "text/x-python",
   "name": "python",
   "nbconvert_exporter": "python",
   "pygments_lexer": "ipython3",
   "version": "3.8.4"
  }
 },
 "nbformat": 4,
 "nbformat_minor": 4
}
