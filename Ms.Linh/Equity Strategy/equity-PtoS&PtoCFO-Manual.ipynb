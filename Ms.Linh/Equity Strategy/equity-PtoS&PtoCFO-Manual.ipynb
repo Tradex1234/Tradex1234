{
 "cells": [
  {
   "cell_type": "markdown",
   "metadata": {},
   "source": [
    "Universe: 142 most liquid HOSE stocks\n",
    "\n",
    "Quarterly Rebalancing: First day of month: January, April, July, October\n",
    "\n",
    "Input Data: \n",
    "* Financial Data: Total revenue 1Q, CFO 1Q\n",
    "* Price Data: Close, Outstanding shares\n",
    "\n",
    "Step 1: Calculate CFO per share to price, Revenue per share to price\n",
    "* CFOP = (Net cash flow from operating activities 1Q/Outstanding shares)/Price\n",
    "* SPP = (Total revenue 1Q/Outstanding shares)/Price\n",
    "\n",
    "Step 4: Rank CFOP & SPP, group by date\n",
    "\n",
    "Step 5: Choose stocks: 20% highest SPP & 30% highest CFOP"
   ]
  },
  {
   "cell_type": "code",
   "execution_count": null,
   "metadata": {},
   "outputs": [],
   "source": [
    "import pandas as pd\n",
    "import numpy as np\n",
    "import sqlalchemy\n",
    "from urllib.parse import urlencode\n",
    "import requests\n",
    "from requests import Response\n",
    "import datetime as dt\n",
    "from datetime import time, date, timedelta\n",
    "from dateutil.relativedelta import relativedelta\n",
    "import itertools\n",
    "from math import ceil"
   ]
  },
  {
   "cell_type": "markdown",
   "metadata": {},
   "source": [
    "## Universe: 142 most liquid HOSE stocks"
   ]
  },
  {
   "cell_type": "code",
   "execution_count": 5,
   "metadata": {},
   "outputs": [],
   "source": [
    "list_stock = ['AAA','AMD','ANV','APG','ASM','AST','BCG','BID','BMP','BWE','CCL','CII','CMG','CRE','CSV','CTD','CTF','CTG','CTI','CVT','D2D','DAG','DBC','DBD','DCL','DCM','DGW','DHC','DHG','DIG','DLG','DPG','DPM','DRC','DRH','DXG','EIB','FCN','FIR','FIT','FLC','FPT','FRT','FTS','GAS','GEG','GEX','GIL','GMD','HAG','HAI','HAX','HBC','HCM','HDB','HDC','HDG','HHS','HII','HNG','HPG','HPX','HQC','HSG','HT1','HVH','HVN','IBC','IDI','IJC','IMP','ITA','JVC','KBC','KDH','KOS','KSB','LCG','LDG','LHG','MBB','MSH','MSN','MWG','NCT','NKG','NLG','NT2','NTL','NVL','OGC','PC1','PDR','PHC','PHR','PLX','PME','PNJ','POW','PPC','PTB','PVD','PVT','REE','ROS','SAB','SAM','SBT','SCR','SHI','SKG','SMB','SSI','STB','STK','SZC','SZL','TCB','TCH','TCM','TDH','TDM','TLG','TNA','TNI','TPB','TTB','TVB','VCB','VCI','VGC','VHC','VHM','VIC','VJC','VND','VNG','VNM','VPB','VPG','VPI','VRE','VSC'\n",
    "]"
   ]
  },
  {
   "cell_type": "markdown",
   "metadata": {},
   "source": [
    "## Query financial data: 'total revenue','net cash flow from operating activities'"
   ]
  },
  {
   "cell_type": "code",
   "execution_count": 13,
   "metadata": {},
   "outputs": [],
   "source": [
    "base_url = 'http://172.31.240.7:3000/api/v1'\n",
    "login_url = base_url + '/login'\n",
    "query_url = base_url + '/queryFinancialInfo'\n",
    "\n",
    "\n",
    "def get_rest(url, body, headers=None, print_log=False):\n",
    "    if print_log:\n",
    "        print(\"GET REQUEST - url={}, parameters={}\".format(url, body))\n",
    "\n",
    "    response: Response = requests.get(url, params=body, headers=headers)\n",
    "    if response.status_code != 200:\n",
    "        print(response.text)\n",
    "        content = None\n",
    "    else:\n",
    "        try:\n",
    "            content = response.json()\n",
    "        except ValueError:\n",
    "            print(response.text)\n",
    "            content = None\n",
    "\n",
    "    if print_log:\n",
    "        print(\"{} - GET RESPONSE - url={}, data={}\".format(response.status_code, url, content))\n",
    "\n",
    "    return content\n",
    "\n",
    "\n",
    "def post_rest(url, body, headers, print_log=False, encode_require=False):\n",
    "    if print_log:\n",
    "        print(\"POST REQUEST - url={}, body={}\".format(url, body))\n",
    "    if encode_require:\n",
    "        response: Response = requests.post(url, data=urlencode(body), headers=headers)\n",
    "    else:\n",
    "        response: Response = requests.post(url, json=body, headers=headers)\n",
    "    if response.status_code != 200:\n",
    "        print(response.text)\n",
    "        content = None\n",
    "    else:\n",
    "        try:\n",
    "            content = response.json()\n",
    "        except ValueError:\n",
    "            print(response.text)\n",
    "            content = None\n",
    "    if print_log:\n",
    "        print(\"{} - POST RESPONSE - url={}, data={}\".format(response.status_code, url, content))\n",
    "\n",
    "    return content\n",
    "\n",
    "\n",
    "# Login to get acccess token\n",
    "access_token = post_rest(url=login_url, body={\n",
    "    \"grant_type\": \"password_tradex\",\n",
    "    \"client_id\": \"tradex-admin\",\n",
    "    \"client_secret\": \"tradex-admin\",\n",
    "    \"username\": \"vinh.do@techx.vn\",\n",
    "    \"password\": \"123456\",\n",
    "}, headers={\n",
    "    \"Content-Type\": \"application/x-www-form-urlencoded\"\n",
    "}, encode_require=True).get('accessToken')\n",
    "\n",
    "\n",
    "def query_financial_data(list_stock=[], year='', quarter='', type=''): # year and quarter is string\n",
    "    query_content = {\"code\": list_stock,\n",
    "                     \"year\": year,\n",
    "                     \"quarter\": quarter,\n",
    "                     \"type\": type\n",
    "                     }\n",
    "    data = get_rest(query_url, body=query_content, headers={\n",
    "        'Authorization': 'jwt {}'.format(access_token),\n",
    "    })\n",
    "    data = pd.DataFrame(data)\n",
    "    try:\n",
    "        data = pd.melt(data, id_vars = ['code', 'quarter', 'year'], value_vars=[type])\n",
    "        return data\n",
    "    except:\n",
    "        return data\n",
    "def fin_data(factor, peers):\n",
    "    # these keywords are for type of financial data we need\n",
    "    query_keyword = factor # query_keyword = ['net profit after tax']\n",
    "    result1=pd.DataFrame() \n",
    "    list_stock = peers # list_stock = ['TCM','TNG','MSH','VGT','GIL','VGG']\n",
    "    for m in query_keyword:\n",
    "        print(m)\n",
    "        result = pd.DataFrame()\n",
    "        for j in range (2019, 2022):\n",
    "            for i in range(1,5):\n",
    "                example = query_financial_data(peers, year = str(j), quarter = str(i),\n",
    "                               type=m)\n",
    "                result = pd.concat([result,example])\n",
    "        result = pd.DataFrame(result)\n",
    "        print('Done: Keyword')\n",
    "        result = result.rename(columns={'value':m})\n",
    "        result = result.drop(columns='variable')\n",
    "        result['id'] = result['code']+result['year'] + result['quarter']\n",
    "        if result1.empty:\n",
    "            result1  = result\n",
    "        else:\n",
    "            result1 = pd.merge(result1, result, on = ['id','quarter','year','code'], how = 'left')\n",
    "        print('Financial Data: Done')\n",
    "    result1 = result1.sort_values(by='id')\n",
    "    return result1"
   ]
  },
  {
   "cell_type": "markdown",
   "metadata": {},
   "source": [
    "## Query price data: Close, Outstanding shares, Date, Month"
   ]
  },
  {
   "cell_type": "code",
   "execution_count": 14,
   "metadata": {},
   "outputs": [],
   "source": [
    "    user = 'admin'\n",
    "    pwd = 'mB17VfhA9gBaWXFaaYSFda2La4ULD12DaZTapt'\n",
    "    host = 'vinance-prod.coo1pelwmlwz.ap-southeast-1.rds.amazonaws.com'\n",
    "    port = '3306'\n",
    "    db = 'vinance'\n",
    "    db_engine = sqlalchemy.engine.create_engine(\n",
    "        'mysql://{0}:{1}@{2}:{3}/{4}'.format(user, pwd, host, port, db))\n",
    "    cursor = db_engine.connect()\n",
    "    query_string = \"SELECT id, code, date, close, oi FROM price where code in {} and date > '2020-10-31' \"\n",
    "    price = pd.read_sql_query(query_string.format(tuple(list_stock)), cursor)\n",
    "    price = price.sort_values(by=['code', 'date'])\n",
    "    print('Price Query: Done')\n",
    "    cursor.close()\n",
    "\n",
    "    price.date=price.date.apply(lambda x: str(x))\n",
    "    price=price.loc[price['date']!='2018-01-24']\n",
    "    price=price.loc[price['date']!='2018-01-23']\n",
    "    price=price.fillna(method='ffill')\n",
    "    price_fil = price.dropna()\n",
    "    price_fil['date'] = pd.to_datetime(price_fil['date'])\n",
    "    price_fil['query'] = (price_fil['date'].dt.date - relativedelta(months=4)).apply(lambda x: str(x.year) + str(ceil(x.month/3))) \n",
    "    price_fil['id'] = price_fil['code'] + price_fil['query']\n",
    "    price_fil['month']=price_fil['date'].dt.month\n",
    "    price_fil.loc[(price_fil['code']==price_fil['code'].shift(1))&(price_fil['month']!=price_fil['month'].shift(1)),'month_fil'] = 1\n",
    "    price_fil.loc[price_fil['date']==date,'month_fil'] = 1 #change date to yesterday\n",
    "    price_fil = price_fil.dropna()\n",
    "    price_fil = price_fil.drop(columns = ['month','month_fil'])"
   ]
  },
  {
   "cell_type": "markdown",
   "metadata": {},
   "source": [
    "## Calculate Sales per share to price, CFO per share to price"
   ]
  },
  {
   "cell_type": "code",
   "execution_count": null,
   "metadata": {},
   "outputs": [],
   "source": [
    "data1 = fin_data(['revenue',  'net cash flow from operating activities'], list_stock)\n",
    "data = pd.merge(price_fil, data1, on=['id','code'], how='left')\n",
    "data['revp'] = (data['revenue']/data['oi'])/(data['close']*1000)\n",
    "data['cfop'] = (data['net cash flow from operating activities']/data['oi'])/(data['close']*1000)"
   ]
  },
  {
   "cell_type": "markdown",
   "metadata": {},
   "source": [
    "## Exclude Financial Institution, Rank SPP, CFOP "
   ]
  },
  {
   "cell_type": "code",
   "execution_count": null,
   "metadata": {},
   "outputs": [],
   "source": [
    "fin_stock = ['APG','BID','CTG','EIB','FTS','HCM','HDB','MBB','REE','SSI','STB','TCB','TPB','VCB','VCI','VPB']  \n",
    "data.loc[data['code'].apply(lambda x: x in set(fin_stock)),'revp'] = np.nan\n",
    "data['revp_rank'] = data.groupby(['date'])['revp'].rank(ascending=False, na_option='bottom')\n",
    "data['cfop_rank'] = data.groupby(['date'])['cfop'].rank(ascending=False, na_option='bottom')\n",
    "data['revp_max'] = data.groupby(['date'])['revp_rank'].transform(max)\n",
    "data['cfop_max'] = data.groupby(['date'])['cfop_rank'].transform(max)"
   ]
  },
  {
   "cell_type": "markdown",
   "metadata": {},
   "source": [
    "## Choose stocks: 20% highest SPP & 30% highest CFOP"
   ]
  },
  {
   "cell_type": "code",
   "execution_count": null,
   "metadata": {},
   "outputs": [],
   "source": [
    "data.loc[(data['revp_rank'] < 0.2*data['revp_max'])&(data['cfop_rank'] < 0.3*data['cfop_max']),'choose'] = 1\n",
    "data.loc[data['choose']==1,'return'] = data['close'].shift(-1)/data['close']-1\n",
    "choose = data[(data['choose']==1)]\n",
    "choose = pd.pivot_table(choose, values = 'return', index = ['date'], columns = 'code')"
   ]
  },
  {
   "cell_type": "markdown",
   "metadata": {},
   "source": [
    "## Change date to the beginning date of the month"
   ]
  },
  {
   "cell_type": "code",
   "execution_count": 15,
   "metadata": {},
   "outputs": [
    {
     "name": "stdout",
     "output_type": "stream",
     "text": [
      "Price Query: Done\n",
      "revenue\n",
      "Done: Keyword\n",
      "Financial Data: Done\n",
      "net cash flow from operating activities\n",
      "Done: Keyword\n",
      "Financial Data: Done\n"
     ]
    },
    {
     "data": {
      "text/plain": [
       "code\n",
       "ASM    3.144487\n",
       "CTD   -0.735714\n",
       "DBC   -0.283829\n",
       "GIL   -0.573991\n",
       "HBC    0.759851\n",
       "HII   -0.064516\n",
       "HT1   -0.478981\n",
       "IDI    1.241908\n",
       "LCG   -0.472289\n",
       "MWG   -0.622832\n",
       "VPG   -0.304211\n",
       "Name: 2021-08-02 00:00:00, dtype: float64"
      ]
     },
     "execution_count": 15,
     "metadata": {},
     "output_type": "execute_result"
    }
   ],
   "source": [
    "choose = choose_stock('2021-08-02')\n",
    "choose.iloc[-1,:].dropna()"
   ]
  },
  {
   "cell_type": "markdown",
   "metadata": {},
   "source": [
    "## Backtest"
   ]
  },
  {
   "cell_type": "code",
   "execution_count": null,
   "metadata": {},
   "outputs": [],
   "source": [
    "choose = choose.reset_index()\n",
    "day_return = choose.copy(deep= True)\n",
    "day_return['count'] = day_return.iloc[:,1:len(choose.columns.to_list())].count(axis = 1) #exclude date column\n",
    "day_return.loc[day_return['count']<5,'profit'] = day_return.iloc[:,1:len(choose.columns.to_list())].mean(axis = 1,skipna=True)*(day_return['count']/5)\n",
    "day_return.loc[day_return['count']==0,'profit'] = 0\n",
    "day_return.loc[day_return['count']>=5,'profit'] = day_return.iloc[:,1:len(choose.columns.to_list())].mean(axis = 1,skipna=True)\n",
    "day_return['cumulative'] = (day_return['profit'] +1).cumprod()\n",
    "profit = day_return['cumulative'][:len(day_return['cumulative'])-1].tolist()\n",
    "import plotly.graph_objects as go\n",
    "fig = go.Figure()\n",
    "fig.add_trace(go.Scatter(x=day_return['date'].tolist(), y=profit,\n",
    "                                 mode='lines',\n",
    "                                 name='cumulative'))\n",
    "# fig.add_trace(go.Scatter(x=re_turn['date_x'].tolist(), y=ind.tolist(),\n",
    "#                                  mode='lines',\n",
    "#                                  name='benchmark'))\n",
    "fig.show()        "
   ]
  }
 ],
 "metadata": {
  "kernelspec": {
   "display_name": "Python 3",
   "language": "python",
   "name": "python3"
  },
  "language_info": {
   "codemirror_mode": {
    "name": "ipython",
    "version": 3
   },
   "file_extension": ".py",
   "mimetype": "text/x-python",
   "name": "python",
   "nbconvert_exporter": "python",
   "pygments_lexer": "ipython3",
   "version": "3.8.8"
  }
 },
 "nbformat": 4,
 "nbformat_minor": 4
}
