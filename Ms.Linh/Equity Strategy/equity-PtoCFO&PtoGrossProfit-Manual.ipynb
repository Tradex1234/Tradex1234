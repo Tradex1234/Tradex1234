{
 "cells": [
  {
   "cell_type": "markdown",
   "metadata": {},
   "source": [
    "Universe: 142 most liquid HOSE stocks\n",
    "\n",
    "Quarterly Rebalancing: First day of month: January, April, July, October\n",
    "\n",
    "Input Data: \n",
    "* Financial Data: Gross profit 1Q,  Net cash flow from operating activities trailing 4Q\n",
    "* Price Data: Close, Outstanding shares\n",
    "\n",
    "Step 1: Choose months in quarter for rebalancing\n",
    "\n",
    "Step 2: Calculate CFO per share to price, Gross profit per share to price\n",
    "* CFOP = (Net cash flow from operating activities trailing 4Q/Outstanding shares)/Price\n",
    "* GPP = (Gross profit 1Q/Outstanding shares)/Price\n",
    "\n",
    "Step 4: Rank CFOP & GPP, group by date\n",
    "\n",
    "Step 5: Choose stocks: 20% highest GPP & 30% highest CFOP"
   ]
  },
  {
   "cell_type": "code",
   "execution_count": 1,
   "metadata": {},
   "outputs": [],
   "source": [
    "import pandas as pd\n",
    "import numpy as np\n",
    "import sqlalchemy\n",
    "from urllib.parse import urlencode\n",
    "import requests\n",
    "from requests import Response\n",
    "import datetime as dt\n",
    "from datetime import time, date, timedelta\n",
    "from dateutil.relativedelta import relativedelta\n",
    "import itertools\n",
    "from math import ceil"
   ]
  },
  {
   "cell_type": "markdown",
   "metadata": {},
   "source": [
    "## Universe: 142 most liquid HOSE stocks"
   ]
  },
  {
   "cell_type": "code",
   "execution_count": 2,
   "metadata": {},
   "outputs": [],
   "source": [
    "list_stock = ['AAA','AMD','ANV','APG','ASM','AST','BCG','BID','BMP','BWE','CCL','CII','CMG','CRE','CSV','CTD','CTF','CTG','CTI','CVT','D2D','DAG','DBC','DBD','DCL','DCM','DGW','DHC','DHG','DIG','DLG','DPG','DPM','DRC','DRH','DXG','EIB','FCN','FIR','FIT','FLC','FPT','FRT','FTS','GAS','GEG','GEX','GIL','GMD','HAG','HAI','HAX','HBC','HCM','HDB','HDC','HDG','HHS','HII','HNG','HPG','HPX','HQC','HSG','HT1','HVH','HVN','IBC','IDI','IJC','IMP','ITA','JVC','KBC','KDH','KOS','KSB','LCG','LDG','LHG','MBB','MSH','MSN','MWG','NCT','NKG','NLG','NT2','NTL','NVL','OGC','PC1','PDR','PHC','PHR','PLX','PME','PNJ','POW','PPC','PTB','PVD','PVT','REE','ROS','SAB','SAM','SBT','SCR','SHI','SKG','SMB','SSI','STB','STK','SZC','SZL','TCB','TCH','TCM','TDH','TDM','TLG','TNA','TNI','TPB','TTB','TVB','VCB','VCI','VGC','VHC','VHM','VIC','VJC','VND','VNG','VNM','VPB','VPG','VPI','VRE','VSC'\n",
    "]"
   ]
  },
  {
   "cell_type": "markdown",
   "metadata": {},
   "source": [
    "## Query financial data: 'total equity','net profit after tax', 'total liabilities'"
   ]
  },
  {
   "cell_type": "code",
   "execution_count": 3,
   "metadata": {},
   "outputs": [],
   "source": [
    "base_url = 'http://172.31.240.7:3000/api/v1'\n",
    "login_url = base_url + '/login'\n",
    "query_url = base_url + '/queryFinancialInfo'\n",
    "\n",
    "\n",
    "def get_rest(url, body, headers=None, print_log=False):\n",
    "    if print_log:\n",
    "        print(\"GET REQUEST - url={}, parameters={}\".format(url, body))\n",
    "\n",
    "    response: Response = requests.get(url, params=body, headers=headers)\n",
    "    if response.status_code != 200:\n",
    "        print(response.text)\n",
    "        content = None\n",
    "    else:\n",
    "        try:\n",
    "            content = response.json()\n",
    "        except ValueError:\n",
    "            print(response.text)\n",
    "            content = None\n",
    "\n",
    "    if print_log:\n",
    "        print(\"{} - GET RESPONSE - url={}, data={}\".format(response.status_code, url, content))\n",
    "\n",
    "    return content\n",
    "\n",
    "\n",
    "def post_rest(url, body, headers, print_log=False, encode_require=False):\n",
    "    if print_log:\n",
    "        print(\"POST REQUEST - url={}, body={}\".format(url, body))\n",
    "    if encode_require:\n",
    "        response: Response = requests.post(url, data=urlencode(body), headers=headers)\n",
    "    else:\n",
    "        response: Response = requests.post(url, json=body, headers=headers)\n",
    "    if response.status_code != 200:\n",
    "        print(response.text)\n",
    "        content = None\n",
    "    else:\n",
    "        try:\n",
    "            content = response.json()\n",
    "        except ValueError:\n",
    "            print(response.text)\n",
    "            content = None\n",
    "    if print_log:\n",
    "        print(\"{} - POST RESPONSE - url={}, data={}\".format(response.status_code, url, content))\n",
    "\n",
    "    return content\n",
    "\n",
    "\n",
    "# Login to get acccess token\n",
    "access_token = post_rest(url=login_url, body={\n",
    "    \"grant_type\": \"password_tradex\",\n",
    "    \"client_id\": \"tradex-admin\",\n",
    "    \"client_secret\": \"tradex-admin\",\n",
    "    \"username\": \"vinh.do@techx.vn\",\n",
    "    \"password\": \"123456\",\n",
    "}, headers={\n",
    "    \"Content-Type\": \"application/x-www-form-urlencoded\"\n",
    "}, encode_require=True).get('accessToken')\n",
    "\n",
    "\n",
    "def query_financial_data(list_stock=[], year='', quarter='', type=''): # year and quarter is string\n",
    "    query_content = {\"code\": list_stock,\n",
    "                     \"year\": year,\n",
    "                     \"quarter\": quarter,\n",
    "                     \"type\": type\n",
    "                     }\n",
    "    data = get_rest(query_url, body=query_content, headers={\n",
    "        'Authorization': 'jwt {}'.format(access_token),\n",
    "    })\n",
    "    data = pd.DataFrame(data)\n",
    "    try:\n",
    "        data = pd.melt(data, id_vars = ['code', 'quarter', 'year'], value_vars=[type])\n",
    "        return data\n",
    "    except:\n",
    "        return data\n",
    "def fin_data(factor, peers):\n",
    "    # these keywords are for type of financial data we need\n",
    "    query_keyword = factor # query_keyword = ['net profit after tax']\n",
    "    result1=pd.DataFrame() \n",
    "    list_stock = peers # list_stock = ['TCM','TNG','MSH','VGT','GIL','VGG']\n",
    "    for m in query_keyword:\n",
    "        print(m)\n",
    "        result = pd.DataFrame()\n",
    "        for j in range (2019, 2022):\n",
    "            for i in range(1,5):\n",
    "                example = query_financial_data(peers, year = str(j), quarter = str(i),\n",
    "                               type=m)\n",
    "                result = pd.concat([result,example])\n",
    "        result = pd.DataFrame(result)\n",
    "        print('Done: Keyword')\n",
    "        result = result.rename(columns={'value':m})\n",
    "        result = result.drop(columns='variable')\n",
    "        result['id'] = result['code']+result['year'] + result['quarter']\n",
    "        if result1.empty:\n",
    "            result1  = result\n",
    "        else:\n",
    "            result1 = pd.merge(result1, result, on = ['id','quarter','year','code'], how = 'left')\n",
    "        print('Financial Data: Done')\n",
    "    return result1"
   ]
  },
  {
   "cell_type": "markdown",
   "metadata": {},
   "source": [
    "## Query price data: Close, Outstanding shares, Date, Month"
   ]
  },
  {
   "cell_type": "code",
   "execution_count": 4,
   "metadata": {},
   "outputs": [],
   "source": [
    "user = 'admin'\n",
    "pwd = 'mB17VfhA9gBaWXFaaYSFda2La4ULD12DaZTapt'\n",
    "host = 'vinance-prod.coo1pelwmlwz.ap-southeast-1.rds.amazonaws.com'\n",
    "port = '3306'\n",
    "db = 'vinance'\n",
    "db_engine = sqlalchemy.engine.create_engine(\n",
    "    'mysql://{0}:{1}@{2}:{3}/{4}'.format(user, pwd, host, port, db))\n",
    "cursor = db_engine.connect()\n",
    "query_string = \"SELECT id, code, date, close, oi FROM price where code in {} and date > '2018-10-31' \"\n",
    "price = pd.read_sql_query(query_string.format(tuple(list_stock)), cursor)\n",
    "price = price.sort_values(by=['code', 'date'])\n",
    "cursor.close()\n",
    "\n",
    "price.date=price.date.apply(lambda x: str(x))\n",
    "price=price.loc[price['date']!='2018-01-24']\n",
    "price=price.loc[price['date']!='2018-01-23']\n",
    "price=price.fillna(method='ffill')\n",
    "price_fil = price.dropna()"
   ]
  },
  {
   "cell_type": "markdown",
   "metadata": {},
   "source": [
    "## Choose months in quarter to rebalance"
   ]
  },
  {
   "cell_type": "code",
   "execution_count": 5,
   "metadata": {},
   "outputs": [],
   "source": [
    "price_fil['date'] = pd.to_datetime(price_fil['date'])\n",
    "price_fil['query'] = (price_fil['date'].dt.date - relativedelta(months=4)).apply(lambda x: str(x.year) + str(ceil(x.month/3))) \n",
    "price_fil['id'] = price_fil['code'] + price_fil['query']\n",
    "price_fil['month']=price_fil['date'].dt.month\n",
    "list_month = [4,7,10,1]  \n",
    "price_fil.loc[(price_fil['code']==price_fil['code'].shift(1))&(price_fil['month']!=price_fil['month'].shift(1))&(price_fil['month'].apply(lambda x: x in set(list_month))),'q_fil'] = 1\n",
    "price_fil.loc[price_fil['date']==date,'q_fil'] = 1  #change date to yesterday\n",
    "price_fil = price_fil.dropna()\n",
    "price_fil = price_fil.drop(columns = ['month','q_fil'])"
   ]
  },
  {
   "cell_type": "markdown",
   "metadata": {},
   "source": [
    "## Calculate CFO per share to price, Gross profit per share to price"
   ]
  },
  {
   "cell_type": "code",
   "execution_count": 6,
   "metadata": {},
   "outputs": [
    {
     "name": "stdout",
     "output_type": "stream",
     "text": [
      "gross profit\n",
      "Done: Keyword\n",
      "Financial Data: Done\n",
      "net cash flow from operating activities\n",
      "Done: Keyword\n",
      "Financial Data: Done\n"
     ]
    }
   ],
   "source": [
    "data1 = fin_data(['gross profit',  'net cash flow from operating activities'], list_stock)\n",
    "data = pd.merge(price_fil, data1, on=['id','code'], how='left')\n",
    "data['gpp'] = (data['gross profit']/data['oi'])/(data['close']*1000)\n",
    "data.loc[data['code']==data['code'].shift(3), 'cfo'] = data['net cash flow from operating activities'].rolling(4).sum()\n",
    "data['cfop'] = (data['cfo']/data['oi'])/(data['close']*1000)"
   ]
  },
  {
   "cell_type": "markdown",
   "metadata": {},
   "source": [
    "## Exclude Financial Institution, Rank GPP, CFOP "
   ]
  },
  {
   "cell_type": "code",
   "execution_count": 7,
   "metadata": {},
   "outputs": [
    {
     "ename": "KeyError",
     "evalue": "'code_x'",
     "output_type": "error",
     "traceback": [
      "\u001b[1;31m---------------------------------------------------------------------------\u001b[0m",
      "\u001b[1;31mKeyError\u001b[0m                                  Traceback (most recent call last)",
      "\u001b[1;32m~\\AppData\\Local\\Packages\\PythonSoftwareFoundation.Python.3.9_qbz5n2kfra8p0\\LocalCache\\local-packages\\Python39\\site-packages\\pandas\\core\\indexes\\base.py\u001b[0m in \u001b[0;36mget_loc\u001b[1;34m(self, key, method, tolerance)\u001b[0m\n\u001b[0;32m   3360\u001b[0m             \u001b[1;32mtry\u001b[0m\u001b[1;33m:\u001b[0m\u001b[1;33m\u001b[0m\u001b[1;33m\u001b[0m\u001b[0m\n\u001b[1;32m-> 3361\u001b[1;33m                 \u001b[1;32mreturn\u001b[0m \u001b[0mself\u001b[0m\u001b[1;33m.\u001b[0m\u001b[0m_engine\u001b[0m\u001b[1;33m.\u001b[0m\u001b[0mget_loc\u001b[0m\u001b[1;33m(\u001b[0m\u001b[0mcasted_key\u001b[0m\u001b[1;33m)\u001b[0m\u001b[1;33m\u001b[0m\u001b[1;33m\u001b[0m\u001b[0m\n\u001b[0m\u001b[0;32m   3362\u001b[0m             \u001b[1;32mexcept\u001b[0m \u001b[0mKeyError\u001b[0m \u001b[1;32mas\u001b[0m \u001b[0merr\u001b[0m\u001b[1;33m:\u001b[0m\u001b[1;33m\u001b[0m\u001b[1;33m\u001b[0m\u001b[0m\n",
      "\u001b[1;32m~\\AppData\\Local\\Packages\\PythonSoftwareFoundation.Python.3.9_qbz5n2kfra8p0\\LocalCache\\local-packages\\Python39\\site-packages\\pandas\\_libs\\index.pyx\u001b[0m in \u001b[0;36mpandas._libs.index.IndexEngine.get_loc\u001b[1;34m()\u001b[0m\n",
      "\u001b[1;32m~\\AppData\\Local\\Packages\\PythonSoftwareFoundation.Python.3.9_qbz5n2kfra8p0\\LocalCache\\local-packages\\Python39\\site-packages\\pandas\\_libs\\index.pyx\u001b[0m in \u001b[0;36mpandas._libs.index.IndexEngine.get_loc\u001b[1;34m()\u001b[0m\n",
      "\u001b[1;32mpandas\\_libs\\hashtable_class_helper.pxi\u001b[0m in \u001b[0;36mpandas._libs.hashtable.PyObjectHashTable.get_item\u001b[1;34m()\u001b[0m\n",
      "\u001b[1;32mpandas\\_libs\\hashtable_class_helper.pxi\u001b[0m in \u001b[0;36mpandas._libs.hashtable.PyObjectHashTable.get_item\u001b[1;34m()\u001b[0m\n",
      "\u001b[1;31mKeyError\u001b[0m: 'code_x'",
      "\nThe above exception was the direct cause of the following exception:\n",
      "\u001b[1;31mKeyError\u001b[0m                                  Traceback (most recent call last)",
      "\u001b[1;32mC:\\Users\\STACKJ~1\\AppData\\Local\\Temp/ipykernel_16748/1405643107.py\u001b[0m in \u001b[0;36m<module>\u001b[1;34m\u001b[0m\n\u001b[0;32m      1\u001b[0m \u001b[0mfin_stock\u001b[0m \u001b[1;33m=\u001b[0m \u001b[1;33m[\u001b[0m\u001b[1;34m'APG'\u001b[0m\u001b[1;33m,\u001b[0m\u001b[1;34m'BID'\u001b[0m\u001b[1;33m,\u001b[0m\u001b[1;34m'CTG'\u001b[0m\u001b[1;33m,\u001b[0m\u001b[1;34m'EIB'\u001b[0m\u001b[1;33m,\u001b[0m\u001b[1;34m'FTS'\u001b[0m\u001b[1;33m,\u001b[0m\u001b[1;34m'HCM'\u001b[0m\u001b[1;33m,\u001b[0m\u001b[1;34m'HDB'\u001b[0m\u001b[1;33m,\u001b[0m\u001b[1;34m'MBB'\u001b[0m\u001b[1;33m,\u001b[0m\u001b[1;34m'REE'\u001b[0m\u001b[1;33m,\u001b[0m\u001b[1;34m'SSI'\u001b[0m\u001b[1;33m,\u001b[0m\u001b[1;34m'STB'\u001b[0m\u001b[1;33m,\u001b[0m\u001b[1;34m'TCB'\u001b[0m\u001b[1;33m,\u001b[0m\u001b[1;34m'TPB'\u001b[0m\u001b[1;33m,\u001b[0m\u001b[1;34m'VCB'\u001b[0m\u001b[1;33m,\u001b[0m\u001b[1;34m'VCI'\u001b[0m\u001b[1;33m,\u001b[0m\u001b[1;34m'VPB'\u001b[0m\u001b[1;33m]\u001b[0m\u001b[1;33m\u001b[0m\u001b[1;33m\u001b[0m\u001b[0m\n\u001b[1;32m----> 2\u001b[1;33m \u001b[0mdata\u001b[0m\u001b[1;33m.\u001b[0m\u001b[0mloc\u001b[0m\u001b[1;33m[\u001b[0m\u001b[0mdata\u001b[0m\u001b[1;33m[\u001b[0m\u001b[1;34m'code_x'\u001b[0m\u001b[1;33m]\u001b[0m\u001b[1;33m.\u001b[0m\u001b[0mapply\u001b[0m\u001b[1;33m(\u001b[0m\u001b[1;32mlambda\u001b[0m \u001b[0mx\u001b[0m\u001b[1;33m:\u001b[0m \u001b[0mx\u001b[0m \u001b[1;32min\u001b[0m \u001b[0mset\u001b[0m\u001b[1;33m(\u001b[0m\u001b[0mfin_stock\u001b[0m\u001b[1;33m)\u001b[0m\u001b[1;33m)\u001b[0m\u001b[1;33m,\u001b[0m\u001b[1;34m'gpp'\u001b[0m\u001b[1;33m]\u001b[0m \u001b[1;33m=\u001b[0m \u001b[0mnp\u001b[0m\u001b[1;33m.\u001b[0m\u001b[0mnan\u001b[0m\u001b[1;33m\u001b[0m\u001b[1;33m\u001b[0m\u001b[0m\n\u001b[0m\u001b[0;32m      3\u001b[0m \u001b[0mdata\u001b[0m\u001b[1;33m.\u001b[0m\u001b[0mloc\u001b[0m\u001b[1;33m[\u001b[0m\u001b[0mdata\u001b[0m\u001b[1;33m[\u001b[0m\u001b[1;34m'code_x'\u001b[0m\u001b[1;33m]\u001b[0m\u001b[1;33m.\u001b[0m\u001b[0mapply\u001b[0m\u001b[1;33m(\u001b[0m\u001b[1;32mlambda\u001b[0m \u001b[0mx\u001b[0m\u001b[1;33m:\u001b[0m \u001b[0mx\u001b[0m \u001b[1;32min\u001b[0m \u001b[0mset\u001b[0m\u001b[1;33m(\u001b[0m\u001b[0mfin_stock\u001b[0m\u001b[1;33m)\u001b[0m\u001b[1;33m)\u001b[0m\u001b[1;33m,\u001b[0m\u001b[1;34m'cfop'\u001b[0m\u001b[1;33m]\u001b[0m \u001b[1;33m=\u001b[0m \u001b[0mnp\u001b[0m\u001b[1;33m.\u001b[0m\u001b[0mnan\u001b[0m\u001b[1;33m\u001b[0m\u001b[1;33m\u001b[0m\u001b[0m\n\u001b[0;32m      4\u001b[0m \u001b[0mdata\u001b[0m\u001b[1;33m[\u001b[0m\u001b[1;34m'gpp_rank'\u001b[0m\u001b[1;33m]\u001b[0m \u001b[1;33m=\u001b[0m \u001b[0mdata\u001b[0m\u001b[1;33m.\u001b[0m\u001b[0mgroupby\u001b[0m\u001b[1;33m(\u001b[0m\u001b[1;33m[\u001b[0m\u001b[1;34m'date'\u001b[0m\u001b[1;33m]\u001b[0m\u001b[1;33m)\u001b[0m\u001b[1;33m[\u001b[0m\u001b[1;34m'gpp'\u001b[0m\u001b[1;33m]\u001b[0m\u001b[1;33m.\u001b[0m\u001b[0mrank\u001b[0m\u001b[1;33m(\u001b[0m\u001b[0mascending\u001b[0m\u001b[1;33m=\u001b[0m\u001b[1;32mFalse\u001b[0m\u001b[1;33m,\u001b[0m \u001b[0mna_option\u001b[0m\u001b[1;33m=\u001b[0m\u001b[1;34m'bottom'\u001b[0m\u001b[1;33m)\u001b[0m\u001b[1;33m\u001b[0m\u001b[1;33m\u001b[0m\u001b[0m\n\u001b[0;32m      5\u001b[0m \u001b[0mdata\u001b[0m\u001b[1;33m[\u001b[0m\u001b[1;34m'cfop_rank'\u001b[0m\u001b[1;33m]\u001b[0m \u001b[1;33m=\u001b[0m \u001b[0mdata\u001b[0m\u001b[1;33m.\u001b[0m\u001b[0mgroupby\u001b[0m\u001b[1;33m(\u001b[0m\u001b[1;33m[\u001b[0m\u001b[1;34m'date'\u001b[0m\u001b[1;33m]\u001b[0m\u001b[1;33m)\u001b[0m\u001b[1;33m[\u001b[0m\u001b[1;34m'cfop'\u001b[0m\u001b[1;33m]\u001b[0m\u001b[1;33m.\u001b[0m\u001b[0mrank\u001b[0m\u001b[1;33m(\u001b[0m\u001b[0mascending\u001b[0m\u001b[1;33m=\u001b[0m\u001b[1;32mFalse\u001b[0m\u001b[1;33m,\u001b[0m \u001b[0mna_option\u001b[0m\u001b[1;33m=\u001b[0m\u001b[1;34m'bottom'\u001b[0m\u001b[1;33m)\u001b[0m\u001b[1;33m\u001b[0m\u001b[1;33m\u001b[0m\u001b[0m\n",
      "\u001b[1;32m~\\AppData\\Local\\Packages\\PythonSoftwareFoundation.Python.3.9_qbz5n2kfra8p0\\LocalCache\\local-packages\\Python39\\site-packages\\pandas\\core\\frame.py\u001b[0m in \u001b[0;36m__getitem__\u001b[1;34m(self, key)\u001b[0m\n\u001b[0;32m   3453\u001b[0m             \u001b[1;32mif\u001b[0m \u001b[0mself\u001b[0m\u001b[1;33m.\u001b[0m\u001b[0mcolumns\u001b[0m\u001b[1;33m.\u001b[0m\u001b[0mnlevels\u001b[0m \u001b[1;33m>\u001b[0m \u001b[1;36m1\u001b[0m\u001b[1;33m:\u001b[0m\u001b[1;33m\u001b[0m\u001b[1;33m\u001b[0m\u001b[0m\n\u001b[0;32m   3454\u001b[0m                 \u001b[1;32mreturn\u001b[0m \u001b[0mself\u001b[0m\u001b[1;33m.\u001b[0m\u001b[0m_getitem_multilevel\u001b[0m\u001b[1;33m(\u001b[0m\u001b[0mkey\u001b[0m\u001b[1;33m)\u001b[0m\u001b[1;33m\u001b[0m\u001b[1;33m\u001b[0m\u001b[0m\n\u001b[1;32m-> 3455\u001b[1;33m             \u001b[0mindexer\u001b[0m \u001b[1;33m=\u001b[0m \u001b[0mself\u001b[0m\u001b[1;33m.\u001b[0m\u001b[0mcolumns\u001b[0m\u001b[1;33m.\u001b[0m\u001b[0mget_loc\u001b[0m\u001b[1;33m(\u001b[0m\u001b[0mkey\u001b[0m\u001b[1;33m)\u001b[0m\u001b[1;33m\u001b[0m\u001b[1;33m\u001b[0m\u001b[0m\n\u001b[0m\u001b[0;32m   3456\u001b[0m             \u001b[1;32mif\u001b[0m \u001b[0mis_integer\u001b[0m\u001b[1;33m(\u001b[0m\u001b[0mindexer\u001b[0m\u001b[1;33m)\u001b[0m\u001b[1;33m:\u001b[0m\u001b[1;33m\u001b[0m\u001b[1;33m\u001b[0m\u001b[0m\n\u001b[0;32m   3457\u001b[0m                 \u001b[0mindexer\u001b[0m \u001b[1;33m=\u001b[0m \u001b[1;33m[\u001b[0m\u001b[0mindexer\u001b[0m\u001b[1;33m]\u001b[0m\u001b[1;33m\u001b[0m\u001b[1;33m\u001b[0m\u001b[0m\n",
      "\u001b[1;32m~\\AppData\\Local\\Packages\\PythonSoftwareFoundation.Python.3.9_qbz5n2kfra8p0\\LocalCache\\local-packages\\Python39\\site-packages\\pandas\\core\\indexes\\base.py\u001b[0m in \u001b[0;36mget_loc\u001b[1;34m(self, key, method, tolerance)\u001b[0m\n\u001b[0;32m   3361\u001b[0m                 \u001b[1;32mreturn\u001b[0m \u001b[0mself\u001b[0m\u001b[1;33m.\u001b[0m\u001b[0m_engine\u001b[0m\u001b[1;33m.\u001b[0m\u001b[0mget_loc\u001b[0m\u001b[1;33m(\u001b[0m\u001b[0mcasted_key\u001b[0m\u001b[1;33m)\u001b[0m\u001b[1;33m\u001b[0m\u001b[1;33m\u001b[0m\u001b[0m\n\u001b[0;32m   3362\u001b[0m             \u001b[1;32mexcept\u001b[0m \u001b[0mKeyError\u001b[0m \u001b[1;32mas\u001b[0m \u001b[0merr\u001b[0m\u001b[1;33m:\u001b[0m\u001b[1;33m\u001b[0m\u001b[1;33m\u001b[0m\u001b[0m\n\u001b[1;32m-> 3363\u001b[1;33m                 \u001b[1;32mraise\u001b[0m \u001b[0mKeyError\u001b[0m\u001b[1;33m(\u001b[0m\u001b[0mkey\u001b[0m\u001b[1;33m)\u001b[0m \u001b[1;32mfrom\u001b[0m \u001b[0merr\u001b[0m\u001b[1;33m\u001b[0m\u001b[1;33m\u001b[0m\u001b[0m\n\u001b[0m\u001b[0;32m   3364\u001b[0m \u001b[1;33m\u001b[0m\u001b[0m\n\u001b[0;32m   3365\u001b[0m         \u001b[1;32mif\u001b[0m \u001b[0mis_scalar\u001b[0m\u001b[1;33m(\u001b[0m\u001b[0mkey\u001b[0m\u001b[1;33m)\u001b[0m \u001b[1;32mand\u001b[0m \u001b[0misna\u001b[0m\u001b[1;33m(\u001b[0m\u001b[0mkey\u001b[0m\u001b[1;33m)\u001b[0m \u001b[1;32mand\u001b[0m \u001b[1;32mnot\u001b[0m \u001b[0mself\u001b[0m\u001b[1;33m.\u001b[0m\u001b[0mhasnans\u001b[0m\u001b[1;33m:\u001b[0m\u001b[1;33m\u001b[0m\u001b[1;33m\u001b[0m\u001b[0m\n",
      "\u001b[1;31mKeyError\u001b[0m: 'code_x'"
     ]
    }
   ],
   "source": [
    "fin_stock = ['APG','BID','CTG','EIB','FTS','HCM','HDB','MBB','REE','SSI','STB','TCB','TPB','VCB','VCI','VPB']  \n",
    "data.loc[data['code_x'].apply(lambda x: x in set(fin_stock)),'gpp'] = np.nan\n",
    "data.loc[data['code_x'].apply(lambda x: x in set(fin_stock)),'cfop'] = np.nan\n",
    "data['gpp_rank'] = data.groupby(['date'])['gpp'].rank(ascending=False, na_option='bottom')\n",
    "data['cfop_rank'] = data.groupby(['date'])['cfop'].rank(ascending=False, na_option='bottom')\n",
    "data['gpp_max'] = data.groupby(['date'])['gpp_rank'].transform(max)\n",
    "data['cfop_max'] = data.groupby(['date'])['cfop_rank'].transform(max)"
   ]
  },
  {
   "cell_type": "markdown",
   "metadata": {},
   "source": [
    "## Choose stocks: 20% highest GPP & 30% highest CFOP"
   ]
  },
  {
   "cell_type": "code",
   "execution_count": null,
   "metadata": {},
   "outputs": [],
   "source": [
    "data.loc[(data['gpp_rank'] < 0.2*data['gpp_max'])&(data['cfop_rank'] < 0.3*data['cfop_max']),'choose'] = 1\n",
    "data.loc[data['choose']==1,'return'] = data['close'].shift(-1)/data['close']-1\n",
    "choose = data[(data['choose']==1)]\n",
    "choose = pd.pivot_table(choose, values = 'return', index = ['date'], columns = 'code')\n",
    "choose = pcfo('2021-07-01')\n",
    "choose.iloc[-1,:].dropna()"
   ]
  },
  {
   "cell_type": "code",
   "execution_count": null,
   "metadata": {},
   "outputs": [],
   "source": []
  }
 ],
 "metadata": {
  "kernelspec": {
   "display_name": "Python 3 (ipykernel)",
   "language": "python",
   "name": "python3"
  },
  "language_info": {
   "codemirror_mode": {
    "name": "ipython",
    "version": 3
   },
   "file_extension": ".py",
   "mimetype": "text/x-python",
   "name": "python",
   "nbconvert_exporter": "python",
   "pygments_lexer": "ipython3",
   "version": "3.9.6"
  }
 },
 "nbformat": 4,
 "nbformat_minor": 4
}
